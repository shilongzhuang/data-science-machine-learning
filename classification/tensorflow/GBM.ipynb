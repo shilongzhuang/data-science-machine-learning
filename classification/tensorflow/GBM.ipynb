{
 "cells": [
  {
   "cell_type": "code",
   "execution_count": 8,
   "id": "3d7b40a0-5aa4-4fc3-b497-38b64b760caa",
   "metadata": {},
   "outputs": [],
   "source": [
    "import pandas as pd\n",
    "import numpy as np\n",
    "import matplotlib.pyplot as plt\n",
    "%matplotlib inline\n",
    "import seaborn as sns\n",
    "\n",
    "from tabulate import tabulate\n",
    "import pprint\n",
    "from plydata import define, query, select, head, do, group_by, summarize, arrange, left_join, distinct "
   ]
  },
  {
   "cell_type": "code",
   "execution_count": 9,
   "id": "d9483fd5-08c9-43c2-998e-618a084b6bc9",
   "metadata": {},
   "outputs": [],
   "source": [
    "def print_table(table):\n",
    "    print(tabulate(table, headers='keys', showindex=False, tablefmt='presto'))"
   ]
  },
  {
   "cell_type": "code",
   "execution_count": 1,
   "id": "4bbf8476-9fff-43c9-b6ee-82a4cc065bd1",
   "metadata": {},
   "outputs": [],
   "source": [
    "import tensorflow as tf\n",
    "import tensorflow_decision_forests as tfdf"
   ]
  },
  {
   "cell_type": "code",
   "execution_count": 3,
   "id": "54af7acd-4bbe-43aa-98cc-c4ff8228c47c",
   "metadata": {},
   "outputs": [
    {
     "name": "stdout",
     "output_type": "stream",
     "text": [
      "Found TensorFlow v2.14.0\n",
      "Found TensorFlow Decision Forests v1.6.0\n"
     ]
    }
   ],
   "source": [
    "# Check the version of TensorFlow Decision Forests\n",
    "print(\"Found TensorFlow v\" + tf.__version__)\n",
    "print(\"Found TensorFlow Decision Forests v\" + tfdf.__version__)"
   ]
  },
  {
   "cell_type": "code",
   "execution_count": 5,
   "id": "ea0861bb-e9e8-4c4d-a319-04a0b0cac38a",
   "metadata": {},
   "outputs": [],
   "source": [
    "from sklearn.model_selection import train_test_split\n",
    "from sklearn.metrics import accuracy_score\n",
    "\n",
    "# Load a sample dataset (for example, the Iris dataset)\n",
    "from sklearn.datasets import load_iris"
   ]
  },
  {
   "cell_type": "code",
   "execution_count": 13,
   "id": "9baa7476-25c7-4eff-85f9-526ac3abe0f6",
   "metadata": {},
   "outputs": [],
   "source": [
    "iris = load_iris()\n",
    "data = pd.DataFrame(data=iris.data, columns=iris.feature_names)\n",
    "data['target'] = iris.target"
   ]
  },
  {
   "cell_type": "code",
   "execution_count": 14,
   "id": "853a4eca-0918-4cfd-b8e7-6d1938e3c0a5",
   "metadata": {},
   "outputs": [
    {
     "name": "stdout",
     "output_type": "stream",
     "text": [
      "   sepal length (cm) |   sepal width (cm) |   petal length (cm) |   petal width (cm) |   target\n",
      "---------------------+--------------------+---------------------+--------------------+----------\n",
      "                 5.1 |                3.5 |                 1.4 |                0.2 |        0\n",
      "                 4.9 |                3   |                 1.4 |                0.2 |        0\n",
      "                 4.7 |                3.2 |                 1.3 |                0.2 |        0\n",
      "                 4.6 |                3.1 |                 1.5 |                0.2 |        0\n",
      "                 5   |                3.6 |                 1.4 |                0.2 |        0\n"
     ]
    }
   ],
   "source": [
    "print_table(data >> head())"
   ]
  },
  {
   "cell_type": "code",
   "execution_count": 23,
   "id": "f2bca509-f72f-490f-9ce2-c9fbc740c95a",
   "metadata": {},
   "outputs": [],
   "source": [
    "df = data[data['target'] != 2]\n",
    "\n",
    "# Split the data into features and target\n",
    "X = df.drop('target', axis=1)\n",
    "y = df['target']\n",
    "\n",
    "# Split the data into training and testing sets\n",
    "X_train, X_test, y_train, y_test = train_test_split(X, y, test_size=0.2, random_state=1234)"
   ]
  },
  {
   "cell_type": "code",
   "execution_count": 24,
   "id": "9d2f3207-cf32-4190-8081-5a20c7b90b39",
   "metadata": {},
   "outputs": [
    {
     "data": {
      "text/plain": [
       "9     0\n",
       "51    1\n",
       "29    0\n",
       "88    1\n",
       "75    1\n",
       "     ..\n",
       "76    1\n",
       "53    1\n",
       "38    0\n",
       "83    1\n",
       "47    0\n",
       "Name: target, Length: 80, dtype: int64"
      ]
     },
     "execution_count": 24,
     "metadata": {},
     "output_type": "execute_result"
    }
   ],
   "source": [
    "y_train"
   ]
  },
  {
   "cell_type": "code",
   "execution_count": 30,
   "id": "ab11a958-1d4f-497e-bec0-8962eb76ee1c",
   "metadata": {},
   "outputs": [
    {
     "data": {
      "text/plain": [
       "(80, 4)"
      ]
     },
     "execution_count": 30,
     "metadata": {},
     "output_type": "execute_result"
    }
   ],
   "source": [
    "X_train.shape"
   ]
  },
  {
   "cell_type": "code",
   "execution_count": 26,
   "id": "8931a30b-9f31-4018-a50b-806091e66960",
   "metadata": {},
   "outputs": [
    {
     "data": {
      "text/html": [
       "<div>\n",
       "<style scoped>\n",
       "    .dataframe tbody tr th:only-of-type {\n",
       "        vertical-align: middle;\n",
       "    }\n",
       "\n",
       "    .dataframe tbody tr th {\n",
       "        vertical-align: top;\n",
       "    }\n",
       "\n",
       "    .dataframe thead th {\n",
       "        text-align: right;\n",
       "    }\n",
       "</style>\n",
       "<table border=\"1\" class=\"dataframe\">\n",
       "  <thead>\n",
       "    <tr style=\"text-align: right;\">\n",
       "      <th></th>\n",
       "      <th>target</th>\n",
       "    </tr>\n",
       "  </thead>\n",
       "  <tbody>\n",
       "    <tr>\n",
       "      <th>9</th>\n",
       "      <td>0</td>\n",
       "    </tr>\n",
       "    <tr>\n",
       "      <th>51</th>\n",
       "      <td>1</td>\n",
       "    </tr>\n",
       "    <tr>\n",
       "      <th>29</th>\n",
       "      <td>0</td>\n",
       "    </tr>\n",
       "    <tr>\n",
       "      <th>88</th>\n",
       "      <td>1</td>\n",
       "    </tr>\n",
       "    <tr>\n",
       "      <th>75</th>\n",
       "      <td>1</td>\n",
       "    </tr>\n",
       "    <tr>\n",
       "      <th>...</th>\n",
       "      <td>...</td>\n",
       "    </tr>\n",
       "    <tr>\n",
       "      <th>76</th>\n",
       "      <td>1</td>\n",
       "    </tr>\n",
       "    <tr>\n",
       "      <th>53</th>\n",
       "      <td>1</td>\n",
       "    </tr>\n",
       "    <tr>\n",
       "      <th>38</th>\n",
       "      <td>0</td>\n",
       "    </tr>\n",
       "    <tr>\n",
       "      <th>83</th>\n",
       "      <td>1</td>\n",
       "    </tr>\n",
       "    <tr>\n",
       "      <th>47</th>\n",
       "      <td>0</td>\n",
       "    </tr>\n",
       "  </tbody>\n",
       "</table>\n",
       "<p>80 rows × 1 columns</p>\n",
       "</div>"
      ],
      "text/plain": [
       "    target\n",
       "9        0\n",
       "51       1\n",
       "29       0\n",
       "88       1\n",
       "75       1\n",
       "..     ...\n",
       "76       1\n",
       "53       1\n",
       "38       0\n",
       "83       1\n",
       "47       0\n",
       "\n",
       "[80 rows x 1 columns]"
      ]
     },
     "execution_count": 26,
     "metadata": {},
     "output_type": "execute_result"
    }
   ],
   "source": [
    "pd.DataFrame(y_train)"
   ]
  },
  {
   "cell_type": "code",
   "execution_count": 34,
   "id": "66ca1cf5-4557-40ef-a8d3-f8c3df892664",
   "metadata": {},
   "outputs": [
    {
     "name": "stdout",
     "output_type": "stream",
     "text": [
      "Warning: Some of the feature names have been changed automatically to be compatible with SavedModels because fix_feature_names=True.\n"
     ]
    },
    {
     "name": "stderr",
     "output_type": "stream",
     "text": [
      "WARNING:absl:Some of the feature names have been changed automatically to be compatible with SavedModels because fix_feature_names=True.\n"
     ]
    },
    {
     "name": "stdout",
     "output_type": "stream",
     "text": [
      "Warning: Some of the feature names have been changed automatically to be compatible with SavedModels because fix_feature_names=True.\n"
     ]
    },
    {
     "name": "stderr",
     "output_type": "stream",
     "text": [
      "WARNING:absl:Some of the feature names have been changed automatically to be compatible with SavedModels because fix_feature_names=True.\n"
     ]
    }
   ],
   "source": [
    "# Convert data to TensorFlow dataset\n",
    "train_ds = tfdf.keras.pd_dataframe_to_tf_dataset(pd.concat([X_train, pd.DataFrame(y_train)], ignore_index=False, axis=1), label=\"target\", task=tfdf.keras.Task.CLASSIFICATION)\n",
    "test_ds = tfdf.keras.pd_dataframe_to_tf_dataset(pd.concat([X_test, pd.DataFrame(y_test)], ignore_index=False, axis=1), label=\"target\", task=tfdf.keras.Task.CLASSIFICATION)"
   ]
  },
  {
   "cell_type": "code",
   "execution_count": 62,
   "id": "3fbb3e56-9aa5-4861-b080-068370358d21",
   "metadata": {},
   "outputs": [
    {
     "name": "stdout",
     "output_type": "stream",
     "text": [
      "Use /var/folders/zk/3vgrnry578s2pljd4gcb7f6r0000gn/T/tmp9_llioqd as temporary training directory\n"
     ]
    }
   ],
   "source": [
    "# Create a Random Forest model\n",
    "model = tfdf.keras.RandomForestModel(compute_oob_variable_importances=True, \n",
    "                                     random_seed=8888, \n",
    "                                     num_trees=200, \n",
    "                                     max_depth=5,\n",
    "                                     name='random_forest_model',\n",
    "                                     task=tfdf.keras.Task.CLASSIFICATION\n",
    "                                    )"
   ]
  },
  {
   "cell_type": "code",
   "execution_count": 63,
   "id": "daa27563-03da-4308-8010-d6e4b1081361",
   "metadata": {},
   "outputs": [],
   "source": [
    "metrics = [\n",
    "    tf.keras.metrics.BinaryCrossentropy(name='cross entropy'),\n",
    "    tf.keras.metrics.MeanSquaredError(name='mse'),\n",
    "    tf.keras.metrics.TruePositives(name='tp'),\n",
    "    tf.keras.metrics.FalsePositives(name='fp'),\n",
    "    tf.keras.metrics.TrueNegatives(name='tn'),\n",
    "    tf.keras.metrics.FalseNegatives(name='fn'),\n",
    "    tf.keras.metrics.BinaryAccuracy(name='accuracy'),\n",
    "    tf.keras.metrics.Precision(name='precision'),\n",
    "    tf.keras.metrics.Recall(name='recall'),\n",
    "    tf.keras.metrics.AUC(name='auc'),\n",
    "    tf.keras.metrics.AUC(name='prc', curve='PR')\n",
    "]"
   ]
  },
  {
   "cell_type": "code",
   "execution_count": 64,
   "id": "3a91b705-71f4-4987-8c8e-b0a4a9138515",
   "metadata": {},
   "outputs": [],
   "source": [
    "model.compile(metrics=metrics)"
   ]
  },
  {
   "cell_type": "code",
   "execution_count": 65,
   "id": "1717bdc9-2a15-4e68-be20-a3c597388932",
   "metadata": {},
   "outputs": [
    {
     "name": "stdout",
     "output_type": "stream",
     "text": [
      "Reading training dataset...\n",
      "Training dataset read in 0:00:00.102214. Found 80 examples.\n",
      "Training model...\n",
      "Model trained in 0:00:00.011831\n",
      "Compiling model...\n",
      "Model compiled.\n",
      "CPU times: user 165 ms, sys: 11.4 ms, total: 176 ms\n",
      "Wall time: 166 ms\n"
     ]
    },
    {
     "name": "stderr",
     "output_type": "stream",
     "text": [
      "[INFO 23-11-27 20:51:46.1890 PST kernel.cc:1233] Loading model from path /var/folders/zk/3vgrnry578s2pljd4gcb7f6r0000gn/T/tmp9_llioqd/model/ with prefix 31826d265795432a\n",
      "[INFO 23-11-27 20:51:46.1904 PST decision_forest.cc:660] Model loaded with 200 root(s), 600 node(s), and 2 input feature(s).\n",
      "[INFO 23-11-27 20:51:46.1904 PST abstract_model.cc:1344] Engine \"RandomForestOptPred\" built\n",
      "[INFO 23-11-27 20:51:46.1904 PST kernel.cc:1061] Use fast generic engine\n"
     ]
    },
    {
     "data": {
      "text/plain": [
       "<keras.src.callbacks.History at 0x2953172b0>"
      ]
     },
     "execution_count": 65,
     "metadata": {},
     "output_type": "execute_result"
    }
   ],
   "source": [
    "%%time\n",
    "model.fit(x=train_ds)"
   ]
  },
  {
   "cell_type": "code",
   "execution_count": 66,
   "id": "12a1145b-eb97-4fc7-9d63-26b1b260df93",
   "metadata": {},
   "outputs": [
    {
     "name": "stdout",
     "output_type": "stream",
     "text": [
      "Model: \"random_forest_model\"\n",
      "_________________________________________________________________\n",
      " Layer (type)                Output Shape              Param #   \n",
      "=================================================================\n",
      "=================================================================\n",
      "Total params: 1 (1.00 Byte)\n",
      "Trainable params: 0 (0.00 Byte)\n",
      "Non-trainable params: 1 (1.00 Byte)\n",
      "_________________________________________________________________\n",
      "Type: \"RANDOM_FOREST\"\n",
      "Task: CLASSIFICATION\n",
      "Label: \"__LABEL\"\n",
      "\n",
      "Input Features (4):\n",
      "\tpetal_length_(cm)\n",
      "\tpetal_width_(cm)\n",
      "\tsepal_length_(cm)\n",
      "\tsepal_width_(cm)\n",
      "\n",
      "No weights\n",
      "\n",
      "Variable Importance: INV_MEAN_MIN_DEPTH:\n",
      "    1. \"petal_length_(cm)\"  0.673401 ################\n",
      "    2.  \"petal_width_(cm)\"  0.660066 \n",
      "\n",
      "Variable Importance: MEAN_DECREASE_IN_ACCURACY:\n",
      "    1. \"petal_length_(cm)\"  0.000000 \n",
      "    2.  \"petal_width_(cm)\"  0.000000 \n",
      "    3. \"sepal_length_(cm)\"  0.000000 \n",
      "    4.  \"sepal_width_(cm)\"  0.000000 \n",
      "\n",
      "Variable Importance: MEAN_DECREASE_IN_AP_2_VS_OTHERS:\n",
      "    1.  \"petal_width_(cm)\"  0.000000 ################\n",
      "    2. \"petal_length_(cm)\"  0.000000 \n",
      "    3. \"sepal_length_(cm)\"  0.000000 \n",
      "    4.  \"sepal_width_(cm)\"  0.000000 \n",
      "\n",
      "Variable Importance: MEAN_DECREASE_IN_AUC_2_VS_OTHERS:\n",
      "    1. \"sepal_length_(cm)\"  0.000000 ################\n",
      "    2.  \"sepal_width_(cm)\"  0.000000 ################\n",
      "    3.  \"petal_width_(cm)\" -0.000000 #####\n",
      "    4. \"petal_length_(cm)\" -0.000000 \n",
      "\n",
      "Variable Importance: MEAN_DECREASE_IN_PRAUC_2_VS_OTHERS:\n",
      "    1.  \"petal_width_(cm)\"  0.000000 ################\n",
      "    2. \"petal_length_(cm)\"  0.000000 \n",
      "    3. \"sepal_length_(cm)\"  0.000000 \n",
      "    4.  \"sepal_width_(cm)\"  0.000000 \n",
      "\n",
      "Variable Importance: NUM_AS_ROOT:\n",
      "    1. \"petal_length_(cm)\" 103.000000 ################\n",
      "    2.  \"petal_width_(cm)\" 97.000000 \n",
      "\n",
      "Variable Importance: NUM_NODES:\n",
      "    1. \"petal_length_(cm)\" 103.000000 ################\n",
      "    2.  \"petal_width_(cm)\" 97.000000 \n",
      "\n",
      "Variable Importance: SUM_SCORE:\n",
      "    1. \"petal_length_(cm)\" 5642.002373 ################\n",
      "    2.  \"petal_width_(cm)\" 5307.354283 \n",
      "\n",
      "\n",
      "\n",
      "Winner takes all: true\n",
      "Out-of-bag evaluation: accuracy:1 logloss:0\n",
      "Number of trees: 200\n",
      "Total number of nodes: 600\n",
      "\n",
      "Number of nodes by tree:\n",
      "Count: 200 Average: 3 StdDev: 0\n",
      "Min: 3 Max: 3 Ignored: 0\n",
      "----------------------------------------------\n",
      "[ 3, 3] 200 100.00% 100.00% ##########\n",
      "\n",
      "Depth by leafs:\n",
      "Count: 400 Average: 1 StdDev: 0\n",
      "Min: 1 Max: 1 Ignored: 0\n",
      "----------------------------------------------\n",
      "[ 1, 1] 400 100.00% 100.00% ##########\n",
      "\n",
      "Number of training obs by leaf:\n",
      "Count: 400 Average: 40 StdDev: 5.29103\n",
      "Min: 28 Max: 52 Ignored: 0\n",
      "----------------------------------------------\n",
      "[ 28, 29)  4   1.00%   1.00% #\n",
      "[ 29, 30)  2   0.50%   1.50%\n",
      "[ 30, 31) 12   3.00%   4.50% ##\n",
      "[ 31, 33) 13   3.25%   7.75% ##\n",
      "[ 33, 34) 12   3.00%  10.75% ##\n",
      "[ 34, 35) 19   4.75%  15.50% ###\n",
      "[ 35, 36) 23   5.75%  21.25% ####\n",
      "[ 36, 38) 50  12.50%  33.75% ########\n",
      "[ 38, 39) 33   8.25%  42.00% ######\n",
      "[ 39, 40) 27   6.75%  48.75% #####\n",
      "[ 40, 41) 10   2.50%  51.25% ##\n",
      "[ 41, 43) 60  15.00%  66.25% ##########\n",
      "[ 43, 44) 30   7.50%  73.75% #####\n",
      "[ 44, 45) 20   5.00%  78.75% ###\n",
      "[ 45, 46) 23   5.75%  84.50% ####\n",
      "[ 46, 48) 31   7.75%  92.25% #####\n",
      "[ 48, 49)  4   1.00%  93.25% #\n",
      "[ 49, 50)  9   2.25%  95.50% ##\n",
      "[ 50, 51) 12   3.00%  98.50% ##\n",
      "[ 51, 52]  6   1.50% 100.00% #\n",
      "\n",
      "Attribute in nodes:\n",
      "\t103 : petal_length_(cm) [NUMERICAL]\n",
      "\t97 : petal_width_(cm) [NUMERICAL]\n",
      "\n",
      "Attribute in nodes with depth <= 0:\n",
      "\t103 : petal_length_(cm) [NUMERICAL]\n",
      "\t97 : petal_width_(cm) [NUMERICAL]\n",
      "\n",
      "Attribute in nodes with depth <= 1:\n",
      "\t103 : petal_length_(cm) [NUMERICAL]\n",
      "\t97 : petal_width_(cm) [NUMERICAL]\n",
      "\n",
      "Attribute in nodes with depth <= 2:\n",
      "\t103 : petal_length_(cm) [NUMERICAL]\n",
      "\t97 : petal_width_(cm) [NUMERICAL]\n",
      "\n",
      "Attribute in nodes with depth <= 3:\n",
      "\t103 : petal_length_(cm) [NUMERICAL]\n",
      "\t97 : petal_width_(cm) [NUMERICAL]\n",
      "\n",
      "Attribute in nodes with depth <= 5:\n",
      "\t103 : petal_length_(cm) [NUMERICAL]\n",
      "\t97 : petal_width_(cm) [NUMERICAL]\n",
      "\n",
      "Condition type in nodes:\n",
      "\t200 : HigherCondition\n",
      "Condition type in nodes with depth <= 0:\n",
      "\t200 : HigherCondition\n",
      "Condition type in nodes with depth <= 1:\n",
      "\t200 : HigherCondition\n",
      "Condition type in nodes with depth <= 2:\n",
      "\t200 : HigherCondition\n",
      "Condition type in nodes with depth <= 3:\n",
      "\t200 : HigherCondition\n",
      "Condition type in nodes with depth <= 5:\n",
      "\t200 : HigherCondition\n",
      "Node format: NOT_SET\n",
      "\n",
      "Training OOB:\n",
      "\ttrees: 1, Out-of-bag evaluation: accuracy:1 logloss:0\n",
      "\ttrees: 15, Out-of-bag evaluation: accuracy:1 logloss:0\n",
      "\ttrees: 25, Out-of-bag evaluation: accuracy:1 logloss:0\n",
      "\ttrees: 38, Out-of-bag evaluation: accuracy:1 logloss:0\n",
      "\ttrees: 48, Out-of-bag evaluation: accuracy:1 logloss:0\n",
      "\ttrees: 58, Out-of-bag evaluation: accuracy:1 logloss:0\n",
      "\ttrees: 68, Out-of-bag evaluation: accuracy:1 logloss:0\n",
      "\ttrees: 78, Out-of-bag evaluation: accuracy:1 logloss:0\n",
      "\ttrees: 88, Out-of-bag evaluation: accuracy:1 logloss:0\n",
      "\ttrees: 98, Out-of-bag evaluation: accuracy:1 logloss:0\n",
      "\ttrees: 108, Out-of-bag evaluation: accuracy:1 logloss:0\n",
      "\ttrees: 118, Out-of-bag evaluation: accuracy:1 logloss:0\n",
      "\ttrees: 129, Out-of-bag evaluation: accuracy:1 logloss:0\n",
      "\ttrees: 139, Out-of-bag evaluation: accuracy:1 logloss:0\n",
      "\ttrees: 149, Out-of-bag evaluation: accuracy:1 logloss:0\n",
      "\ttrees: 160, Out-of-bag evaluation: accuracy:1 logloss:0\n",
      "\ttrees: 174, Out-of-bag evaluation: accuracy:1 logloss:0\n",
      "\ttrees: 185, Out-of-bag evaluation: accuracy:1 logloss:0\n",
      "\ttrees: 195, Out-of-bag evaluation: accuracy:1 logloss:0\n",
      "\ttrees: 200, Out-of-bag evaluation: accuracy:1 logloss:0\n",
      "\n"
     ]
    }
   ],
   "source": [
    "model.summary()"
   ]
  },
  {
   "cell_type": "code",
   "execution_count": 67,
   "id": "5282a3ca-1ef3-4bfe-91db-4197b2022270",
   "metadata": {},
   "outputs": [
    {
     "name": "stdout",
     "output_type": "stream",
     "text": [
      "1/1 [==============================] - 0s 280ms/step - loss: 0.0000e+00 - cross entropy: 4.2617e-07 - mse: 3.9027e-13 - tp: 13.0000 - fp: 0.0000e+00 - tn: 7.0000 - fn: 0.0000e+00 - accuracy: 1.0000 - precision: 1.0000 - recall: 1.0000 - auc: 1.0000 - prc: 1.0000\n",
      "{'accuracy': 1.0,\n",
      " 'auc': 1.0,\n",
      " 'cross entropy': 4.2617330109351315e-07,\n",
      " 'fn': 0.0,\n",
      " 'fp': 0.0,\n",
      " 'loss': 0.0,\n",
      " 'mse': 3.9026559219522416e-13,\n",
      " 'prc': 1.0,\n",
      " 'precision': 1.0,\n",
      " 'recall': 1.0,\n",
      " 'tn': 7.0,\n",
      " 'tp': 13.0}\n"
     ]
    }
   ],
   "source": [
    "tf.print(model.evaluate(test_ds, return_dict=True, verbose=1))"
   ]
  },
  {
   "cell_type": "code",
   "execution_count": 68,
   "id": "4ceb7ddf-0d23-43d2-8cef-599376cf7b0f",
   "metadata": {},
   "outputs": [],
   "source": [
    "from IPython.core.magic import register_line_magic\n",
    "from IPython.display import Javascript\n",
    "from IPython.display import display as ipy_display\n",
    "\n",
    "# Some of the model training logs can cover the full\n",
    "# screen if not compressed to a smaller viewport.\n",
    "# This magic allows setting a max height for a cell.\n",
    "@register_line_magic\n",
    "def set_cell_height(size):\n",
    "  ipy_display(\n",
    "      Javascript(\"google.colab.output.setIframeHeight(0, true, {maxHeight: \" +\n",
    "                 str(size) + \"})\"))"
   ]
  },
  {
   "cell_type": "code",
   "execution_count": 69,
   "id": "a7c09cb4-c508-41df-821e-cb2dbdd42c33",
   "metadata": {},
   "outputs": [
    {
     "data": {
      "text/html": [
       "\n",
       "<script src=\"https://d3js.org/d3.v6.min.js\"></script>\n",
       "<div id=\"tree_plot_2f55e2fe7a9144c0b4630c4129646ff4\"></div>\n",
       "<script>\n",
       "/*\n",
       " * Copyright 2021 Google LLC.\n",
       " * Licensed under the Apache License, Version 2.0 (the \"License\");\n",
       " * you may not use this file except in compliance with the License.\n",
       " * You may obtain a copy of the License at\n",
       " *\n",
       " *     https://www.apache.org/licenses/LICENSE-2.0\n",
       " *\n",
       " * Unless required by applicable law or agreed to in writing, software\n",
       " * distributed under the License is distributed on an \"AS IS\" BASIS,\n",
       " * WITHOUT WARRANTIES OR CONDITIONS OF ANY KIND, either express or implied.\n",
       " * See the License for the specific language governing permissions and\n",
       " * limitations under the License.\n",
       " */\n",
       "\n",
       "/**\n",
       " *  Plotting of decision trees generated by TF-DF.\n",
       " *\n",
       " *  A tree is a recursive structure of node objects.\n",
       " *  A node contains one or more of the following components:\n",
       " *\n",
       " *    - A value: Representing the output of the node. If the node is not a leaf,\n",
       " *      the value is only present for analysis i.e. it is not used for\n",
       " *      predictions.\n",
       " *\n",
       " *    - A condition : For non-leaf nodes, the condition (also known as split)\n",
       " *      defines a binary test to branch to the positive or negative child.\n",
       " *\n",
       " *    - An explanation: Generally a plot showing the relation between the label\n",
       " *      and the condition to give insights about the effect of the condition.\n",
       " *\n",
       " *    - Two children : For non-leaf nodes, the children nodes. The first\n",
       " *      children (i.e. \"node.children[0]\") is the negative children (drawn in\n",
       " *      red). The second children is the positive one (drawn in green).\n",
       " *\n",
       " */\n",
       "\n",
       "/**\n",
       " * Plots a single decision tree into a DOM element.\n",
       " * @param {!options} options Dictionary of configurations.\n",
       " * @param {!tree} raw_tree Recursive tree structure.\n",
       " * @param {string} canvas_id Id of the output dom element.\n",
       " */\n",
       "function display_tree(options, raw_tree, canvas_id) {\n",
       "  console.log(options);\n",
       "\n",
       "  // Determine the node placement.\n",
       "  const tree_struct = d3.tree().nodeSize(\n",
       "      [options.node_y_offset, options.node_x_offset])(d3.hierarchy(raw_tree));\n",
       "\n",
       "  // Boundaries of the node placement.\n",
       "  let x_min = Infinity;\n",
       "  let x_max = -x_min;\n",
       "  let y_min = Infinity;\n",
       "  let y_max = -x_min;\n",
       "\n",
       "  tree_struct.each(d => {\n",
       "    if (d.x > x_max) x_max = d.x;\n",
       "    if (d.x < x_min) x_min = d.x;\n",
       "    if (d.y > y_max) y_max = d.y;\n",
       "    if (d.y < y_min) y_min = d.y;\n",
       "  });\n",
       "\n",
       "  // Size of the plot.\n",
       "  const width = y_max - y_min + options.node_x_size + options.margin * 2;\n",
       "  const height = x_max - x_min + options.node_y_size + options.margin * 2 +\n",
       "      options.node_y_offset - options.node_y_size;\n",
       "\n",
       "  const plot = d3.select(canvas_id);\n",
       "\n",
       "  // Tool tip\n",
       "  options.tooltip = plot.append('div')\n",
       "                        .attr('width', 100)\n",
       "                        .attr('height', 100)\n",
       "                        .style('padding', '4px')\n",
       "                        .style('background', '#fff')\n",
       "                        .style('box-shadow', '4px 4px 0px rgba(0,0,0,0.1)')\n",
       "                        .style('border', '1px solid black')\n",
       "                        .style('font-family', 'sans-serif')\n",
       "                        .style('font-size', options.font_size)\n",
       "                        .style('position', 'absolute')\n",
       "                        .style('z-index', '10')\n",
       "                        .attr('pointer-events', 'none')\n",
       "                        .style('display', 'none');\n",
       "\n",
       "  // Create canvas\n",
       "  const svg = plot.append('svg').attr('width', width).attr('height', height);\n",
       "  const graph =\n",
       "      svg.style('overflow', 'visible')\n",
       "          .append('g')\n",
       "          .attr('font-family', 'sans-serif')\n",
       "          .attr('font-size', options.font_size)\n",
       "          .attr(\n",
       "              'transform',\n",
       "              () => `translate(${options.margin},${\n",
       "                  - x_min + options.node_y_offset / 2 + options.margin})`);\n",
       "\n",
       "  // Plot bounding box.\n",
       "  if (options.show_plot_bounding_box) {\n",
       "    svg.append('rect')\n",
       "        .attr('width', width)\n",
       "        .attr('height', height)\n",
       "        .attr('fill', 'none')\n",
       "        .attr('stroke-width', 1.0)\n",
       "        .attr('stroke', 'black');\n",
       "  }\n",
       "\n",
       "  // Draw the edges.\n",
       "  display_edges(options, graph, tree_struct);\n",
       "\n",
       "  // Draw the nodes.\n",
       "  display_nodes(options, graph, tree_struct);\n",
       "}\n",
       "\n",
       "/**\n",
       " * Draw the nodes of the tree.\n",
       " * @param {!options} options Dictionary of configurations.\n",
       " * @param {!graph} graph D3 search handle containing the graph.\n",
       " * @param {!tree_struct} tree_struct Structure of the tree (node placement,\n",
       " *     data, etc.).\n",
       " */\n",
       "function display_nodes(options, graph, tree_struct) {\n",
       "  const nodes = graph.append('g')\n",
       "                    .selectAll('g')\n",
       "                    .data(tree_struct.descendants())\n",
       "                    .join('g')\n",
       "                    .attr('transform', d => `translate(${d.y},${d.x})`);\n",
       "\n",
       "  nodes.append('rect')\n",
       "      .attr('x', 0.5)\n",
       "      .attr('y', 0.5)\n",
       "      .attr('width', options.node_x_size)\n",
       "      .attr('height', options.node_y_size)\n",
       "      .attr('stroke', 'lightgrey')\n",
       "      .attr('stroke-width', 1)\n",
       "      .attr('fill', 'white')\n",
       "      .attr('y', -options.node_y_size / 2);\n",
       "\n",
       "  // Brackets on the right of condition nodes without children.\n",
       "  non_leaf_node_without_children =\n",
       "      nodes.filter(node => node.data.condition != null && node.children == null)\n",
       "          .append('g')\n",
       "          .attr('transform', `translate(${options.node_x_size},0)`);\n",
       "\n",
       "  non_leaf_node_without_children.append('path')\n",
       "      .attr('d', 'M0,0 C 10,0 0,10 10,10')\n",
       "      .attr('fill', 'none')\n",
       "      .attr('stroke-width', 1.0)\n",
       "      .attr('stroke', '#F00');\n",
       "\n",
       "  non_leaf_node_without_children.append('path')\n",
       "      .attr('d', 'M0,0 C 10,0 0,-10 10,-10')\n",
       "      .attr('fill', 'none')\n",
       "      .attr('stroke-width', 1.0)\n",
       "      .attr('stroke', '#0F0');\n",
       "\n",
       "  const node_content = nodes.append('g').attr(\n",
       "      'transform',\n",
       "      `translate(0,${options.node_padding - options.node_y_size / 2})`);\n",
       "\n",
       "  node_content.append(node => create_node_element(options, node));\n",
       "}\n",
       "\n",
       "/**\n",
       " * Creates the D3 content for a single node.\n",
       " * @param {!options} options Dictionary of configurations.\n",
       " * @param {!node} node Node to draw.\n",
       " * @return {!d3} D3 content.\n",
       " */\n",
       "function create_node_element(options, node) {\n",
       "  // Output accumulator.\n",
       "  let output = {\n",
       "    // Content to draw.\n",
       "    content: d3.create('svg:g'),\n",
       "    // Vertical offset to the next element to draw.\n",
       "    vertical_offset: 0\n",
       "  };\n",
       "\n",
       "  // Conditions.\n",
       "  if (node.data.condition != null) {\n",
       "    display_condition(options, node.data.condition, output);\n",
       "  }\n",
       "\n",
       "  // Values.\n",
       "  if (node.data.value != null) {\n",
       "    display_value(options, node.data.value, output);\n",
       "  }\n",
       "\n",
       "  // Explanations.\n",
       "  if (node.data.explanation != null) {\n",
       "    display_explanation(options, node.data.explanation, output);\n",
       "  }\n",
       "\n",
       "  return output.content.node();\n",
       "}\n",
       "\n",
       "\n",
       "/**\n",
       " * Adds a single line of text inside of a node.\n",
       " * @param {!options} options Dictionary of configurations.\n",
       " * @param {string} text Text to display.\n",
       " * @param {!output} output Output display accumulator.\n",
       " */\n",
       "function display_node_text(options, text, output) {\n",
       "  output.content.append('text')\n",
       "      .attr('x', options.node_padding)\n",
       "      .attr('y', output.vertical_offset)\n",
       "      .attr('alignment-baseline', 'hanging')\n",
       "      .text(text);\n",
       "  output.vertical_offset += 10;\n",
       "}\n",
       "\n",
       "/**\n",
       " * Adds a single line of text inside of a node with a tooltip.\n",
       " * @param {!options} options Dictionary of configurations.\n",
       " * @param {string} text Text to display.\n",
       " * @param {string} tooltip Text in the Tooltip.\n",
       " * @param {!output} output Output display accumulator.\n",
       " */\n",
       "function display_node_text_with_tooltip(options, text, tooltip, output) {\n",
       "  const item = output.content.append('text')\n",
       "                   .attr('x', options.node_padding)\n",
       "                   .attr('alignment-baseline', 'hanging')\n",
       "                   .text(text);\n",
       "\n",
       "  add_tooltip(options, item, () => tooltip);\n",
       "  output.vertical_offset += 10;\n",
       "}\n",
       "\n",
       "/**\n",
       " * Adds a tooltip to a dom element.\n",
       " * @param {!options} options Dictionary of configurations.\n",
       " * @param {!dom} target Dom element to equip with a tooltip.\n",
       " * @param {!func} get_content Generates the html content of the tooltip.\n",
       " */\n",
       "function add_tooltip(options, target, get_content) {\n",
       "  function show(d) {\n",
       "    options.tooltip.style('display', 'block');\n",
       "    options.tooltip.html(get_content());\n",
       "  }\n",
       "\n",
       "  function hide(d) {\n",
       "    options.tooltip.style('display', 'none');\n",
       "  }\n",
       "\n",
       "  function move(d) {\n",
       "    options.tooltip.style('display', 'block');\n",
       "    options.tooltip.style('left', (d.pageX + 5) + 'px');\n",
       "    options.tooltip.style('top', d.pageY + 'px');\n",
       "  }\n",
       "\n",
       "  target.on('mouseover', show);\n",
       "  target.on('mouseout', hide);\n",
       "  target.on('mousemove', move);\n",
       "}\n",
       "\n",
       "/**\n",
       " * Adds a condition inside of a node.\n",
       " * @param {!options} options Dictionary of configurations.\n",
       " * @param {!condition} condition Condition to display.\n",
       " * @param {!output} output Output display accumulator.\n",
       " */\n",
       "function display_condition(options, condition, output) {\n",
       "  threshold_format = d3.format('r');\n",
       "\n",
       "  if (condition.type === 'IS_MISSING') {\n",
       "    display_node_text(options, `${condition.attribute} is missing`, output);\n",
       "    return;\n",
       "  }\n",
       "\n",
       "  if (condition.type === 'IS_TRUE') {\n",
       "    display_node_text(options, `${condition.attribute} is true`, output);\n",
       "    return;\n",
       "  }\n",
       "\n",
       "  if (condition.type === 'NUMERICAL_IS_HIGHER_THAN') {\n",
       "    format = d3.format('r');\n",
       "    display_node_text(\n",
       "        options,\n",
       "        `${condition.attribute} >= ${threshold_format(condition.threshold)}`,\n",
       "        output);\n",
       "    return;\n",
       "  }\n",
       "\n",
       "  if (condition.type === 'CATEGORICAL_IS_IN') {\n",
       "    display_node_text_with_tooltip(\n",
       "        options, `${condition.attribute} in [...]`,\n",
       "        `${condition.attribute} in [${condition.mask}]`, output);\n",
       "    return;\n",
       "  }\n",
       "\n",
       "  if (condition.type === 'CATEGORICAL_SET_CONTAINS') {\n",
       "    display_node_text_with_tooltip(\n",
       "        options, `${condition.attribute} intersect [...]`,\n",
       "        `${condition.attribute} intersect [${condition.mask}]`, output);\n",
       "    return;\n",
       "  }\n",
       "\n",
       "  if (condition.type === 'NUMERICAL_SPARSE_OBLIQUE') {\n",
       "    display_node_text_with_tooltip(\n",
       "        options, `Sparse oblique split...`,\n",
       "        `[${condition.attributes}]*[${condition.weights}]>=${\n",
       "            threshold_format(condition.threshold)}`,\n",
       "        output);\n",
       "    return;\n",
       "  }\n",
       "\n",
       "  display_node_text(\n",
       "      options, `Non supported condition ${condition.type}`, output);\n",
       "}\n",
       "\n",
       "/**\n",
       " * Adds a value inside of a node.\n",
       " * @param {!options} options Dictionary of configurations.\n",
       " * @param {!value} value Value to display.\n",
       " * @param {!output} output Output display accumulator.\n",
       " */\n",
       "function display_value(options, value, output) {\n",
       "  if (value.type === 'PROBABILITY') {\n",
       "    const left_margin = 0;\n",
       "    const right_margin = 50;\n",
       "    const plot_width = options.node_x_size - options.node_padding * 2 -\n",
       "        left_margin - right_margin;\n",
       "\n",
       "    let cusum = Array.from(d3.cumsum(value.distribution));\n",
       "    cusum.unshift(0);\n",
       "    const distribution_plot = output.content.append('g').attr(\n",
       "        'transform', `translate(0,${output.vertical_offset + 0.5})`);\n",
       "\n",
       "    distribution_plot.selectAll('rect')\n",
       "        .data(value.distribution)\n",
       "        .join('rect')\n",
       "        .attr('height', 10)\n",
       "        .attr(\n",
       "            'x',\n",
       "            (d, i) =>\n",
       "                (cusum[i] * plot_width + left_margin + options.node_padding))\n",
       "        .attr('width', (d, i) => d * plot_width)\n",
       "        .style('fill', (d, i) => d3.schemeSet1[i]);\n",
       "\n",
       "    const num_examples =\n",
       "        output.content.append('g')\n",
       "            .attr('transform', `translate(0,${output.vertical_offset})`)\n",
       "            .append('text')\n",
       "            .attr('x', options.node_x_size - options.node_padding)\n",
       "            .attr('alignment-baseline', 'hanging')\n",
       "            .attr('text-anchor', 'end')\n",
       "            .text(`(${value.num_examples})`);\n",
       "\n",
       "    const distribution_details = d3.create('ul');\n",
       "    distribution_details.selectAll('li')\n",
       "        .data(value.distribution)\n",
       "        .join('li')\n",
       "        .append('span')\n",
       "        .text(\n",
       "            (d, i) =>\n",
       "                'class ' + i + ': ' + d3.format('.3%')(value.distribution[i]));\n",
       "\n",
       "    add_tooltip(options, distribution_plot, () => distribution_details.html());\n",
       "    add_tooltip(options, num_examples, () => 'Number of examples');\n",
       "\n",
       "    output.vertical_offset += 10;\n",
       "    return;\n",
       "  }\n",
       "\n",
       "  if (value.type === 'REGRESSION') {\n",
       "    display_node_text(\n",
       "        options,\n",
       "        'value: ' + d3.format('r')(value.value) + ` (` +\n",
       "            d3.format('.6')(value.num_examples) + `)`,\n",
       "        output);\n",
       "    return;\n",
       "  }\n",
       "\n",
       "  if (value.type === 'UPLIFT') {\n",
       "    display_node_text(\n",
       "        options,\n",
       "        'effect: ' + d3.format('r')(value.treatment_effect) + ` (` +\n",
       "            d3.format('.6')(value.num_examples) + `)`,\n",
       "        output);\n",
       "    return;\n",
       "  }\n",
       "\n",
       "  display_node_text(options, `Non supported value ${value.type}`, output);\n",
       "}\n",
       "\n",
       "/**\n",
       " * Adds an explanation inside of a node.\n",
       " * @param {!options} options Dictionary of configurations.\n",
       " * @param {!explanation} explanation Explanation to display.\n",
       " * @param {!output} output Output display accumulator.\n",
       " */\n",
       "function display_explanation(options, explanation, output) {\n",
       "  // Margin before the explanation.\n",
       "  output.vertical_offset += 10;\n",
       "\n",
       "  display_node_text(\n",
       "      options, `Non supported explanation ${explanation.type}`, output);\n",
       "}\n",
       "\n",
       "\n",
       "/**\n",
       " * Draw the edges of the tree.\n",
       " * @param {!options} options Dictionary of configurations.\n",
       " * @param {!graph} graph D3 search handle containing the graph.\n",
       " * @param {!tree_struct} tree_struct Structure of the tree (node placement,\n",
       " *     data, etc.).\n",
       " */\n",
       "function display_edges(options, graph, tree_struct) {\n",
       "  // Draw an edge between a parent and a child node with a bezier.\n",
       "  function draw_single_edge(d) {\n",
       "    return 'M' + (d.source.y + options.node_x_size) + ',' + d.source.x + ' C' +\n",
       "        (d.source.y + options.node_x_size + options.edge_rounding) + ',' +\n",
       "        d.source.x + ' ' + (d.target.y - options.edge_rounding) + ',' +\n",
       "        d.target.x + ' ' + d.target.y + ',' + d.target.x;\n",
       "  }\n",
       "\n",
       "  graph.append('g')\n",
       "      .attr('fill', 'none')\n",
       "      .attr('stroke-width', 1.2)\n",
       "      .selectAll('path')\n",
       "      .data(tree_struct.links())\n",
       "      .join('path')\n",
       "      .attr('d', draw_single_edge)\n",
       "      .attr(\n",
       "          'stroke', d => (d.target === d.source.children[0]) ? '#0F0' : '#F00');\n",
       "}\n",
       "\n",
       "display_tree({\"margin\": 10, \"node_x_size\": 160, \"node_y_size\": 28, \"node_x_offset\": 180, \"node_y_offset\": 33, \"font_size\": 10, \"edge_rounding\": 20, \"node_padding\": 2, \"show_plot_bounding_box\": false}, {\"value\": {\"type\": \"PROBABILITY\", \"distribution\": [0.575, 0.425], \"num_examples\": 80.0}, \"condition\": {\"type\": \"NUMERICAL_IS_HIGHER_THAN\", \"attribute\": \"petal_length_(cm)\", \"threshold\": 2.5999999046325684}, \"children\": [{\"value\": {\"type\": \"PROBABILITY\", \"distribution\": [0.0, 1.0], \"num_examples\": 34.0}}, {\"value\": {\"type\": \"PROBABILITY\", \"distribution\": [1.0, 0.0], \"num_examples\": 46.0}}]}, \"#tree_plot_2f55e2fe7a9144c0b4630c4129646ff4\")\n",
       "</script>\n"
      ],
      "text/plain": [
       "<IPython.core.display.HTML object>"
      ]
     },
     "execution_count": 69,
     "metadata": {},
     "output_type": "execute_result"
    }
   ],
   "source": [
    "tfdf.model_plotter.plot_model_in_colab(model, tree_idx=0, max_depth=3)"
   ]
  },
  {
   "cell_type": "code",
   "execution_count": 46,
   "id": "9f35d2e6-7015-4d9c-b1c6-9fbe70cc2876",
   "metadata": {},
   "outputs": [
    {
     "name": "stdout",
     "output_type": "stream",
     "text": [
      "1/1 [==============================] - 0s 30ms/step\n"
     ]
    }
   ],
   "source": [
    "# Evaluate the model on the test set\n",
    "predictions = model.predict(test_ds)"
   ]
  },
  {
   "cell_type": "code",
   "execution_count": 70,
   "id": "0750187a-0c4e-4211-96b0-26c0e5b1fcee",
   "metadata": {},
   "outputs": [
    {
     "data": {
      "text/plain": [
       "(20, 1)"
      ]
     },
     "execution_count": 70,
     "metadata": {},
     "output_type": "execute_result"
    }
   ],
   "source": [
    "predictions.shape"
   ]
  },
  {
   "cell_type": "code",
   "execution_count": 71,
   "id": "ed7bf8c5-8a1b-4df1-ac01-ea02fa3deb4d",
   "metadata": {},
   "outputs": [
    {
     "data": {
      "text/plain": [
       "array([[0.       ],\n",
       "       [0.       ],\n",
       "       [0.9999992],\n",
       "       [0.9999992],\n",
       "       [0.9999992],\n",
       "       [0.9999992],\n",
       "       [0.9999992],\n",
       "       [0.       ],\n",
       "       [0.       ],\n",
       "       [0.       ],\n",
       "       [0.       ],\n",
       "       [0.9999992],\n",
       "       [0.9999992],\n",
       "       [0.9999992],\n",
       "       [0.9999992],\n",
       "       [0.9999992],\n",
       "       [0.9999992],\n",
       "       [0.       ],\n",
       "       [0.9999992],\n",
       "       [0.9999992]], dtype=float32)"
      ]
     },
     "execution_count": 71,
     "metadata": {},
     "output_type": "execute_result"
    }
   ],
   "source": [
    "predictions"
   ]
  },
  {
   "cell_type": "code",
   "execution_count": 80,
   "id": "76c33af3-1cd0-4f2d-ae43-4049e1586f82",
   "metadata": {},
   "outputs": [
    {
     "data": {
      "image/png": "[encoded data removed]",
      "text/plain": [
       "<Figure size 3000x1200 with 1 Axes>"
      ]
     },
     "metadata": {},
     "output_type": "display_data"
    }
   ],
   "source": [
    "import scikitplot as skplt\n",
    "import matplotlib.pyplot as plt\n",
    "\n",
    "skplt.metrics.plot_cumulative_gain(\n",
    "    np.array(y_test),\n",
    "    np.column_stack((1-predictions[:,0],predictions[:,0])),\n",
    "    figsize=(30,12),\n",
    "    title_fontsize=20,\n",
    "    text_fontsize=12\n",
    ")\n",
    "\n",
    "plt.xlim([0,1])\n",
    "plt.ylim([0,1])\n",
    "plt.xticks(np.arange(0,1.1,step=0.1))\n",
    "plt.yticks(np.arange(0,1.1,step=0.1))\n",
    "plt.title(\"Gain Chart\", size=30),\n",
    "plt.rc('lines', linewidth=1.5, color='r')\n",
    "plt.show()"
   ]
  },
  {
   "cell_type": "markdown",
   "id": "9f82a43a-bf38-465a-b30b-ffbbe114ef02",
   "metadata": {},
   "source": [
    "### Gradient Boosted Trees model"
   ]
  },
  {
   "cell_type": "code",
   "execution_count": 83,
   "id": "091b7819-e13f-4ad0-b69e-5e7d24ab1073",
   "metadata": {},
   "outputs": [
    {
     "name": "stdout",
     "output_type": "stream",
     "text": [
      "Use /var/folders/zk/3vgrnry578s2pljd4gcb7f6r0000gn/T/tmpxmn8_z5u as temporary training directory\n"
     ]
    },
    {
     "name": "stderr",
     "output_type": "stream",
     "text": [
      "[WARNING 23-11-27 21:01:40.0508 PST gradient_boosted_trees.cc:1830] \"goss_alpha\" set but \"sampling_method\" not equal to \"GOSS\".\n",
      "[WARNING 23-11-27 21:01:40.0518 PST gradient_boosted_trees.cc:1841] \"goss_beta\" set but \"sampling_method\" not equal to \"GOSS\".\n",
      "[WARNING 23-11-27 21:01:40.0519 PST gradient_boosted_trees.cc:1855] \"selective_gradient_boosting_ratio\" set but \"sampling_method\" not equal to \"SELGB\".\n"
     ]
    }
   ],
   "source": [
    "# Create a Gradient Boosted Trees model\n",
    "model = tfdf.keras.GradientBoostedTreesModel(task=tfdf.keras.Task.CLASSIFICATION)"
   ]
  },
  {
   "cell_type": "code",
   "execution_count": 84,
   "id": "f67749bf-3c96-433f-99d4-c1ad5a5e6d13",
   "metadata": {},
   "outputs": [],
   "source": [
    "metrics = [\n",
    "    tf.keras.metrics.BinaryCrossentropy(name='cross entropy'),\n",
    "    tf.keras.metrics.MeanSquaredError(name='mse'),\n",
    "    tf.keras.metrics.TruePositives(name='tp'),\n",
    "    tf.keras.metrics.FalsePositives(name='fp'),\n",
    "    tf.keras.metrics.TrueNegatives(name='tn'),\n",
    "    tf.keras.metrics.FalseNegatives(name='fn'),\n",
    "    tf.keras.metrics.BinaryAccuracy(name='accuracy'),\n",
    "    tf.keras.metrics.Precision(name='precision'),\n",
    "    tf.keras.metrics.Recall(name='recall'),\n",
    "    tf.keras.metrics.AUC(name='auc'),\n",
    "    tf.keras.metrics.AUC(name='prc', curve='PR')\n",
    "]"
   ]
  },
  {
   "cell_type": "code",
   "execution_count": 85,
   "id": "a15761ad-2a56-469c-81c3-38c367e340b6",
   "metadata": {},
   "outputs": [],
   "source": [
    "model.compile(metrics=metrics)"
   ]
  },
  {
   "cell_type": "code",
   "execution_count": 86,
   "id": "5d64b98f-b62c-4a6d-8d40-e8c7592685b5",
   "metadata": {},
   "outputs": [
    {
     "name": "stdout",
     "output_type": "stream",
     "text": [
      "Reading training dataset...\n",
      "WARNING:tensorflow:5 out of the last 5 calls to <function CoreModel._consumes_training_examples_until_eof at 0x2883e0430> triggered tf.function retracing. Tracing is expensive and the excessive number of tracings could be due to (1) creating @tf.function repeatedly in a loop, (2) passing tensors with different shapes, (3) passing Python objects instead of tensors. For (1), please define your @tf.function outside of the loop. For (2), @tf.function has reduce_retracing=True option that can avoid unnecessary retracing. For (3), please refer to https://www.tensorflow.org/guide/function#controlling_retracing and https://www.tensorflow.org/api_docs/python/tf/function for  more details.\n"
     ]
    },
    {
     "name": "stderr",
     "output_type": "stream",
     "text": [
      "WARNING:tensorflow:5 out of the last 5 calls to <function CoreModel._consumes_training_examples_until_eof at 0x2883e0430> triggered tf.function retracing. Tracing is expensive and the excessive number of tracings could be due to (1) creating @tf.function repeatedly in a loop, (2) passing tensors with different shapes, (3) passing Python objects instead of tensors. For (1), please define your @tf.function outside of the loop. For (2), @tf.function has reduce_retracing=True option that can avoid unnecessary retracing. For (3), please refer to https://www.tensorflow.org/guide/function#controlling_retracing and https://www.tensorflow.org/api_docs/python/tf/function for  more details.\n"
     ]
    },
    {
     "name": "stdout",
     "output_type": "stream",
     "text": [
      "Training dataset read in 0:00:00.105583. Found 80 examples.\n",
      "Training model...\n",
      "Model trained in 0:00:00.150409\n",
      "Compiling model...\n",
      "Model compiled.\n"
     ]
    },
    {
     "name": "stderr",
     "output_type": "stream",
     "text": [
      "[INFO 23-11-27 21:01:40.9030 PST kernel.cc:1233] Loading model from path /var/folders/zk/3vgrnry578s2pljd4gcb7f6r0000gn/T/tmpxmn8_z5u/model/ with prefix a22f2c860a764418\n",
      "[INFO 23-11-27 21:01:40.9094 PST abstract_model.cc:1344] Engine \"GradientBoostedTreesQuickScorerExtended\" built\n",
      "[INFO 23-11-27 21:01:40.9094 PST kernel.cc:1061] Use fast generic engine\n"
     ]
    },
    {
     "name": "stdout",
     "output_type": "stream",
     "text": [
      "CPU times: user 251 ms, sys: 199 ms, total: 450 ms\n",
      "Wall time: 309 ms\n"
     ]
    },
    {
     "data": {
      "text/plain": [
       "<keras.src.callbacks.History at 0x29d67d880>"
      ]
     },
     "execution_count": 86,
     "metadata": {},
     "output_type": "execute_result"
    }
   ],
   "source": [
    "%%time\n",
    "model.fit(x=train_ds)"
   ]
  },
  {
   "cell_type": "code",
   "execution_count": 87,
   "id": "625a1eff-9088-4ba5-bf01-301e9fa2c650",
   "metadata": {},
   "outputs": [
    {
     "name": "stdout",
     "output_type": "stream",
     "text": [
      "1/1 [==============================] - 0s 266ms/step - loss: 0.0000e+00 - cross entropy: 2.9266e-06 - mse: 1.5035e-11 - tp: 13.0000 - fp: 0.0000e+00 - tn: 7.0000 - fn: 0.0000e+00 - accuracy: 1.0000 - precision: 1.0000 - recall: 1.0000 - auc: 1.0000 - prc: 1.0000\n",
      "{'accuracy': 1.0,\n",
      " 'auc': 1.0,\n",
      " 'cross entropy': 2.9265952434798237e-06,\n",
      " 'fn': 0.0,\n",
      " 'fp': 0.0,\n",
      " 'loss': 0.0,\n",
      " 'mse': 1.503452744244793e-11,\n",
      " 'prc': 1.0,\n",
      " 'precision': 1.0,\n",
      " 'recall': 1.0,\n",
      " 'tn': 7.0,\n",
      " 'tp': 13.0}\n"
     ]
    }
   ],
   "source": [
    "tf.print(model.evaluate(test_ds, return_dict=True, verbose=1))"
   ]
  },
  {
   "cell_type": "code",
   "execution_count": null,
   "id": "c6f9091d-0b30-489a-b0cf-ac14bfecf051",
   "metadata": {},
   "outputs": [],
   "source": []
  },
  {
   "cell_type": "code",
   "execution_count": null,
   "id": "52761ffa-2341-4631-a13f-f5bac4e87818",
   "metadata": {},
   "outputs": [],
   "source": []
  }
 ],
 "metadata": {
  "kernelspec": {
   "display_name": "Python 3 (ipykernel)",
   "language": "python",
   "name": "python3"
  },
  "language_info": {
   "codemirror_mode": {
    "name": "ipython",
    "version": 3
   },
   "file_extension": ".py",
   "mimetype": "text/x-python",
   "name": "python",
   "nbconvert_exporter": "python",
   "pygments_lexer": "ipython3",
   "version": "3.9.16"
  }
 },
 "nbformat": 4,
 "nbformat_minor": 5
}
