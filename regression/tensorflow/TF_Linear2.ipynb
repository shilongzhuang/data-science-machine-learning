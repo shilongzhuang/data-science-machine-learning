{
 "cells": [
  {
   "cell_type": "code",
   "execution_count": 92,
   "metadata": {},
   "outputs": [],
   "source": [
    "import tensorflow as tf\n",
    "import numpy as np\n",
    "import pandas as pd\n",
    "import seaborn as sns\n",
    "from sklearn import metrics\n",
    "from sklearn.model_selection import train_test_split\n",
    "import matplotlib.pyplot as plt"
   ]
  },
  {
   "cell_type": "code",
   "execution_count": 23,
   "metadata": {},
   "outputs": [],
   "source": [
    "np.random.seed(77)\n",
    "tf.set_random_seed(77)\n",
    "n_samples = 100000\n",
    "n_features = 1\n",
    "n_output = 1\n",
    "dtype = 'float32'\n",
    "minval = -1\n",
    "maxval = 1\n",
    "\n",
    "slope = np.array([[0.5]], dtype=dtype)  # n_features * n_ouput\n",
    "intercept = np.array([[5]], dtype=dtype) # n_output\n",
    "noise = np.random.normal(0, 0.2, size=[n_samples, n_output]).astype(dtype)\n",
    "\n",
    "X = np.linspace(minval, maxval, n_samples * n_features, dtype=dtype).reshape([n_samples, n_features])\n",
    "y = np.matmul(X, slope) + intercept + noise"
   ]
  },
  {
   "cell_type": "code",
   "execution_count": 30,
   "metadata": {},
   "outputs": [],
   "source": [
    "X_df = pd.DataFrame(data=X, columns=['X Data'])\n",
    "y_df = pd.DataFrame(data=y, columns=['y'])"
   ]
  },
  {
   "cell_type": "code",
   "execution_count": 31,
   "metadata": {},
   "outputs": [],
   "source": [
    "my_data = pd.concat([X_df, y_df], axis=1)"
   ]
  },
  {
   "cell_type": "code",
   "execution_count": 32,
   "metadata": {},
   "outputs": [
    {
     "data": {
      "text/html": [
       "<div>\n",
       "<style scoped>\n",
       "    .dataframe tbody tr th:only-of-type {\n",
       "        vertical-align: middle;\n",
       "    }\n",
       "\n",
       "    .dataframe tbody tr th {\n",
       "        vertical-align: top;\n",
       "    }\n",
       "\n",
       "    .dataframe thead th {\n",
       "        text-align: right;\n",
       "    }\n",
       "</style>\n",
       "<table border=\"1\" class=\"dataframe\">\n",
       "  <thead>\n",
       "    <tr style=\"text-align: right;\">\n",
       "      <th></th>\n",
       "      <th>X Data</th>\n",
       "      <th>y</th>\n",
       "    </tr>\n",
       "  </thead>\n",
       "  <tbody>\n",
       "    <tr>\n",
       "      <th>0</th>\n",
       "      <td>-1.00000</td>\n",
       "      <td>4.544889</td>\n",
       "    </tr>\n",
       "    <tr>\n",
       "      <th>1</th>\n",
       "      <td>-0.99998</td>\n",
       "      <td>4.632316</td>\n",
       "    </tr>\n",
       "    <tr>\n",
       "      <th>2</th>\n",
       "      <td>-0.99996</td>\n",
       "      <td>4.384068</td>\n",
       "    </tr>\n",
       "    <tr>\n",
       "      <th>3</th>\n",
       "      <td>-0.99994</td>\n",
       "      <td>4.581592</td>\n",
       "    </tr>\n",
       "    <tr>\n",
       "      <th>4</th>\n",
       "      <td>-0.99992</td>\n",
       "      <td>4.593336</td>\n",
       "    </tr>\n",
       "  </tbody>\n",
       "</table>\n",
       "</div>"
      ],
      "text/plain": [
       "    X Data         y\n",
       "0 -1.00000  4.544889\n",
       "1 -0.99998  4.632316\n",
       "2 -0.99996  4.384068\n",
       "3 -0.99994  4.581592\n",
       "4 -0.99992  4.593336"
      ]
     },
     "execution_count": 32,
     "metadata": {},
     "output_type": "execute_result"
    }
   ],
   "source": [
    "my_data.head()"
   ]
  },
  {
   "cell_type": "code",
   "execution_count": 37,
   "metadata": {},
   "outputs": [
    {
     "data": {
      "text/plain": [
       "<matplotlib.axes._subplots.AxesSubplot at 0x229fae64828>"
      ]
     },
     "execution_count": 37,
     "metadata": {},
     "output_type": "execute_result"
    },
    {
     "data": {
      "image/png": "[encoded data removed]",
      "text/plain": [
       "<matplotlib.figure.Figure at 0x229fae3c400>"
      ]
     },
     "metadata": {},
     "output_type": "display_data"
    }
   ],
   "source": [
    "my_data.sample(200).plot(kind='scatter', x = 'X Data', y ='y')"
   ]
  },
  {
   "cell_type": "code",
   "execution_count": 61,
   "metadata": {},
   "outputs": [],
   "source": [
    "# Hyperparamters\n",
    "learning_rate = 0.01\n",
    "batch_size = 8\n",
    "batches = 1000\n",
    "display_size = 50"
   ]
  },
  {
   "cell_type": "code",
   "execution_count": 38,
   "metadata": {},
   "outputs": [],
   "source": [
    "W = tf.Variable(tf.random_normal([n_features, n_output]), name ='Weights')\n",
    "b = tf.Variable(tf.random_normal([n_output]), name = 'Biases')"
   ]
  },
  {
   "cell_type": "code",
   "execution_count": 69,
   "metadata": {},
   "outputs": [],
   "source": [
    "tf_X = tf.placeholder(tf.float32, shape=[None, n_features])\n",
    "tf_y = tf.placeholder(tf.float32, shape=[None, n_output])\n",
    "\n",
    "output =  tf.add(tf.matmul(tf_X, W), b)\n",
    "\n",
    "cost = tf.reduce_mean(tf.square(tf.subtract(tf_y, output)))\n",
    "optimizer = tf.train.GradientDescentOptimizer(learning_rate).minimize(cost)"
   ]
  },
  {
   "cell_type": "code",
   "execution_count": 71,
   "metadata": {},
   "outputs": [],
   "source": [
    "session = tf.Session()\n",
    "init = tf.global_variables_initializer()\n",
    "session.run(init)"
   ]
  },
  {
   "cell_type": "code",
   "execution_count": 72,
   "metadata": {},
   "outputs": [
    {
     "name": "stdout",
     "output_type": "stream",
     "text": [
      "Epoch : 0 Cost : 19.464441299438477 Cost: 19.464441299438477 W: [[1.0378408]] b : [0.44820458]\n",
      "Epoch : 50 Cost : 2.849606513977051 Cost: 2.849606513977051 W: [[0.91406965]] b : [3.3363984]\n",
      "Epoch : 100 Cost : 0.45503106713294983 Cost: 0.45503106713294983 W: [[0.7483593]] b : [4.405706]\n",
      "Epoch : 150 Cost : 0.1448119431734085 Cost: 0.1448119431734085 W: [[0.67943]] b : [4.786834]\n",
      "Epoch : 200 Cost : 0.05403241515159607 Cost: 0.05403241515159607 W: [[0.63310754]] b : [4.9165773]\n",
      "Epoch : 250 Cost : 0.009653082117438316 Cost: 0.009653082117438316 W: [[0.58978486]] b : [4.9738317]\n",
      "Epoch : 300 Cost : 0.02749369479715824 Cost: 0.02749369479715824 W: [[0.5641572]] b : [5.002465]\n",
      "Epoch : 350 Cost : 0.029855877161026 Cost: 0.029855877161026 W: [[0.5482796]] b : [5.002564]\n",
      "Epoch : 400 Cost : 0.01632414199411869 Cost: 0.01632414199411869 W: [[0.53293765]] b : [4.9956303]\n",
      "Epoch : 450 Cost : 0.057382360100746155 Cost: 0.057382360100746155 W: [[0.5232052]] b : [5.0044127]\n",
      "Epoch : 500 Cost : 0.11094767600297928 Cost: 0.11094767600297928 W: [[0.5199981]] b : [5.001409]\n",
      "Epoch : 550 Cost : 0.013668330386281013 Cost: 0.013668330386281013 W: [[0.51018184]] b : [5.0083184]\n",
      "Epoch : 600 Cost : 0.044783078134059906 Cost: 0.044783078134059906 W: [[0.51277786]] b : [4.997579]\n",
      "Epoch : 650 Cost : 0.02074228972196579 Cost: 0.02074228972196579 W: [[0.518394]] b : [4.99846]\n",
      "Epoch : 700 Cost : 0.03385578468441963 Cost: 0.03385578468441963 W: [[0.5123727]] b : [4.998213]\n",
      "Epoch : 750 Cost : 0.03746949881315231 Cost: 0.03746949881315231 W: [[0.5092995]] b : [4.9958873]\n",
      "Epoch : 800 Cost : 0.07093892246484756 Cost: 0.07093892246484756 W: [[0.5106736]] b : [4.9961066]\n",
      "Epoch : 850 Cost : 0.015724383294582367 Cost: 0.015724383294582367 W: [[0.50250727]] b : [4.9955707]\n",
      "Epoch : 900 Cost : 0.044035814702510834 Cost: 0.044035814702510834 W: [[0.50024325]] b : [4.9939194]\n",
      "Epoch : 950 Cost : 0.03121079131960869 Cost: 0.03121079131960869 W: [[0.50736594]] b : [4.99893]\n"
     ]
    }
   ],
   "source": [
    "for i in range(batches):\n",
    "    \n",
    "    rand_ind = np.random.randint(n_samples, size=batch_size)\n",
    "    \n",
    "    train_feed = {tf_X: X[rand_ind], tf_y: y[rand_ind]}\n",
    "    \n",
    "    _, _output, _cost = session.run([optimizer, output, cost], feed_dict=train_feed)\n",
    "    \n",
    "    if i % display_size == 0:\n",
    "        print('Epoch : {}'.format(i), 'Cost : {}'.format(_cost), 'Cost: {}'.format(_cost), 'W: {}'.format(session.run(W)), 'b : {}'.format(session.run(b)))"
   ]
  },
  {
   "cell_type": "code",
   "execution_count": 73,
   "metadata": {},
   "outputs": [
    {
     "data": {
      "text/plain": [
       "array([[0.4970326]], dtype=float32)"
      ]
     },
     "execution_count": 73,
     "metadata": {},
     "output_type": "execute_result"
    }
   ],
   "source": [
    "session.run(W)"
   ]
  },
  {
   "cell_type": "code",
   "execution_count": 74,
   "metadata": {},
   "outputs": [
    {
     "data": {
      "text/plain": [
       "array([5.0000114], dtype=float32)"
      ]
     },
     "execution_count": 74,
     "metadata": {},
     "output_type": "execute_result"
    }
   ],
   "source": [
    "session.run(b)"
   ]
  },
  {
   "cell_type": "code",
   "execution_count": 76,
   "metadata": {},
   "outputs": [
    {
     "data": {
      "text/plain": [
       "0.020547565"
      ]
     },
     "execution_count": 76,
     "metadata": {},
     "output_type": "execute_result"
    }
   ],
   "source": [
    "session.run(cost, feed_dict=train_feed)"
   ]
  },
  {
   "cell_type": "code",
   "execution_count": 80,
   "metadata": {},
   "outputs": [],
   "source": [
    "train_pred = session.run(output, feed_dict={tf_X: X})"
   ]
  },
  {
   "cell_type": "code",
   "execution_count": 85,
   "metadata": {},
   "outputs": [
    {
     "data": {
      "text/plain": [
       "[<matplotlib.lines.Line2D at 0x229a469d9b0>]"
      ]
     },
     "execution_count": 85,
     "metadata": {},
     "output_type": "execute_result"
    },
    {
     "data": {
      "image/png": "[encoded data removed]",
      "text/plain": [
       "<matplotlib.figure.Figure at 0x229a4683128>"
      ]
     },
     "metadata": {},
     "output_type": "display_data"
    }
   ],
   "source": [
    "my_data.sample(250).plot(kind='scatter', x ='X Data', y= 'y')\n",
    "plt.plot(X, train_pred, 'r')"
   ]
  },
  {
   "cell_type": "code",
   "execution_count": 88,
   "metadata": {},
   "outputs": [
    {
     "data": {
      "text/plain": [
       "<matplotlib.axes._subplots.AxesSubplot at 0x229a533f390>"
      ]
     },
     "execution_count": 88,
     "metadata": {},
     "output_type": "execute_result"
    },
    {
     "data": {
      "image/png": "[encoded data removed]",
      "text/plain": [
       "<matplotlib.figure.Figure at 0x229a533f898>"
      ]
     },
     "metadata": {},
     "output_type": "display_data"
    }
   ],
   "source": [
    "sns.distplot(np.random.normal(0,1, 1000))"
   ]
  },
  {
   "cell_type": "code",
   "execution_count": 89,
   "metadata": {},
   "outputs": [
    {
     "data": {
      "text/plain": [
       "_NumericColumn(key='x', shape=(1,), default_value=None, dtype=tf.float32, normalizer_fn=None)"
      ]
     },
     "execution_count": 89,
     "metadata": {},
     "output_type": "execute_result"
    }
   ],
   "source": [
    "tf.feature_column.numeric_column('x', shape=[1])"
   ]
  },
  {
   "cell_type": "code",
   "execution_count": 96,
   "metadata": {},
   "outputs": [],
   "source": [
    "feature_columns = [tf.feature_column.numeric_column('tf_X', shape=[1])]"
   ]
  },
  {
   "cell_type": "code",
   "execution_count": 97,
   "metadata": {},
   "outputs": [
    {
     "name": "stdout",
     "output_type": "stream",
     "text": [
      "INFO:tensorflow:Using default config.\n",
      "WARNING:tensorflow:Using temporary folder as model directory: C:\\Users\\shilongz\\AppData\\Local\\Temp\\tmp_0a0ihqu\n",
      "INFO:tensorflow:Using config: {'_model_dir': 'C:\\\\Users\\\\shilongz\\\\AppData\\\\Local\\\\Temp\\\\tmp_0a0ihqu', '_tf_random_seed': None, '_save_summary_steps': 100, '_save_checkpoints_steps': None, '_save_checkpoints_secs': 600, '_session_config': None, '_keep_checkpoint_max': 5, '_keep_checkpoint_every_n_hours': 10000, '_log_step_count_steps': 100, '_train_distribute': None, '_service': None, '_cluster_spec': <tensorflow.python.training.server_lib.ClusterSpec object at 0x00000229A5A67240>, '_task_type': 'worker', '_task_id': 0, '_global_id_in_cluster': 0, '_master': '', '_evaluation_master': '', '_is_chief': True, '_num_ps_replicas': 0, '_num_worker_replicas': 1}\n"
     ]
    }
   ],
   "source": [
    "estimator = tf.estimator.LinearRegressor(feature_columns=feature_columns )"
   ]
  },
  {
   "cell_type": "code",
   "execution_count": 98,
   "metadata": {},
   "outputs": [],
   "source": [
    "X_train, X_test, y_train, y_test = train_test_split(X, y, test_size=0.2, random_state=77)"
   ]
  },
  {
   "cell_type": "code",
   "execution_count": 99,
   "metadata": {},
   "outputs": [],
   "source": [
    "input_fn = tf.estimator.inputs.numpy_input_fn({'tf_X': X_train}, y_train, batch_size=8,\n",
    "                                             num_epochs=None, shuffle=True)"
   ]
  },
  {
   "cell_type": "code",
   "execution_count": 100,
   "metadata": {},
   "outputs": [],
   "source": [
    "train_input_fn = tf.estimator.inputs.numpy_input_fn({'tf_X': X_train}, y_train, batch_size=8, \n",
    "                                                    num_epochs=1000, shuffle=False)"
   ]
  },
  {
   "cell_type": "code",
   "execution_count": 101,
   "metadata": {},
   "outputs": [],
   "source": [
    "test_input_fn = tf.estimator.inputs.numpy_input_fn({'tf_X': X_test}, y_test, batch_size=8, \n",
    "                                                    num_epochs=1000, shuffle=False)"
   ]
  },
  {
   "cell_type": "code",
   "execution_count": 102,
   "metadata": {},
   "outputs": [
    {
     "name": "stdout",
     "output_type": "stream",
     "text": [
      "INFO:tensorflow:Calling model_fn.\n",
      "INFO:tensorflow:Done calling model_fn.\n",
      "INFO:tensorflow:Create CheckpointSaverHook.\n",
      "INFO:tensorflow:Graph was finalized.\n",
      "INFO:tensorflow:Running local_init_op.\n",
      "INFO:tensorflow:Done running local_init_op.\n",
      "INFO:tensorflow:Saving checkpoints for 1 into C:\\Users\\shilongz\\AppData\\Local\\Temp\\tmp_0a0ihqu\\model.ckpt.\n",
      "INFO:tensorflow:loss = 192.03497, step = 0\n",
      "INFO:tensorflow:global_step/sec: 530.828\n",
      "INFO:tensorflow:loss = 32.587166, step = 100 (0.189 sec)\n",
      "INFO:tensorflow:global_step/sec: 773.253\n",
      "INFO:tensorflow:loss = 7.378251, step = 200 (0.129 sec)\n",
      "INFO:tensorflow:global_step/sec: 730.645\n",
      "INFO:tensorflow:loss = 3.1881912, step = 300 (0.138 sec)\n",
      "INFO:tensorflow:global_step/sec: 725.344\n",
      "INFO:tensorflow:loss = 0.71444345, step = 400 (0.137 sec)\n",
      "INFO:tensorflow:Saving checkpoints for 500 into C:\\Users\\shilongz\\AppData\\Local\\Temp\\tmp_0a0ihqu\\model.ckpt.\n",
      "INFO:tensorflow:Loss for final step: 0.46003374.\n"
     ]
    },
    {
     "data": {
      "text/plain": [
       "<tensorflow.python.estimator.canned.linear.LinearRegressor at 0x229a5bad9b0>"
      ]
     },
     "execution_count": 102,
     "metadata": {},
     "output_type": "execute_result"
    }
   ],
   "source": [
    "estimator.train(input_fn=input_fn, steps=500)"
   ]
  },
  {
   "cell_type": "code",
   "execution_count": 103,
   "metadata": {},
   "outputs": [
    {
     "name": "stdout",
     "output_type": "stream",
     "text": [
      "INFO:tensorflow:Calling model_fn.\n",
      "INFO:tensorflow:Done calling model_fn.\n",
      "INFO:tensorflow:Starting evaluation at 2018-05-07-04:07:41\n",
      "INFO:tensorflow:Graph was finalized.\n",
      "INFO:tensorflow:Restoring parameters from C:\\Users\\shilongz\\AppData\\Local\\Temp\\tmp_0a0ihqu\\model.ckpt-500\n",
      "INFO:tensorflow:Running local_init_op.\n",
      "INFO:tensorflow:Done running local_init_op.\n",
      "INFO:tensorflow:Evaluation [100/1000]\n",
      "INFO:tensorflow:Evaluation [200/1000]\n",
      "INFO:tensorflow:Evaluation [300/1000]\n",
      "INFO:tensorflow:Evaluation [400/1000]\n",
      "INFO:tensorflow:Evaluation [500/1000]\n",
      "INFO:tensorflow:Evaluation [600/1000]\n",
      "INFO:tensorflow:Evaluation [700/1000]\n",
      "INFO:tensorflow:Evaluation [800/1000]\n",
      "INFO:tensorflow:Evaluation [900/1000]\n",
      "INFO:tensorflow:Evaluation [1000/1000]\n",
      "INFO:tensorflow:Finished evaluation at 2018-05-07-04:07:42\n",
      "INFO:tensorflow:Saving dict for global step 500: average_loss = 0.069565155, global_step = 500, loss = 0.55652124\n"
     ]
    }
   ],
   "source": [
    "train_metrics = estimator.evaluate(input_fn=train_input_fn, steps=1000)"
   ]
  },
  {
   "cell_type": "code",
   "execution_count": 106,
   "metadata": {},
   "outputs": [
    {
     "data": {
      "text/plain": [
       "{'average_loss': 0.069565155, 'global_step': 500, 'loss': 0.55652124}"
      ]
     },
     "execution_count": 106,
     "metadata": {},
     "output_type": "execute_result"
    }
   ],
   "source": [
    "train_metrics"
   ]
  },
  {
   "cell_type": "code",
   "execution_count": 107,
   "metadata": {},
   "outputs": [
    {
     "name": "stdout",
     "output_type": "stream",
     "text": [
      "INFO:tensorflow:Calling model_fn.\n",
      "INFO:tensorflow:Done calling model_fn.\n",
      "INFO:tensorflow:Starting evaluation at 2018-05-07-04:09:30\n",
      "INFO:tensorflow:Graph was finalized.\n",
      "INFO:tensorflow:Restoring parameters from C:\\Users\\shilongz\\AppData\\Local\\Temp\\tmp_0a0ihqu\\model.ckpt-500\n",
      "INFO:tensorflow:Running local_init_op.\n",
      "INFO:tensorflow:Done running local_init_op.\n",
      "INFO:tensorflow:Evaluation [100/1000]\n",
      "INFO:tensorflow:Evaluation [200/1000]\n",
      "INFO:tensorflow:Evaluation [300/1000]\n",
      "INFO:tensorflow:Evaluation [400/1000]\n",
      "INFO:tensorflow:Evaluation [500/1000]\n",
      "INFO:tensorflow:Evaluation [600/1000]\n",
      "INFO:tensorflow:Evaluation [700/1000]\n",
      "INFO:tensorflow:Evaluation [800/1000]\n",
      "INFO:tensorflow:Evaluation [900/1000]\n",
      "INFO:tensorflow:Evaluation [1000/1000]\n",
      "INFO:tensorflow:Finished evaluation at 2018-05-07-04:09:31\n",
      "INFO:tensorflow:Saving dict for global step 500: average_loss = 0.070496194, global_step = 500, loss = 0.56396955\n"
     ]
    }
   ],
   "source": [
    "test_metrics = estimator.evaluate(input_fn=test_input_fn, steps=1000)"
   ]
  },
  {
   "cell_type": "code",
   "execution_count": 122,
   "metadata": {},
   "outputs": [],
   "source": [
    "brand_new_data = np.linspace(-1,1,10)\n",
    "\n",
    "pred_input_fn = tf.estimator.inputs.numpy_input_fn({'tf_X': brand_new_data}, shuffle=False)"
   ]
  },
  {
   "cell_type": "code",
   "execution_count": 126,
   "metadata": {},
   "outputs": [
    {
     "data": {
      "text/plain": [
       "array([-1.        , -0.77777778, -0.55555556, -0.33333333, -0.11111111,\n",
       "        0.11111111,  0.33333333,  0.55555556,  0.77777778,  1.        ])"
      ]
     },
     "execution_count": 126,
     "metadata": {},
     "output_type": "execute_result"
    }
   ],
   "source": [
    "brand_new_data"
   ]
  },
  {
   "cell_type": "code",
   "execution_count": 123,
   "metadata": {},
   "outputs": [
    {
     "name": "stdout",
     "output_type": "stream",
     "text": [
      "INFO:tensorflow:Calling model_fn.\n",
      "INFO:tensorflow:Done calling model_fn.\n",
      "INFO:tensorflow:Graph was finalized.\n",
      "INFO:tensorflow:Restoring parameters from C:\\Users\\shilongz\\AppData\\Local\\Temp\\tmp_0a0ihqu\\model.ckpt-500\n",
      "INFO:tensorflow:Running local_init_op.\n",
      "INFO:tensorflow:Done running local_init_op.\n"
     ]
    },
    {
     "data": {
      "text/plain": [
       "[{'predictions': array([4.3385067], dtype=float32)},\n",
       " {'predictions': array([4.4475045], dtype=float32)},\n",
       " {'predictions': array([4.556502], dtype=float32)},\n",
       " {'predictions': array([4.6654997], dtype=float32)},\n",
       " {'predictions': array([4.7744975], dtype=float32)},\n",
       " {'predictions': array([4.883495], dtype=float32)},\n",
       " {'predictions': array([4.9924927], dtype=float32)},\n",
       " {'predictions': array([5.1014905], dtype=float32)},\n",
       " {'predictions': array([5.210488], dtype=float32)},\n",
       " {'predictions': array([5.3194857], dtype=float32)}]"
      ]
     },
     "execution_count": 123,
     "metadata": {},
     "output_type": "execute_result"
    }
   ],
   "source": [
    "list(estimator.predict(input_fn= pred_input_fn))"
   ]
  },
  {
   "cell_type": "code",
   "execution_count": 124,
   "metadata": {},
   "outputs": [
    {
     "name": "stdout",
     "output_type": "stream",
     "text": [
      "INFO:tensorflow:Calling model_fn.\n",
      "INFO:tensorflow:Done calling model_fn.\n",
      "INFO:tensorflow:Graph was finalized.\n",
      "INFO:tensorflow:Restoring parameters from C:\\Users\\shilongz\\AppData\\Local\\Temp\\tmp_0a0ihqu\\model.ckpt-500\n",
      "INFO:tensorflow:Running local_init_op.\n",
      "INFO:tensorflow:Done running local_init_op.\n"
     ]
    }
   ],
   "source": [
    "predictions = []\n",
    "\n",
    "for pred in list(estimator.predict(input_fn= pred_input_fn)):\n",
    "    predictions.append(pred['predictions'])"
   ]
  },
  {
   "cell_type": "code",
   "execution_count": 125,
   "metadata": {},
   "outputs": [
    {
     "data": {
      "text/plain": [
       "[<matplotlib.lines.Line2D at 0x229a781e2b0>]"
      ]
     },
     "execution_count": 125,
     "metadata": {},
     "output_type": "execute_result"
    },
    {
     "data": {
      "image/png": "[encoded data removed]",
      "text/plain": [
       "<matplotlib.figure.Figure at 0x229a781e470>"
      ]
     },
     "metadata": {},
     "output_type": "display_data"
    }
   ],
   "source": [
    "my_data.sample(250).plot(kind='scatter', x= 'X Data', y='y')\n",
    "plt.plot(brand_new_data, predictions, 'r')"
   ]
  },
  {
   "cell_type": "code",
   "execution_count": null,
   "metadata": {},
   "outputs": [],
   "source": []
  },
  {
   "cell_type": "code",
   "execution_count": null,
   "metadata": {},
   "outputs": [],
   "source": []
  }
 ],
 "metadata": {
  "kernelspec": {
   "display_name": "Python 3 (ipykernel)",
   "language": "python",
   "name": "python3"
  },
  "language_info": {
   "codemirror_mode": {
    "name": "ipython",
    "version": 3
   },
   "file_extension": ".py",
   "mimetype": "text/x-python",
   "name": "python",
   "nbconvert_exporter": "python",
   "pygments_lexer": "ipython3",
   "version": "3.9.16"
  }
 },
 "nbformat": 4,
 "nbformat_minor": 2
}
