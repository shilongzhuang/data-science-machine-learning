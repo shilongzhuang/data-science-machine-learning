{
 "cells": [
  {
   "cell_type": "code",
   "execution_count": 1,
   "metadata": {},
   "outputs": [],
   "source": [
    "import tensorflow as tf\n",
    "import numpy as np\n",
    "from sklearn import metrics\n",
    "from sklearn.model_selection import train_test_split\n",
    "import seaborn as sns\n",
    "import matplotlib.pyplot as plt"
   ]
  },
  {
   "cell_type": "code",
   "execution_count": 2,
   "metadata": {},
   "outputs": [],
   "source": [
    "# Create fake data linear regression\n",
    "np.random.seed(77)\n",
    "tf.set_random_seed(77)\n",
    "\n",
    "n_samples = 100\n",
    "n_features = 1\n",
    "n_output = 1\n",
    "minval = -1\n",
    "maxval = 1\n",
    "dtype = 'float32'\n",
    "slope = np.array([[3]], dtype=dtype) # n_features * n_output\n",
    "intercept = np.array([[1]], dtype=dtype) # n_output\n",
    "noises = np.random.normal(0, 0.2, size= [n_samples, n_output]) # n_samples * n_output\n",
    "X = np.linspace(minval, maxval, n_samples * n_features, dtype= dtype).reshape([n_samples, n_features])\n",
    "y = np.matmul(X, slope) + intercept + noises\n",
    "\n",
    "# Split\n",
    "\n",
    "X_train, X_test, y_train, y_test = train_test_split(X, y, test_size=0.2, random_state=77)"
   ]
  },
  {
   "cell_type": "code",
   "execution_count": 3,
   "metadata": {},
   "outputs": [],
   "source": [
    "# Hyperparamters\n",
    "learning_rate = 0.01\n",
    "epochs = 1000\n",
    "display_step = 50\n",
    "\n",
    "n_hidden_1 = 10"
   ]
  },
  {
   "cell_type": "code",
   "execution_count": 4,
   "metadata": {},
   "outputs": [],
   "source": [
    "W = {\n",
    "    'h1' : tf.Variable(tf.random_normal([n_features, n_hidden_1])),\n",
    "    'output': tf.Variable(tf.random_normal([n_hidden_1, n_output]))\n",
    "}\n",
    "\n",
    "b = {\n",
    "    'h1': tf.Variable(tf.random_normal([n_hidden_1])),\n",
    "    'output': tf.Variable(tf.random_normal([n_output]))\n",
    "}"
   ]
  },
  {
   "cell_type": "code",
   "execution_count": 5,
   "metadata": {},
   "outputs": [],
   "source": [
    "def network(x, weights, biases):\n",
    "    layer_1 = tf.add(tf.matmul(x, weights['h1']), biases['h1'])\n",
    "    layer_1 = tf.nn.relu(layer_1)\n",
    "    \n",
    "    output = tf.add(tf.matmul(layer_1, weights['output']), biases['output'])\n",
    "    return output"
   ]
  },
  {
   "cell_type": "code",
   "execution_count": 6,
   "metadata": {},
   "outputs": [],
   "source": [
    "tf_X = tf.placeholder(tf.float32, shape=[None, n_features])\n",
    "tf_y = tf.placeholder(tf.float32, shape=[None, n_output])\n",
    "\n",
    "output = network(tf_X, W, b)\n",
    "cost = tf.reduce_mean(tf.square(tf_y - output))\n",
    "#cost = tf.losses.mean_squared_error(tf_f, output)\n",
    "optimizer = tf.train.GradientDescentOptimizer(learning_rate).minimize(cost)"
   ]
  },
  {
   "cell_type": "code",
   "execution_count": 7,
   "metadata": {},
   "outputs": [],
   "source": [
    "session = tf.Session()\n",
    "init = tf.global_variables_initializer()\n",
    "session.run(init)"
   ]
  },
  {
   "cell_type": "code",
   "execution_count": 8,
   "metadata": {},
   "outputs": [
    {
     "name": "stdout",
     "output_type": "stream",
     "text": [
      "Epoch : 0 Cost : 8.263123512268066 Cost: 8.263123512268066 W: [[ 0.36301824]\n",
      " [ 1.6418548 ]\n",
      " [-0.26681125]\n",
      " [-0.05362239]\n",
      " [-2.23505   ]\n",
      " [-1.6087079 ]\n",
      " [-0.9766936 ]\n",
      " [ 1.2637328 ]\n",
      " [-1.8622931 ]\n",
      " [ 0.6355958 ]] b : [1.0272164]\n",
      "Epoch : 50 Cost : 0.1288454830646515 Cost: 0.1288454830646515 W: [[ 0.44318178]\n",
      " [ 1.3119136 ]\n",
      " [-0.35369417]\n",
      " [-0.05362239]\n",
      " [-2.216704  ]\n",
      " [-1.6598178 ]\n",
      " [-0.9594364 ]\n",
      " [ 1.2937964 ]\n",
      " [-2.2200875 ]\n",
      " [ 0.6355958 ]] b : [1.2359575]\n",
      "Epoch : 100 Cost : 0.06517358869314194 Cost: 0.06517358869314194 W: [[ 0.4786056 ]\n",
      " [ 1.2980117 ]\n",
      " [-0.3596907 ]\n",
      " [-0.05362239]\n",
      " [-2.216704  ]\n",
      " [-1.6655992 ]\n",
      " [-0.95899165]\n",
      " [ 1.3496377 ]\n",
      " [-2.2407668 ]\n",
      " [ 0.6355958 ]] b : [1.2864611]\n",
      "Epoch : 150 Cost : 0.05640333890914917 Cost: 0.05640333890914917 W: [[ 0.49854627]\n",
      " [ 1.2990249 ]\n",
      " [-0.36026204]\n",
      " [-0.05362239]\n",
      " [-2.216704  ]\n",
      " [-1.6650084 ]\n",
      " [-0.9589725 ]\n",
      " [ 1.3653705 ]\n",
      " [-2.2375991 ]\n",
      " [ 0.6355958 ]] b : [1.2996004]\n",
      "Epoch : 200 Cost : 0.05137408897280693 Cost: 0.05137408897280693 W: [[ 0.5119915 ]\n",
      " [ 1.2982142 ]\n",
      " [-0.3599404 ]\n",
      " [-0.05362239]\n",
      " [-2.216704  ]\n",
      " [-1.6653551 ]\n",
      " [-0.9589725 ]\n",
      " [ 1.3760816 ]\n",
      " [-2.2319667 ]\n",
      " [ 0.6355958 ]] b : [1.308126]\n",
      "Epoch : 250 Cost : 0.04895986616611481 Cost: 0.04895986616611481 W: [[ 0.52129465]\n",
      " [ 1.2950045 ]\n",
      " [-0.35969597]\n",
      " [-0.05362239]\n",
      " [-2.216704  ]\n",
      " [-1.6668518 ]\n",
      " [-0.9589725 ]\n",
      " [ 1.3834994 ]\n",
      " [-2.2268548 ]\n",
      " [ 0.6355958 ]] b : [1.3139029]\n",
      "Epoch : 300 Cost : 0.047607798129320145 Cost: 0.047607798129320145 W: [[ 0.52812076]\n",
      " [ 1.2909979 ]\n",
      " [-0.3596061 ]\n",
      " [-0.05362239]\n",
      " [-2.216704  ]\n",
      " [-1.6687572 ]\n",
      " [-0.9589725 ]\n",
      " [ 1.3880962 ]\n",
      " [-2.2215044 ]\n",
      " [ 0.6355958 ]] b : [1.317447]\n",
      "Epoch : 350 Cost : 0.046503759920597076 Cost: 0.046503759920597076 W: [[ 0.5336327 ]\n",
      " [ 1.2866399 ]\n",
      " [-0.35970774]\n",
      " [-0.05362239]\n",
      " [-2.216704  ]\n",
      " [-1.670873  ]\n",
      " [-0.9589725 ]\n",
      " [ 1.3914729 ]\n",
      " [-2.2159185 ]\n",
      " [ 0.6355958 ]] b : [1.3200238]\n",
      "Epoch : 400 Cost : 0.04560607299208641 Cost: 0.04560607299208641 W: [[ 0.5384049 ]\n",
      " [ 1.28193   ]\n",
      " [-0.36005285]\n",
      " [-0.05362239]\n",
      " [-2.216704  ]\n",
      " [-1.6731944 ]\n",
      " [-0.9589725 ]\n",
      " [ 1.3942025 ]\n",
      " [-2.210582  ]\n",
      " [ 0.6355958 ]] b : [1.3220925]\n",
      "Epoch : 450 Cost : 0.044857434928417206 Cost: 0.044857434928417206 W: [[ 0.5428103 ]\n",
      " [ 1.277265  ]\n",
      " [-0.36057168]\n",
      " [-0.05362239]\n",
      " [-2.216704  ]\n",
      " [-1.6755297 ]\n",
      " [-0.9589725 ]\n",
      " [ 1.3960961 ]\n",
      " [-2.20545   ]\n",
      " [ 0.6355958 ]] b : [1.3235313]\n",
      "Epoch : 500 Cost : 0.04425536096096039 Cost: 0.04425536096096039 W: [[ 0.54706097]\n",
      " [ 1.2728086 ]\n",
      " [-0.36121258]\n",
      " [-0.05362239]\n",
      " [-2.216704  ]\n",
      " [-1.6777952 ]\n",
      " [-0.9589725 ]\n",
      " [ 1.3973726 ]\n",
      " [-2.2004347 ]\n",
      " [ 0.6355958 ]] b : [1.3245081]\n",
      "Epoch : 550 Cost : 0.04358159378170967 Cost: 0.04358159378170967 W: [[ 0.55118376]\n",
      " [ 1.2685335 ]\n",
      " [-0.36170548]\n",
      " [-0.05362239]\n",
      " [-2.216704  ]\n",
      " [-1.6800042 ]\n",
      " [-0.9589725 ]\n",
      " [ 1.399204  ]\n",
      " [-2.1951106 ]\n",
      " [ 0.6355958 ]] b : [1.325869]\n",
      "Epoch : 600 Cost : 0.042990006506443024 Cost: 0.042990006506443024 W: [[ 0.55500644]\n",
      " [ 1.2639164 ]\n",
      " [-0.36221096]\n",
      " [-0.05362239]\n",
      " [-2.216704  ]\n",
      " [-1.682417  ]\n",
      " [-0.9589725 ]\n",
      " [ 1.4011068 ]\n",
      " [-2.1902542 ]\n",
      " [ 0.6355958 ]] b : [1.3272716]\n",
      "Epoch : 650 Cost : 0.04246687516570091 Cost: 0.04246687516570091 W: [[ 0.55869764]\n",
      " [ 1.2591652 ]\n",
      " [-0.3628684 ]\n",
      " [-0.05362239]\n",
      " [-2.216704  ]\n",
      " [-1.6849142 ]\n",
      " [-0.9589725 ]\n",
      " [ 1.4023933 ]\n",
      " [-2.186116  ]\n",
      " [ 0.6355958 ]] b : [1.3282259]\n",
      "Epoch : 700 Cost : 0.041996851563453674 Cost: 0.041996851563453674 W: [[ 0.56238836]\n",
      " [ 1.2547084 ]\n",
      " [-0.36353773]\n",
      " [-0.05362239]\n",
      " [-2.216704  ]\n",
      " [-1.6872728 ]\n",
      " [-0.9589725 ]\n",
      " [ 1.4033732 ]\n",
      " [-2.182081  ]\n",
      " [ 0.6355958 ]] b : [1.3289509]\n",
      "Epoch : 750 Cost : 0.0415438711643219 Cost: 0.0415438711643219 W: [[ 0.56612706]\n",
      " [ 1.2505789 ]\n",
      " [-0.36417192]\n",
      " [-0.05362239]\n",
      " [-2.216704  ]\n",
      " [-1.6894746 ]\n",
      " [-0.9589725 ]\n",
      " [ 1.4043287 ]\n",
      " [-2.1780148 ]\n",
      " [ 0.6355958 ]] b : [1.3296505]\n",
      "Epoch : 800 Cost : 0.0411185622215271 Cost: 0.0411185622215271 W: [[ 0.5698895 ]\n",
      " [ 1.2466259 ]\n",
      " [-0.36479062]\n",
      " [-0.05362239]\n",
      " [-2.216704  ]\n",
      " [-1.691596  ]\n",
      " [-0.9589725 ]\n",
      " [ 1.4053564 ]\n",
      " [-2.174061  ]\n",
      " [ 0.6355958 ]] b : [1.330394]\n",
      "Epoch : 850 Cost : 0.0407366119325161 Cost: 0.0407366119325161 W: [[ 0.5736861 ]\n",
      " [ 1.242938  ]\n",
      " [-0.36542284]\n",
      " [-0.05362239]\n",
      " [-2.216704  ]\n",
      " [-1.6935885 ]\n",
      " [-0.9589725 ]\n",
      " [ 1.4061298 ]\n",
      " [-2.1702144 ]\n",
      " [ 0.6355958 ]] b : [1.3309499]\n",
      "Epoch : 900 Cost : 0.04040435701608658 Cost: 0.04040435701608658 W: [[ 0.5775244 ]\n",
      " [ 1.2395252 ]\n",
      " [-0.366067  ]\n",
      " [-0.05362239]\n",
      " [-2.216704  ]\n",
      " [-1.6954448 ]\n",
      " [-0.9589725 ]\n",
      " [ 1.4066509 ]\n",
      " [-2.1664398 ]\n",
      " [ 0.6355958 ]] b : [1.3313218]\n",
      "Epoch : 950 Cost : 0.04009605199098587 Cost: 0.04009605199098587 W: [[ 0.58142394]\n",
      " [ 1.2363551 ]\n",
      " [-0.3667263 ]\n",
      " [-0.05362239]\n",
      " [-2.216704  ]\n",
      " [-1.6971806 ]\n",
      " [-0.9589725 ]\n",
      " [ 1.4070115 ]\n",
      " [-2.1627557 ]\n",
      " [ 0.6355958 ]] b : [1.3315748]\n"
     ]
    }
   ],
   "source": [
    "for epoch in range(epochs):\n",
    "    train_feed = {tf_X: X_train, tf_y: y_train}\n",
    "    _, _output, _cost = session.run([optimizer, output, cost], feed_dict=train_feed)\n",
    "    \n",
    "    if epoch % display_step ==0:\n",
    "        \n",
    "        print('Epoch : {}'.format(epoch), 'Cost : {}'.format(_cost), \n",
    "              'Cost: {}'.format(_cost), \n",
    "              'W: {}'.format(session.run(W['output'])), \n",
    "              'b : {}'.format(session.run(b['output'])))"
   ]
  },
  {
   "cell_type": "code",
   "execution_count": 9,
   "metadata": {},
   "outputs": [
    {
     "data": {
      "text/plain": [
       "{'h1': array([[ 1.1255391 , -1.4637518 , -0.34576645, -0.22355072,  0.32922602,\n",
       "         -0.81376296,  0.804923  ,  0.00616994, -1.4931227 ,  0.5919089 ]],\n",
       "       dtype=float32), 'output': array([[ 0.5853131 ],\n",
       "        [ 1.2334671 ],\n",
       "        [-0.3673897 ],\n",
       "        [-0.05362239],\n",
       "        [-2.216704  ],\n",
       "        [-1.6987718 ],\n",
       "        [-0.9589725 ],\n",
       "        [ 1.4072403 ],\n",
       "        [-2.1592393 ],\n",
       "        [ 0.6355958 ]], dtype=float32)}"
      ]
     },
     "execution_count": 9,
     "metadata": {},
     "output_type": "execute_result"
    }
   ],
   "source": [
    "session.run(W)"
   ]
  },
  {
   "cell_type": "code",
   "execution_count": 10,
   "metadata": {},
   "outputs": [
    {
     "data": {
      "text/plain": [
       "{'h1': array([-0.60525244,  0.07793238,  0.345777  , -0.28728136, -0.33097672,\n",
       "         0.03176615, -0.80511326,  1.4124589 ,  1.0632292 , -1.6874728 ],\n",
       "       dtype=float32), 'output': array([1.3317299], dtype=float32)}"
      ]
     },
     "execution_count": 10,
     "metadata": {},
     "output_type": "execute_result"
    }
   ],
   "source": [
    "session.run(b)"
   ]
  },
  {
   "cell_type": "code",
   "execution_count": 11,
   "metadata": {},
   "outputs": [
    {
     "data": {
      "text/plain": [
       "0.039818265"
      ]
     },
     "execution_count": 11,
     "metadata": {},
     "output_type": "execute_result"
    }
   ],
   "source": [
    "session.run(cost, feed_dict=train_feed)"
   ]
  },
  {
   "cell_type": "code",
   "execution_count": 12,
   "metadata": {},
   "outputs": [],
   "source": [
    "train_pred, train_cost = session.run([output, cost], feed_dict={tf_X : X_train, tf_y : y_train})\n",
    "test_pred, test_cost = session.run([output, cost], feed_dict={tf_X : X_test, tf_y : y_test})"
   ]
  },
  {
   "cell_type": "code",
   "execution_count": 13,
   "metadata": {},
   "outputs": [
    {
     "data": {
      "text/plain": [
       "0.0398182657799656"
      ]
     },
     "execution_count": 13,
     "metadata": {},
     "output_type": "execute_result"
    }
   ],
   "source": [
    "metrics.mean_squared_error(y_train, train_pred)"
   ]
  },
  {
   "cell_type": "code",
   "execution_count": 14,
   "metadata": {},
   "outputs": [
    {
     "name": "stdout",
     "output_type": "stream",
     "text": [
      "0.9877064044123548\n",
      "0.9782554341804289\n"
     ]
    }
   ],
   "source": [
    "print(metrics.r2_score(y_train, train_pred))\n",
    "print(metrics.r2_score(y_test, test_pred))"
   ]
  },
  {
   "cell_type": "code",
   "execution_count": 15,
   "metadata": {},
   "outputs": [
    {
     "data": {
      "text/plain": [
       "[<matplotlib.lines.Line2D at 0x145b3ed6f60>]"
      ]
     },
     "execution_count": 15,
     "metadata": {},
     "output_type": "execute_result"
    },
    {
     "data": {
      "image/png": "[encoded data removed]",
      "text/plain": [
       "<matplotlib.figure.Figure at 0x145b3ed6f98>"
      ]
     },
     "metadata": {},
     "output_type": "display_data"
    }
   ],
   "source": [
    "plt.plot(X_train, y_train, '*')\n",
    "plt.plot(X_train, train_pred, '+')"
   ]
  },
  {
   "cell_type": "code",
   "execution_count": 17,
   "metadata": {},
   "outputs": [
    {
     "data": {
      "text/plain": [
       "array([[ 2.49161768e+00,  6.20815849e+00],\n",
       "       [ 1.13415396e+00,  1.28630519e+00],\n",
       "       [ 3.01839089e+00,  9.11068344e+00],\n",
       "       [ 9.09098387e-01,  8.26459885e-01],\n",
       "       [-6.33374214e-01,  4.01162893e-01],\n",
       "       [ 2.08437872e+00,  4.34463453e+00],\n",
       "       [ 3.26193666e+00,  1.06402311e+01],\n",
       "       [ 3.18075490e+00,  1.01172018e+01],\n",
       "       [-1.22663307e+00,  1.50462866e+00],\n",
       "       [ 7.31120586e-01,  5.34537315e-01],\n",
       "       [-4.01155949e-02,  1.60926091e-03],\n",
       "       [ 2.56513834e-01,  6.57993481e-02],\n",
       "       [ 2.01650524e+00,  4.06629324e+00],\n",
       "       [ 2.62736416e+00,  6.90304232e+00],\n",
       "       [-1.87921810e+00,  3.53146076e+00],\n",
       "       [-3.96070957e-01,  1.56872198e-01],\n",
       "       [ 3.47210193e+00,  1.20554914e+01],\n",
       "       [ 2.28799820e+00,  5.23493576e+00],\n",
       "       [-1.58258820e+00,  2.50458550e+00],\n",
       "       [ 3.45605135e+00,  1.19442911e+01],\n",
       "       [ 3.52025366e+00,  1.23921862e+01],\n",
       "       [ 3.55235505e+00,  1.26192265e+01],\n",
       "       [-1.46393633e+00,  2.14310956e+00],\n",
       "       [ 2.93720841e+00,  8.62719345e+00],\n",
       "       [ 2.15225172e+00,  4.63218737e+00],\n",
       "       [ 1.67713940e+00,  2.81279659e+00],\n",
       "       [ 1.92102194e-02,  3.69032525e-04],\n",
       "       [-9.89329815e-01,  9.78773475e-01],\n",
       "       [-4.55396652e-01,  2.07386106e-01],\n",
       "       [ 1.60926628e+00,  2.58973789e+00],\n",
       "       [ 3.48815250e+00,  1.21672077e+01],\n",
       "       [-1.16730738e+00,  1.36260653e+00],\n",
       "       [ 6.71794772e-01,  4.51308221e-01],\n",
       "       [-6.92700148e-01,  4.79833484e-01],\n",
       "       [-7.52026320e-01,  5.65543592e-01],\n",
       "       [ 3.40789938e+00,  1.16137781e+01],\n",
       "       [ 1.07122147e+00,  1.14751542e+00],\n",
       "       [-9.30003405e-01,  8.64906311e-01],\n",
       "       [-1.81989169e+00,  3.31200576e+00],\n",
       "       [ 2.69523716e+00,  7.26430321e+00],\n",
       "       [ 3.61655760e+00,  1.30794888e+01],\n",
       "       [-5.14722347e-01,  2.64939100e-01],\n",
       "       [ 2.42374468e+00,  5.87453842e+00],\n",
       "       [ 1.94863224e+00,  3.79716754e+00],\n",
       "       [-1.99786949e+00,  3.99148250e+00],\n",
       "       [-3.36744547e-01,  1.13396890e-01],\n",
       "       [ 2.22012496e+00,  4.92895460e+00],\n",
       "       [-2.77419329e-01,  7.69614875e-02],\n",
       "       [-1.76056623e+00,  3.09959340e+00],\n",
       "       [ 1.02775002e+00,  1.05627012e+00],\n",
       "       [ 3.42394996e+00,  1.17234335e+01],\n",
       "       [ 2.77484441e+00,  7.69976139e+00],\n",
       "       [ 3.75165582e-01,  1.40749216e-01],\n",
       "       [ 1.33777344e+00,  1.78963780e+00],\n",
       "       [-8.11351776e-01,  6.58291698e-01],\n",
       "       [-1.64191341e+00,  2.69587970e+00],\n",
       "       [-1.34528494e+00,  1.80979156e+00],\n",
       "       [-1.93854380e+00,  3.75795197e+00],\n",
       "       [ 3.63260818e+00,  1.31958418e+01],\n",
       "       [ 7.85362720e-02,  6.16794592e-03],\n",
       "       [ 2.35587120e+00,  5.55012894e+00],\n",
       "       [-1.40461040e+00,  1.97293031e+00],\n",
       "       [-1.10798120e+00,  1.22762239e+00],\n",
       "       [ 2.85602617e+00,  8.15688515e+00],\n",
       "       [ 7.90446639e-01,  6.24805868e-01],\n",
       "       [ 1.37862086e-01,  1.90059543e-02],\n",
       "       [ 1.20202696e+00,  1.44486880e+00],\n",
       "       [ 1.54139304e+00,  2.37589240e+00],\n",
       "       [-9.94415283e-02,  9.88861732e-03],\n",
       "       [-8.70678186e-01,  7.58080482e-01],\n",
       "       [ 6.12468958e-01,  3.75118226e-01],\n",
       "       [ 3.15839648e-01,  9.97546837e-02],\n",
       "       [ 1.40564668e+00,  1.97584260e+00],\n",
       "       [-1.58767462e-01,  2.52071060e-02],\n",
       "       [-5.74048519e-01,  3.29531699e-01],\n",
       "       [ 1.97187901e-01,  3.88830677e-02],\n",
       "       [ 3.60050678e+00,  1.29636488e+01],\n",
       "       [ 3.34311914e+00,  1.11764460e+01],\n",
       "       [ 3.56840563e+00,  1.27335186e+01],\n",
       "       [ 3.44000053e+00,  1.18336039e+01]])"
      ]
     },
     "execution_count": 17,
     "metadata": {},
     "output_type": "execute_result"
    }
   ],
   "source": [
    "np.concatenate([train_pred, y_train], axis=1)"
   ]
  },
  {
   "cell_type": "code",
   "execution_count": 18,
   "metadata": {},
   "outputs": [
    {
     "data": {
      "text/plain": [
       "[<matplotlib.lines.Line2D at 0x1459414a160>]"
      ]
     },
     "execution_count": 18,
     "metadata": {},
     "output_type": "execute_result"
    },
    {
     "data": {
      "image/png": "[encoded data removed]",
      "text/plain": [
       "<matplotlib.figure.Figure at 0x1459414a9b0>"
      ]
     },
     "metadata": {},
     "output_type": "display_data"
    }
   ],
   "source": [
    "plt.plot(X_test, y_test, '*')\n",
    "plt.plot(X_test, test_pred, '+')"
   ]
  },
  {
   "cell_type": "code",
   "execution_count": 20,
   "metadata": {},
   "outputs": [
    {
     "data": {
      "text/plain": [
       "0.06853580942277052"
      ]
     },
     "execution_count": 20,
     "metadata": {},
     "output_type": "execute_result"
    }
   ],
   "source": [
    "metrics.mean_squared_error(y_test, test_pred)"
   ]
  },
  {
   "cell_type": "code",
   "execution_count": 19,
   "metadata": {},
   "outputs": [
    {
     "data": {
      "text/plain": [
       "array([[-2.09191157, -1.70124006],\n",
       "       [ 3.76095269,  3.53630447],\n",
       "       [ 0.27843563,  0.43449152],\n",
       "       [ 4.13625562,  3.58445621],\n",
       "       [-1.28752606, -1.04865503],\n",
       "       [ 0.51177788,  0.49381721],\n",
       "       [ 3.20369121,  3.09957266],\n",
       "       [ 3.48827924,  3.50420308],\n",
       "       [ 0.6848622 ,  0.96842432],\n",
       "       [ 1.23375925,  1.47351992],\n",
       "       [ 1.49943888,  1.2699002 ],\n",
       "       [ 1.6486175 ,  1.74501252],\n",
       "       [ 2.52297856,  2.55949068],\n",
       "       [ 2.46039768,  1.88075888],\n",
       "       [-1.20147212, -1.5232625 ],\n",
       "       [ 0.91308173,  0.84977269],\n",
       "       [ 1.94176393,  1.81288588],\n",
       "       [-1.48254633, -1.28595877],\n",
       "       [-0.42621932, -0.21809316],\n",
       "       [ 0.7174484 ,  0.55314326]])"
      ]
     },
     "execution_count": 19,
     "metadata": {},
     "output_type": "execute_result"
    }
   ],
   "source": [
    "np.concatenate([y_test, test_pred], axis=1)"
   ]
  },
  {
   "cell_type": "code",
   "execution_count": null,
   "metadata": {},
   "outputs": [],
   "source": [
    "if 'session' in locals() and session is not None:\n",
    "    print('Close interactive session')\n",
    "    session.close()"
   ]
  },
  {
   "cell_type": "code",
   "execution_count": null,
   "metadata": {},
   "outputs": [],
   "source": []
  }
 ],
 "metadata": {
  "kernelspec": {
   "display_name": "Python 3 (ipykernel)",
   "language": "python",
   "name": "python3"
  },
  "language_info": {
   "codemirror_mode": {
    "name": "ipython",
    "version": 3
   },
   "file_extension": ".py",
   "mimetype": "text/x-python",
   "name": "python",
   "nbconvert_exporter": "python",
   "pygments_lexer": "ipython3",
   "version": "3.9.16"
  }
 },
 "nbformat": 4,
 "nbformat_minor": 2
}
