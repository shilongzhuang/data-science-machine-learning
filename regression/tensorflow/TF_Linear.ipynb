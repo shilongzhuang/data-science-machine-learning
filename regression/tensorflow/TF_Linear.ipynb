{
 "cells": [
  {
   "cell_type": "code",
   "execution_count": 2,
   "metadata": {},
   "outputs": [],
   "source": [
    "import tensorflow as tf\n",
    "import numpy as np\n",
    "import matplotlib.pyplot as plt\n",
    "from sklearn import metrics\n",
    "from sklearn.model_selection import train_test_split\n",
    "import seaborn as sns"
   ]
  },
  {
   "cell_type": "code",
   "execution_count": 3,
   "metadata": {},
   "outputs": [],
   "source": [
    "learning_rate = 0.01\n",
    "epochs = 1000\n",
    "display_step = 50"
   ]
  },
  {
   "cell_type": "code",
   "execution_count": 4,
   "metadata": {},
   "outputs": [],
   "source": [
    "# Linear Regression\n",
    "# y = WX + b\n",
    "# X N * 1 \n",
    "# b N * 1\n",
    "# W n_features * n_output\n",
    "# b n_output"
   ]
  },
  {
   "cell_type": "code",
   "execution_count": 5,
   "metadata": {},
   "outputs": [],
   "source": [
    "np.random.seed(77)\n",
    "tf.set_random_seed(77)\n",
    "# Create fake linear function data\n",
    "n_samples = 100\n",
    "n_features = 1\n",
    "n_output = 1 \n",
    "minval = -1\n",
    "maxval = 1\n",
    "slope = np.array([[3.0]], dtype='float32')\n",
    "intercept = np.array([[1.0]],dtype='float32')\n",
    "noise  = np.random.normal(0, 0.2, size = [n_samples, 1]).astype('float32')\n",
    "X = np.linspace(minval,maxval,n_samples * n_features, dtype='float32').reshape([n_samples,n_features])\n",
    "y = (np.matmul(X, slope) + intercept + noise).reshape([n_samples, n_output])"
   ]
  },
  {
   "cell_type": "code",
   "execution_count": 6,
   "metadata": {},
   "outputs": [],
   "source": [
    "X_train, X_test , y_train, y_test = train_test_split(X, y, test_size = 0.2, random_state = 77)"
   ]
  },
  {
   "cell_type": "code",
   "execution_count": 7,
   "metadata": {},
   "outputs": [
    {
     "data": {
      "text/plain": [
       "[<matplotlib.lines.Line2D at 0x291f716fcc0>]"
      ]
     },
     "execution_count": 7,
     "metadata": {},
     "output_type": "execute_result"
    },
    {
     "data": {
      "image/png": "[encoded data removed]",
      "text/plain": [
       "<matplotlib.figure.Figure at 0x291f510c7f0>"
      ]
     },
     "metadata": {},
     "output_type": "display_data"
    }
   ],
   "source": [
    "plt.plot(X_train, y_train, '.')"
   ]
  },
  {
   "cell_type": "code",
   "execution_count": 8,
   "metadata": {},
   "outputs": [],
   "source": [
    "W = tf.Variable(tf.random_normal([n_features, n_output]), name= 'Weights')\n",
    "b = tf.Variable(tf.zeros([n_output]), name = 'Biases')"
   ]
  },
  {
   "cell_type": "code",
   "execution_count": 9,
   "metadata": {},
   "outputs": [],
   "source": [
    "tf_X = tf.placeholder(tf.float32, shape=[None, n_features])\n",
    "tf_y = tf.placeholder(tf.float32, shape=[None, n_output])\n",
    "output = tf.add(tf.matmul(tf_X,W),b)"
   ]
  },
  {
   "cell_type": "code",
   "execution_count": 10,
   "metadata": {},
   "outputs": [],
   "source": [
    "cost = tf.reduce_mean(tf.square(tf.subtract(tf_y, output)))\n",
    "#loss = tf.losses.mean_squared_error(tf_y, output)\n",
    "optimizer = tf.train.GradientDescentOptimizer(learning_rate=learning_rate).minimize(cost)\n",
    "test_error = tf.metrics.mean_absolute_error(y_test, output)"
   ]
  },
  {
   "cell_type": "code",
   "execution_count": 11,
   "metadata": {},
   "outputs": [],
   "source": [
    "session = tf.Session()\n",
    "init = tf.global_variables_initializer()\n",
    "local = tf.local_variables_initializer()\n",
    "session.run(init)\n",
    "session.run(local)"
   ]
  },
  {
   "cell_type": "code",
   "execution_count": 12,
   "metadata": {},
   "outputs": [
    {
     "name": "stdout",
     "output_type": "stream",
     "text": [
      "epoch : 0 W: [[1.0280392]] b: [0.01948889] Cost: 2.3989548683166504\n",
      "epoch : 50 W: [[1.6154332]] b: [0.62915176] Cost: 0.8663451075553894\n",
      "epoch : 100 W: [[2.0324378]] b: [0.85444456] Cost: 0.39847874641418457\n",
      "epoch : 150 W: [[2.3273277]] b: [0.938807] Cost: 0.2051745355129242\n",
      "epoch : 200 W: [[2.5354476]] b: [0.97116613] Cost: 0.11443642526865005\n",
      "epoch : 250 W: [[2.6821785]] b: [0.98410493] Cost: 0.07011304795742035\n",
      "epoch : 300 W: [[2.7855732]] b: [0.9896307] Cost: 0.04821991175413132\n",
      "epoch : 350 W: [[2.8584101]] b: [0.99221635] Cost: 0.037373460829257965\n",
      "epoch : 400 W: [[2.9097152]] b: [0.9935616] Cost: 0.031995248049497604\n",
      "epoch : 450 W: [[2.9458494]] b: [0.9943361] Cost: 0.029328029602766037\n",
      "epoch : 500 W: [[2.9712987]] b: [0.9948184] Cost: 0.02800513431429863\n",
      "epoch : 550 W: [[2.9892223]] b: [0.99513537] Cost: 0.027349000796675682\n",
      "epoch : 600 W: [[3.001845]] b: [0.99535] Cost: 0.02702357992529869\n",
      "epoch : 650 W: [[3.0107353]] b: [0.9954981] Cost: 0.026862168684601784\n",
      "epoch : 700 W: [[3.0169952]] b: [0.99560136] Cost: 0.02678213082253933\n",
      "epoch : 750 W: [[3.0214043]] b: [0.99567366] Cost: 0.026742422953248024\n",
      "epoch : 800 W: [[3.024509]] b: [0.9957244] Cost: 0.026722732931375504\n",
      "epoch : 850 W: [[3.0266957]] b: [0.99576] Cost: 0.026712968945503235\n",
      "epoch : 900 W: [[3.0282357]] b: [0.9957851] Cost: 0.026708120480179787\n",
      "epoch : 950 W: [[3.0293207]] b: [0.99580276] Cost: 0.02670571766793728\n"
     ]
    }
   ],
   "source": [
    "for epoch in range(epochs):\n",
    "    \n",
    "    _, _cost, _output = session.run([optimizer, cost, output], feed_dict={tf_X: X_train, tf_y: y_train})\n",
    "    \n",
    "    if epoch % display_step ==0:\n",
    "        \n",
    "        print('epoch : {}'.format(epoch) , 'W: {}'.format(session.run(W)), \n",
    "              'b: {}'.format(session.run(b)), 'Cost: {}'.format(_cost))"
   ]
  },
  {
   "cell_type": "code",
   "execution_count": 14,
   "metadata": {},
   "outputs": [
    {
     "data": {
      "text/plain": [
       "[array([[4.0258875]], dtype=float32), 4.10422]"
      ]
     },
     "execution_count": 14,
     "metadata": {},
     "output_type": "execute_result"
    }
   ],
   "source": [
    "session.run(tf.reduce_mean(tf.square(W * np.array([[1]]) + b - np.array([[2]]))))\n",
    "session.run([output, cost], feed_dict={tf_X : np.array([[1]]), tf_y : np.array([[2]])})"
   ]
  },
  {
   "cell_type": "code",
   "execution_count": 15,
   "metadata": {},
   "outputs": [],
   "source": [
    "test_pred, test_cost = session.run([output, cost], feed_dict={tf_X : X_test, tf_y : y_test})"
   ]
  },
  {
   "cell_type": "code",
   "execution_count": 16,
   "metadata": {},
   "outputs": [
    {
     "data": {
      "text/plain": [
       "[<matplotlib.lines.Line2D at 0x291801b52e8>]"
      ]
     },
     "execution_count": 16,
     "metadata": {},
     "output_type": "execute_result"
    },
    {
     "data": {
      "image/png": "[encoded data removed]",
      "text/plain": [
       "<matplotlib.figure.Figure at 0x291f71a05c0>"
      ]
     },
     "metadata": {},
     "output_type": "display_data"
    }
   ],
   "source": [
    "plt.plot(X_test, test_pred, '*')"
   ]
  },
  {
   "cell_type": "code",
   "execution_count": 17,
   "metadata": {},
   "outputs": [
    {
     "data": {
      "text/plain": [
       "0.9808712996043218"
      ]
     },
     "execution_count": 17,
     "metadata": {},
     "output_type": "execute_result"
    }
   ],
   "source": [
    "metrics.r2_score(y_test, test_pred)"
   ]
  },
  {
   "cell_type": "code",
   "execution_count": 18,
   "metadata": {},
   "outputs": [
    {
     "data": {
      "text/plain": [
       "0.20262237"
      ]
     },
     "execution_count": 18,
     "metadata": {},
     "output_type": "execute_result"
    }
   ],
   "source": [
    "metrics.mean_absolute_error(y_test, test_pred)"
   ]
  },
  {
   "cell_type": "code",
   "execution_count": 21,
   "metadata": {},
   "outputs": [
    {
     "data": {
      "text/plain": [
       "(0.20262237, 0.20262237)"
      ]
     },
     "execution_count": 21,
     "metadata": {},
     "output_type": "execute_result"
    }
   ],
   "source": [
    "session.run(test_error, feed_dict= {tf_X: X_test})"
   ]
  },
  {
   "cell_type": "code",
   "execution_count": 29,
   "metadata": {},
   "outputs": [
    {
     "data": {
      "text/plain": [
       "array([[-2.0919116 , -1.728189  ],\n",
       "       [ 3.7609527 ,  3.658606  ],\n",
       "       [ 0.27843565,  0.4754998 ],\n",
       "       [ 4.1362557 ,  3.8422468 ],\n",
       "       [-1.2875261 , -1.0548396 ],\n",
       "       [ 0.5117779 ,  0.53671336],\n",
       "       [ 3.2036912 ,  2.924043  ],\n",
       "       [ 3.4882793 ,  3.5361788 ],\n",
       "       [ 0.6848622 ,  1.026422  ],\n",
       "       [ 1.2337593 ,  1.5161307 ],\n",
       "       [ 1.4994389 ,  1.33249   ],\n",
       "       [ 1.6486175 ,  1.7609849 ],\n",
       "       [ 2.5229785 ,  2.495548  ],\n",
       "       [ 2.4603977 ,  1.8834121 ],\n",
       "       [-1.2014722 , -1.5445483 ],\n",
       "       [ 0.9130817 ,  0.90399486],\n",
       "       [ 1.9417639 ,  1.8221986 ],\n",
       "       [-1.4825463 , -1.2996941 ],\n",
       "       [-0.4262193 , -0.19784957],\n",
       "       [ 0.7174484 ,  0.597927  ]], dtype=float32)"
      ]
     },
     "execution_count": 29,
     "metadata": {},
     "output_type": "execute_result"
    }
   ],
   "source": [
    "np.concatenate([y_test, test_pred], axis=1)"
   ]
  }
 ],
 "metadata": {
  "kernelspec": {
   "display_name": "Python 3 (ipykernel)",
   "language": "python",
   "name": "python3"
  },
  "language_info": {
   "codemirror_mode": {
    "name": "ipython",
    "version": 3
   },
   "file_extension": ".py",
   "mimetype": "text/x-python",
   "name": "python",
   "nbconvert_exporter": "python",
   "pygments_lexer": "ipython3",
   "version": "3.9.16"
  }
 },
 "nbformat": 4,
 "nbformat_minor": 2
}
