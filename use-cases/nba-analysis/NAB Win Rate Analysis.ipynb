{
 "cells": [
  {
   "cell_type": "markdown",
   "metadata": {},
   "source": [
    "**BACKGROUND:**\n",
    "\n",
    "Warriors fans would like to know how Stephen Curry's box score impacts the team's wins.\n",
    "\n",
    "**SOLUTION:**\n",
    "\n",
    "Grab data from NBA data website and build models (Random Forest, Logstic Regression) to predict team wins based on Curry's stats."
   ]
  },
  {
   "cell_type": "markdown",
   "metadata": {},
   "source": [
    "**RESULTS:**\n",
    "\n",
    "1. The top 3 most important factors are Curry's 3PT% (3-Point Field Goal Percentage), MP (Minutes Played)\n",
    "and FGA (Field Goal Attempts).\n",
    "2. If Warriors lost the game, Curry's 3PT% is extremely low, less than 28%. \n",
    "3. Logstic Regression Model to predict win has an precision of 0.88 and AUC of 0.85."
   ]
  },
  {
   "cell_type": "markdown",
   "metadata": {},
   "source": [
    "**Metrics Definition:**\n",
    "\n",
    "* **G:** Game Number \n",
    "* **MP:** Minutes Played\n",
    "* **FG:** Field Goals\n",
    "* **FGA:** Field Goal Attempts\n",
    "* **FG%:** Field Goal Percentage\n",
    "* **3P:** 3-Point Field Goals\n",
    "* **3PA:** 3-Point Field Goal Attempts\n",
    "* **3P%:** 3-Point Field Goal Percentage\n",
    "* **FT:** Free Throws\n",
    "* **FTA:** Free Throw Attempts\n",
    "* **FT%:** Free Throw Percentage\n",
    "* **ORB:** Offensive Rebounds\n",
    "* **DRB:** Defensive Rebounds\n",
    "* **TRB:**  Total Rebounds\n",
    "* **AST:** Assists\n",
    "* **STL:** Steals\n",
    "* **BLK:**  Blocks\n",
    "* **TOV:**  Turnovers\n",
    "* **PF:** Personal Fouls\n",
    "* **PTS:**  Points\n",
    "* **PER:**  Plus/Minus\n",
    "* **TM:** Points\n",
    "* **OPP:** Opponent Points\n",
    "* **HOME:** Home or Away\n",
    "* **WIN:** Win or Lose\n",
    "* **GD:** Game Date\n",
    "* **GT:** Game Time\n",
    "* **WP:** Win Points\n",
    "* **WT:** West or East Opponent\n",
    "\n",
    "source: https://www.basketball-reference.com/teams/GSW/2017_games.html"
   ]
  },
  {
   "cell_type": "code",
   "execution_count": 1,
   "metadata": {},
   "outputs": [],
   "source": [
    "import pandas as pd\n",
    "import numpy as np"
   ]
  },
  {
   "cell_type": "code",
   "execution_count": 2,
   "metadata": {},
   "outputs": [],
   "source": [
    "import matplotlib.pyplot as plt\n",
    "import seaborn as sns\n",
    "%matplotlib inline"
   ]
  },
  {
   "cell_type": "code",
   "execution_count": 3,
   "metadata": {},
   "outputs": [],
   "source": [
    "nba = pd.read_csv('warriors_data_2016.csv')"
   ]
  },
  {
   "cell_type": "code",
   "execution_count": 4,
   "metadata": {},
   "outputs": [
    {
     "name": "stdout",
     "output_type": "stream",
     "text": [
      "<class 'pandas.core.frame.DataFrame'>\n",
      "RangeIndex: 78 entries, 0 to 77\n",
      "Data columns (total 29 columns):\n",
      " #   Column  Non-Null Count  Dtype  \n",
      "---  ------  --------------  -----  \n",
      " 0   G       78 non-null     int64  \n",
      " 1   FG      78 non-null     int64  \n",
      " 2   FGA     78 non-null     int64  \n",
      " 3   FG%     78 non-null     float64\n",
      " 4   3P      78 non-null     int64  \n",
      " 5   3PA     78 non-null     int64  \n",
      " 6   3P%     78 non-null     float64\n",
      " 7   FT      78 non-null     int64  \n",
      " 8   FTA     78 non-null     int64  \n",
      " 9   FT%     70 non-null     float64\n",
      " 10  ORB     78 non-null     int64  \n",
      " 11  DRB     78 non-null     int64  \n",
      " 12  TRB     78 non-null     int64  \n",
      " 13  AST     78 non-null     int64  \n",
      " 14  STL     78 non-null     int64  \n",
      " 15  BLK     78 non-null     int64  \n",
      " 16  TOV     78 non-null     int64  \n",
      " 17  PF      78 non-null     int64  \n",
      " 18  PTS     78 non-null     int64  \n",
      " 19  PER     78 non-null     int64  \n",
      " 20  TM      78 non-null     int64  \n",
      " 21  OPP     78 non-null     int64  \n",
      " 22  HOME    78 non-null     int64  \n",
      " 23  WIN     78 non-null     int64  \n",
      " 24  GD      78 non-null     object \n",
      " 25  GT      78 non-null     object \n",
      " 26  WP      78 non-null     int64  \n",
      " 27  MP      78 non-null     float64\n",
      " 28  WT      78 non-null     int64  \n",
      "dtypes: float64(4), int64(23), object(2)\n",
      "memory usage: 17.8+ KB\n"
     ]
    }
   ],
   "source": [
    "nba.info()"
   ]
  },
  {
   "cell_type": "code",
   "execution_count": 5,
   "metadata": {},
   "outputs": [
    {
     "data": {
      "text/html": [
       "<div>\n",
       "<style scoped>\n",
       "    .dataframe tbody tr th:only-of-type {\n",
       "        vertical-align: middle;\n",
       "    }\n",
       "\n",
       "    .dataframe tbody tr th {\n",
       "        vertical-align: top;\n",
       "    }\n",
       "\n",
       "    .dataframe thead th {\n",
       "        text-align: right;\n",
       "    }\n",
       "</style>\n",
       "<table border=\"1\" class=\"dataframe\">\n",
       "  <thead>\n",
       "    <tr style=\"text-align: right;\">\n",
       "      <th></th>\n",
       "      <th>G</th>\n",
       "      <th>FG</th>\n",
       "      <th>FGA</th>\n",
       "      <th>FG%</th>\n",
       "      <th>3P</th>\n",
       "      <th>3PA</th>\n",
       "      <th>3P%</th>\n",
       "      <th>FT</th>\n",
       "      <th>FTA</th>\n",
       "      <th>FT%</th>\n",
       "      <th>...</th>\n",
       "      <th>PF</th>\n",
       "      <th>PTS</th>\n",
       "      <th>PER</th>\n",
       "      <th>TM</th>\n",
       "      <th>OPP</th>\n",
       "      <th>HOME</th>\n",
       "      <th>WIN</th>\n",
       "      <th>WP</th>\n",
       "      <th>MP</th>\n",
       "      <th>WT</th>\n",
       "    </tr>\n",
       "  </thead>\n",
       "  <tbody>\n",
       "    <tr>\n",
       "      <th>count</th>\n",
       "      <td>78.000000</td>\n",
       "      <td>78.000000</td>\n",
       "      <td>78.000000</td>\n",
       "      <td>78.000000</td>\n",
       "      <td>78.000000</td>\n",
       "      <td>78.000000</td>\n",
       "      <td>78.000000</td>\n",
       "      <td>78.000000</td>\n",
       "      <td>78.000000</td>\n",
       "      <td>70.000000</td>\n",
       "      <td>...</td>\n",
       "      <td>78.000000</td>\n",
       "      <td>78.000000</td>\n",
       "      <td>78.000000</td>\n",
       "      <td>78.000000</td>\n",
       "      <td>78.000000</td>\n",
       "      <td>78.000000</td>\n",
       "      <td>78.000000</td>\n",
       "      <td>78.000000</td>\n",
       "      <td>78.000000</td>\n",
       "      <td>78.000000</td>\n",
       "    </tr>\n",
       "    <tr>\n",
       "      <th>mean</th>\n",
       "      <td>40.717949</td>\n",
       "      <td>8.538462</td>\n",
       "      <td>18.269231</td>\n",
       "      <td>0.467026</td>\n",
       "      <td>4.115385</td>\n",
       "      <td>10.038462</td>\n",
       "      <td>0.400051</td>\n",
       "      <td>4.076923</td>\n",
       "      <td>4.551282</td>\n",
       "      <td>0.897186</td>\n",
       "      <td>...</td>\n",
       "      <td>2.307692</td>\n",
       "      <td>25.269231</td>\n",
       "      <td>12.679487</td>\n",
       "      <td>116.166667</td>\n",
       "      <td>104.089744</td>\n",
       "      <td>0.500000</td>\n",
       "      <td>0.820513</td>\n",
       "      <td>12.076923</td>\n",
       "      <td>33.359829</td>\n",
       "      <td>0.628205</td>\n",
       "    </tr>\n",
       "    <tr>\n",
       "      <th>std</th>\n",
       "      <td>23.821794</td>\n",
       "      <td>2.794672</td>\n",
       "      <td>4.056974</td>\n",
       "      <td>0.108861</td>\n",
       "      <td>2.384913</td>\n",
       "      <td>2.590905</td>\n",
       "      <td>0.173625</td>\n",
       "      <td>2.464128</td>\n",
       "      <td>2.670899</td>\n",
       "      <td>0.146436</td>\n",
       "      <td>...</td>\n",
       "      <td>1.435249</td>\n",
       "      <td>7.738709</td>\n",
       "      <td>12.629067</td>\n",
       "      <td>12.326106</td>\n",
       "      <td>11.364316</td>\n",
       "      <td>0.503236</td>\n",
       "      <td>0.386244</td>\n",
       "      <td>14.656916</td>\n",
       "      <td>3.345148</td>\n",
       "      <td>0.486412</td>\n",
       "    </tr>\n",
       "    <tr>\n",
       "      <th>min</th>\n",
       "      <td>1.000000</td>\n",
       "      <td>3.000000</td>\n",
       "      <td>10.000000</td>\n",
       "      <td>0.214000</td>\n",
       "      <td>0.000000</td>\n",
       "      <td>4.000000</td>\n",
       "      <td>0.000000</td>\n",
       "      <td>0.000000</td>\n",
       "      <td>0.000000</td>\n",
       "      <td>0.500000</td>\n",
       "      <td>...</td>\n",
       "      <td>0.000000</td>\n",
       "      <td>8.000000</td>\n",
       "      <td>-24.000000</td>\n",
       "      <td>86.000000</td>\n",
       "      <td>74.000000</td>\n",
       "      <td>0.000000</td>\n",
       "      <td>0.000000</td>\n",
       "      <td>-29.000000</td>\n",
       "      <td>26.700000</td>\n",
       "      <td>0.000000</td>\n",
       "    </tr>\n",
       "    <tr>\n",
       "      <th>25%</th>\n",
       "      <td>20.250000</td>\n",
       "      <td>7.000000</td>\n",
       "      <td>16.000000</td>\n",
       "      <td>0.400000</td>\n",
       "      <td>2.000000</td>\n",
       "      <td>8.000000</td>\n",
       "      <td>0.300000</td>\n",
       "      <td>3.000000</td>\n",
       "      <td>3.000000</td>\n",
       "      <td>0.800000</td>\n",
       "      <td>...</td>\n",
       "      <td>1.000000</td>\n",
       "      <td>20.250000</td>\n",
       "      <td>5.000000</td>\n",
       "      <td>108.000000</td>\n",
       "      <td>96.500000</td>\n",
       "      <td>0.000000</td>\n",
       "      <td>1.000000</td>\n",
       "      <td>6.000000</td>\n",
       "      <td>30.070833</td>\n",
       "      <td>0.000000</td>\n",
       "    </tr>\n",
       "    <tr>\n",
       "      <th>50%</th>\n",
       "      <td>40.500000</td>\n",
       "      <td>8.000000</td>\n",
       "      <td>18.000000</td>\n",
       "      <td>0.462000</td>\n",
       "      <td>4.000000</td>\n",
       "      <td>10.000000</td>\n",
       "      <td>0.385000</td>\n",
       "      <td>4.000000</td>\n",
       "      <td>4.000000</td>\n",
       "      <td>1.000000</td>\n",
       "      <td>...</td>\n",
       "      <td>2.000000</td>\n",
       "      <td>25.000000</td>\n",
       "      <td>14.000000</td>\n",
       "      <td>116.000000</td>\n",
       "      <td>104.500000</td>\n",
       "      <td>0.500000</td>\n",
       "      <td>1.000000</td>\n",
       "      <td>12.000000</td>\n",
       "      <td>34.108333</td>\n",
       "      <td>1.000000</td>\n",
       "    </tr>\n",
       "    <tr>\n",
       "      <th>75%</th>\n",
       "      <td>60.750000</td>\n",
       "      <td>10.000000</td>\n",
       "      <td>21.000000</td>\n",
       "      <td>0.529000</td>\n",
       "      <td>5.000000</td>\n",
       "      <td>12.000000</td>\n",
       "      <td>0.500000</td>\n",
       "      <td>5.000000</td>\n",
       "      <td>6.000000</td>\n",
       "      <td>1.000000</td>\n",
       "      <td>...</td>\n",
       "      <td>3.000000</td>\n",
       "      <td>29.000000</td>\n",
       "      <td>22.000000</td>\n",
       "      <td>123.750000</td>\n",
       "      <td>110.750000</td>\n",
       "      <td>1.000000</td>\n",
       "      <td>1.000000</td>\n",
       "      <td>20.750000</td>\n",
       "      <td>35.591667</td>\n",
       "      <td>1.000000</td>\n",
       "    </tr>\n",
       "    <tr>\n",
       "      <th>max</th>\n",
       "      <td>82.000000</td>\n",
       "      <td>16.000000</td>\n",
       "      <td>27.000000</td>\n",
       "      <td>0.700000</td>\n",
       "      <td>13.000000</td>\n",
       "      <td>17.000000</td>\n",
       "      <td>0.765000</td>\n",
       "      <td>12.000000</td>\n",
       "      <td>13.000000</td>\n",
       "      <td>1.000000</td>\n",
       "      <td>...</td>\n",
       "      <td>6.000000</td>\n",
       "      <td>46.000000</td>\n",
       "      <td>42.000000</td>\n",
       "      <td>149.000000</td>\n",
       "      <td>132.000000</td>\n",
       "      <td>1.000000</td>\n",
       "      <td>1.000000</td>\n",
       "      <td>46.000000</td>\n",
       "      <td>42.216667</td>\n",
       "      <td>1.000000</td>\n",
       "    </tr>\n",
       "  </tbody>\n",
       "</table>\n",
       "<p>8 rows × 27 columns</p>\n",
       "</div>"
      ],
      "text/plain": [
       "               G         FG        FGA        FG%         3P        3PA  \\\n",
       "count  78.000000  78.000000  78.000000  78.000000  78.000000  78.000000   \n",
       "mean   40.717949   8.538462  18.269231   0.467026   4.115385  10.038462   \n",
       "std    23.821794   2.794672   4.056974   0.108861   2.384913   2.590905   \n",
       "min     1.000000   3.000000  10.000000   0.214000   0.000000   4.000000   \n",
       "25%    20.250000   7.000000  16.000000   0.400000   2.000000   8.000000   \n",
       "50%    40.500000   8.000000  18.000000   0.462000   4.000000  10.000000   \n",
       "75%    60.750000  10.000000  21.000000   0.529000   5.000000  12.000000   \n",
       "max    82.000000  16.000000  27.000000   0.700000  13.000000  17.000000   \n",
       "\n",
       "             3P%         FT        FTA        FT%    ...             PF  \\\n",
       "count  78.000000  78.000000  78.000000  70.000000    ...      78.000000   \n",
       "mean    0.400051   4.076923   4.551282   0.897186    ...       2.307692   \n",
       "std     0.173625   2.464128   2.670899   0.146436    ...       1.435249   \n",
       "min     0.000000   0.000000   0.000000   0.500000    ...       0.000000   \n",
       "25%     0.300000   3.000000   3.000000   0.800000    ...       1.000000   \n",
       "50%     0.385000   4.000000   4.000000   1.000000    ...       2.000000   \n",
       "75%     0.500000   5.000000   6.000000   1.000000    ...       3.000000   \n",
       "max     0.765000  12.000000  13.000000   1.000000    ...       6.000000   \n",
       "\n",
       "             PTS        PER          TM         OPP       HOME        WIN  \\\n",
       "count  78.000000  78.000000   78.000000   78.000000  78.000000  78.000000   \n",
       "mean   25.269231  12.679487  116.166667  104.089744   0.500000   0.820513   \n",
       "std     7.738709  12.629067   12.326106   11.364316   0.503236   0.386244   \n",
       "min     8.000000 -24.000000   86.000000   74.000000   0.000000   0.000000   \n",
       "25%    20.250000   5.000000  108.000000   96.500000   0.000000   1.000000   \n",
       "50%    25.000000  14.000000  116.000000  104.500000   0.500000   1.000000   \n",
       "75%    29.000000  22.000000  123.750000  110.750000   1.000000   1.000000   \n",
       "max    46.000000  42.000000  149.000000  132.000000   1.000000   1.000000   \n",
       "\n",
       "              WP         MP         WT  \n",
       "count  78.000000  78.000000  78.000000  \n",
       "mean   12.076923  33.359829   0.628205  \n",
       "std    14.656916   3.345148   0.486412  \n",
       "min   -29.000000  26.700000   0.000000  \n",
       "25%     6.000000  30.070833   0.000000  \n",
       "50%    12.000000  34.108333   1.000000  \n",
       "75%    20.750000  35.591667   1.000000  \n",
       "max    46.000000  42.216667   1.000000  \n",
       "\n",
       "[8 rows x 27 columns]"
      ]
     },
     "execution_count": 5,
     "metadata": {},
     "output_type": "execute_result"
    }
   ],
   "source": [
    "nba.describe()"
   ]
  },
  {
   "cell_type": "code",
   "execution_count": 6,
   "metadata": {},
   "outputs": [
    {
     "data": {
      "text/html": [
       "<div>\n",
       "<style scoped>\n",
       "    .dataframe tbody tr th:only-of-type {\n",
       "        vertical-align: middle;\n",
       "    }\n",
       "\n",
       "    .dataframe tbody tr th {\n",
       "        vertical-align: top;\n",
       "    }\n",
       "\n",
       "    .dataframe thead th {\n",
       "        text-align: right;\n",
       "    }\n",
       "</style>\n",
       "<table border=\"1\" class=\"dataframe\">\n",
       "  <thead>\n",
       "    <tr style=\"text-align: right;\">\n",
       "      <th></th>\n",
       "      <th>G</th>\n",
       "      <th>FG</th>\n",
       "      <th>FGA</th>\n",
       "      <th>FG%</th>\n",
       "      <th>3P</th>\n",
       "      <th>3PA</th>\n",
       "      <th>3P%</th>\n",
       "      <th>FT</th>\n",
       "      <th>FTA</th>\n",
       "      <th>FT%</th>\n",
       "      <th>...</th>\n",
       "      <th>TOV</th>\n",
       "      <th>PF</th>\n",
       "      <th>PTS</th>\n",
       "      <th>PER</th>\n",
       "      <th>TM</th>\n",
       "      <th>OPP</th>\n",
       "      <th>HOME</th>\n",
       "      <th>WP</th>\n",
       "      <th>MP</th>\n",
       "      <th>WT</th>\n",
       "    </tr>\n",
       "    <tr>\n",
       "      <th>WIN</th>\n",
       "      <th></th>\n",
       "      <th></th>\n",
       "      <th></th>\n",
       "      <th></th>\n",
       "      <th></th>\n",
       "      <th></th>\n",
       "      <th></th>\n",
       "      <th></th>\n",
       "      <th></th>\n",
       "      <th></th>\n",
       "      <th></th>\n",
       "      <th></th>\n",
       "      <th></th>\n",
       "      <th></th>\n",
       "      <th></th>\n",
       "      <th></th>\n",
       "      <th></th>\n",
       "      <th></th>\n",
       "      <th></th>\n",
       "      <th></th>\n",
       "      <th></th>\n",
       "    </tr>\n",
       "  </thead>\n",
       "  <tbody>\n",
       "    <tr>\n",
       "      <th>0</th>\n",
       "      <td>42.928571</td>\n",
       "      <td>8.142857</td>\n",
       "      <td>19.428571</td>\n",
       "      <td>0.414429</td>\n",
       "      <td>3.000000</td>\n",
       "      <td>10.214286</td>\n",
       "      <td>0.289143</td>\n",
       "      <td>4.357143</td>\n",
       "      <td>4.785714</td>\n",
       "      <td>0.923714</td>\n",
       "      <td>...</td>\n",
       "      <td>3.571429</td>\n",
       "      <td>2.857143</td>\n",
       "      <td>23.642857</td>\n",
       "      <td>-4.714286</td>\n",
       "      <td>102.857143</td>\n",
       "      <td>113.142857</td>\n",
       "      <td>0.357143</td>\n",
       "      <td>-10.285714</td>\n",
       "      <td>34.911905</td>\n",
       "      <td>0.642857</td>\n",
       "    </tr>\n",
       "    <tr>\n",
       "      <th>1</th>\n",
       "      <td>40.234375</td>\n",
       "      <td>8.625000</td>\n",
       "      <td>18.015625</td>\n",
       "      <td>0.478531</td>\n",
       "      <td>4.359375</td>\n",
       "      <td>10.000000</td>\n",
       "      <td>0.424313</td>\n",
       "      <td>4.015625</td>\n",
       "      <td>4.500000</td>\n",
       "      <td>0.890554</td>\n",
       "      <td>...</td>\n",
       "      <td>2.921875</td>\n",
       "      <td>2.187500</td>\n",
       "      <td>25.625000</td>\n",
       "      <td>16.484375</td>\n",
       "      <td>119.078125</td>\n",
       "      <td>102.109375</td>\n",
       "      <td>0.531250</td>\n",
       "      <td>16.968750</td>\n",
       "      <td>33.020313</td>\n",
       "      <td>0.625000</td>\n",
       "    </tr>\n",
       "  </tbody>\n",
       "</table>\n",
       "<p>2 rows × 26 columns</p>\n",
       "</div>"
      ],
      "text/plain": [
       "             G        FG        FGA       FG%        3P        3PA       3P%  \\\n",
       "WIN                                                                            \n",
       "0    42.928571  8.142857  19.428571  0.414429  3.000000  10.214286  0.289143   \n",
       "1    40.234375  8.625000  18.015625  0.478531  4.359375  10.000000  0.424313   \n",
       "\n",
       "           FT       FTA       FT%    ...          TOV        PF        PTS  \\\n",
       "WIN                                  ...                                     \n",
       "0    4.357143  4.785714  0.923714    ...     3.571429  2.857143  23.642857   \n",
       "1    4.015625  4.500000  0.890554    ...     2.921875  2.187500  25.625000   \n",
       "\n",
       "           PER          TM         OPP      HOME         WP         MP  \\\n",
       "WIN                                                                      \n",
       "0    -4.714286  102.857143  113.142857  0.357143 -10.285714  34.911905   \n",
       "1    16.484375  119.078125  102.109375  0.531250  16.968750  33.020313   \n",
       "\n",
       "           WT  \n",
       "WIN            \n",
       "0    0.642857  \n",
       "1    0.625000  \n",
       "\n",
       "[2 rows x 26 columns]"
      ]
     },
     "execution_count": 6,
     "metadata": {},
     "output_type": "execute_result"
    }
   ],
   "source": [
    "nba.groupby('WIN').mean()"
   ]
  },
  {
   "cell_type": "code",
   "execution_count": 6,
   "metadata": {},
   "outputs": [
    {
     "data": {
      "text/plain": [
       "WIN\n",
       "0    14\n",
       "1    64\n",
       "dtype: int64"
      ]
     },
     "execution_count": 6,
     "metadata": {},
     "output_type": "execute_result"
    }
   ],
   "source": [
    "nba.groupby('WIN').size()"
   ]
  },
  {
   "cell_type": "code",
   "execution_count": 10,
   "metadata": {},
   "outputs": [
    {
     "data": {
      "text/plain": [
       "WIN\n",
       "0    0.289143\n",
       "1    0.424312\n",
       "Name: 3P%, dtype: float64"
      ]
     },
     "execution_count": 10,
     "metadata": {},
     "output_type": "execute_result"
    }
   ],
   "source": [
    "nba.groupby('WIN')['3P%'].mean()"
   ]
  },
  {
   "cell_type": "code",
   "execution_count": 36,
   "metadata": {},
   "outputs": [
    {
     "data": {
      "text/plain": [
       "WIN\n",
       "0     2\n",
       "1    35\n",
       "dtype: int64"
      ]
     },
     "execution_count": 36,
     "metadata": {},
     "output_type": "execute_result"
    }
   ],
   "source": [
    "nba[nba['3P%']>=0.40].groupby('WIN').size()"
   ]
  },
  {
   "cell_type": "code",
   "execution_count": 37,
   "metadata": {},
   "outputs": [
    {
     "data": {
      "text/plain": [
       "0.9459459459459459"
      ]
     },
     "execution_count": 37,
     "metadata": {},
     "output_type": "execute_result"
    }
   ],
   "source": [
    "35 / 37"
   ]
  },
  {
   "cell_type": "code",
   "execution_count": 18,
   "metadata": {},
   "outputs": [
    {
     "data": {
      "text/html": [
       "<div>\n",
       "<style scoped>\n",
       "    .dataframe tbody tr th:only-of-type {\n",
       "        vertical-align: middle;\n",
       "    }\n",
       "\n",
       "    .dataframe tbody tr th {\n",
       "        vertical-align: top;\n",
       "    }\n",
       "\n",
       "    .dataframe thead th {\n",
       "        text-align: right;\n",
       "    }\n",
       "</style>\n",
       "<table border=\"1\" class=\"dataframe\">\n",
       "  <thead>\n",
       "    <tr style=\"text-align: right;\">\n",
       "      <th></th>\n",
       "      <th>G</th>\n",
       "      <th>FG</th>\n",
       "      <th>FGA</th>\n",
       "      <th>FG%</th>\n",
       "      <th>3P</th>\n",
       "      <th>3PA</th>\n",
       "      <th>3P%</th>\n",
       "      <th>FT</th>\n",
       "      <th>FTA</th>\n",
       "      <th>FT%</th>\n",
       "      <th>...</th>\n",
       "      <th>PER</th>\n",
       "      <th>TM</th>\n",
       "      <th>OPP</th>\n",
       "      <th>HOME</th>\n",
       "      <th>WIN</th>\n",
       "      <th>GD</th>\n",
       "      <th>GT</th>\n",
       "      <th>WP</th>\n",
       "      <th>MP</th>\n",
       "      <th>WT</th>\n",
       "    </tr>\n",
       "  </thead>\n",
       "  <tbody>\n",
       "    <tr>\n",
       "      <th>5</th>\n",
       "      <td>6</td>\n",
       "      <td>5</td>\n",
       "      <td>17</td>\n",
       "      <td>0.294</td>\n",
       "      <td>0</td>\n",
       "      <td>10</td>\n",
       "      <td>0.000</td>\n",
       "      <td>3</td>\n",
       "      <td>3</td>\n",
       "      <td>1.0</td>\n",
       "      <td>...</td>\n",
       "      <td>-5</td>\n",
       "      <td>97</td>\n",
       "      <td>117</td>\n",
       "      <td>0</td>\n",
       "      <td>0</td>\n",
       "      <td>Fri</td>\n",
       "      <td>10:30p ET</td>\n",
       "      <td>-20</td>\n",
       "      <td>31.100000</td>\n",
       "      <td>1</td>\n",
       "    </tr>\n",
       "    <tr>\n",
       "      <th>12</th>\n",
       "      <td>13</td>\n",
       "      <td>7</td>\n",
       "      <td>21</td>\n",
       "      <td>0.333</td>\n",
       "      <td>1</td>\n",
       "      <td>11</td>\n",
       "      <td>0.091</td>\n",
       "      <td>5</td>\n",
       "      <td>5</td>\n",
       "      <td>1.0</td>\n",
       "      <td>...</td>\n",
       "      <td>1</td>\n",
       "      <td>124</td>\n",
       "      <td>121</td>\n",
       "      <td>0</td>\n",
       "      <td>1</td>\n",
       "      <td>Sat</td>\n",
       "      <td>8:30p ET</td>\n",
       "      <td>3</td>\n",
       "      <td>34.683333</td>\n",
       "      <td>0</td>\n",
       "    </tr>\n",
       "    <tr>\n",
       "      <th>21</th>\n",
       "      <td>22</td>\n",
       "      <td>7</td>\n",
       "      <td>16</td>\n",
       "      <td>0.438</td>\n",
       "      <td>0</td>\n",
       "      <td>8</td>\n",
       "      <td>0.000</td>\n",
       "      <td>5</td>\n",
       "      <td>5</td>\n",
       "      <td>1.0</td>\n",
       "      <td>...</td>\n",
       "      <td>18</td>\n",
       "      <td>115</td>\n",
       "      <td>98</td>\n",
       "      <td>0</td>\n",
       "      <td>1</td>\n",
       "      <td>Wed</td>\n",
       "      <td>10:30p ET</td>\n",
       "      <td>17</td>\n",
       "      <td>33.283333</td>\n",
       "      <td>1</td>\n",
       "    </tr>\n",
       "    <tr>\n",
       "      <th>52</th>\n",
       "      <td>55</td>\n",
       "      <td>4</td>\n",
       "      <td>18</td>\n",
       "      <td>0.222</td>\n",
       "      <td>1</td>\n",
       "      <td>11</td>\n",
       "      <td>0.091</td>\n",
       "      <td>2</td>\n",
       "      <td>2</td>\n",
       "      <td>1.0</td>\n",
       "      <td>...</td>\n",
       "      <td>-24</td>\n",
       "      <td>110</td>\n",
       "      <td>132</td>\n",
       "      <td>0</td>\n",
       "      <td>0</td>\n",
       "      <td>Mon</td>\n",
       "      <td>9:00p ET</td>\n",
       "      <td>-22</td>\n",
       "      <td>26.700000</td>\n",
       "      <td>1</td>\n",
       "    </tr>\n",
       "    <tr>\n",
       "      <th>56</th>\n",
       "      <td>59</td>\n",
       "      <td>7</td>\n",
       "      <td>23</td>\n",
       "      <td>0.304</td>\n",
       "      <td>0</td>\n",
       "      <td>11</td>\n",
       "      <td>0.000</td>\n",
       "      <td>5</td>\n",
       "      <td>5</td>\n",
       "      <td>1.0</td>\n",
       "      <td>...</td>\n",
       "      <td>8</td>\n",
       "      <td>119</td>\n",
       "      <td>108</td>\n",
       "      <td>0</td>\n",
       "      <td>1</td>\n",
       "      <td>Mon</td>\n",
       "      <td>7:00p ET</td>\n",
       "      <td>11</td>\n",
       "      <td>34.800000</td>\n",
       "      <td>0</td>\n",
       "    </tr>\n",
       "  </tbody>\n",
       "</table>\n",
       "<p>5 rows × 29 columns</p>\n",
       "</div>"
      ],
      "text/plain": [
       "     G  FG  FGA    FG%  3P  3PA    3P%  FT  FTA  FT%  ...  PER   TM  OPP  \\\n",
       "5    6   5   17  0.294   0   10  0.000   3    3  1.0  ...   -5   97  117   \n",
       "12  13   7   21  0.333   1   11  0.091   5    5  1.0  ...    1  124  121   \n",
       "21  22   7   16  0.438   0    8  0.000   5    5  1.0  ...   18  115   98   \n",
       "52  55   4   18  0.222   1   11  0.091   2    2  1.0  ...  -24  110  132   \n",
       "56  59   7   23  0.304   0   11  0.000   5    5  1.0  ...    8  119  108   \n",
       "\n",
       "    HOME  WIN   GD         GT  WP         MP  WT  \n",
       "5      0    0  Fri  10:30p ET -20  31.100000   1  \n",
       "12     0    1  Sat   8:30p ET   3  34.683333   0  \n",
       "21     0    1  Wed  10:30p ET  17  33.283333   1  \n",
       "52     0    0  Mon   9:00p ET -22  26.700000   1  \n",
       "56     0    1  Mon   7:00p ET  11  34.800000   0  \n",
       "\n",
       "[5 rows x 29 columns]"
      ]
     },
     "execution_count": 18,
     "metadata": {},
     "output_type": "execute_result"
    }
   ],
   "source": [
    "nba[nba['3P%']<=0.10]"
   ]
  },
  {
   "cell_type": "code",
   "execution_count": 7,
   "metadata": {},
   "outputs": [
    {
     "data": {
      "text/plain": [
       "64"
      ]
     },
     "execution_count": 7,
     "metadata": {},
     "output_type": "execute_result"
    }
   ],
   "source": [
    "sum(nba['WIN'])"
   ]
  },
  {
   "cell_type": "code",
   "execution_count": 8,
   "metadata": {},
   "outputs": [
    {
     "data": {
      "text/plain": [
       "G         int64\n",
       "FG        int64\n",
       "FGA       int64\n",
       "FG%     float64\n",
       "3P        int64\n",
       "3PA       int64\n",
       "3P%     float64\n",
       "FT        int64\n",
       "FTA       int64\n",
       "FT%     float64\n",
       "ORB       int64\n",
       "DRB       int64\n",
       "TRB       int64\n",
       "AST       int64\n",
       "STL       int64\n",
       "BLK       int64\n",
       "TOV       int64\n",
       "PF        int64\n",
       "PTS       int64\n",
       "PER       int64\n",
       "TM        int64\n",
       "OPP       int64\n",
       "HOME      int64\n",
       "WIN       int64\n",
       "GD       object\n",
       "GT       object\n",
       "WP        int64\n",
       "MP      float64\n",
       "WT        int64\n",
       "dtype: object"
      ]
     },
     "execution_count": 8,
     "metadata": {},
     "output_type": "execute_result"
    }
   ],
   "source": [
    "nba.dtypes"
   ]
  },
  {
   "cell_type": "code",
   "execution_count": 9,
   "metadata": {},
   "outputs": [],
   "source": [
    "from sklearn.ensemble import ExtraTreesClassifier"
   ]
  },
  {
   "cell_type": "code",
   "execution_count": 10,
   "metadata": {},
   "outputs": [],
   "source": [
    "from sklearn.ensemble import RandomForestClassifier"
   ]
  },
  {
   "cell_type": "code",
   "execution_count": 11,
   "metadata": {},
   "outputs": [
    {
     "name": "stdout",
     "output_type": "stream",
     "text": [
      "['Tue' 'Fri' 'Sun' 'Thu' 'Mon' 'Wed' 'Sat']\n",
      "['10:30p ET' '9:30p ET' '6:00p ET' '10:00p ET' '9:00p ET' '8:00p ET'\n",
      " '8:30p ET' '7:00p ET' '7:30p ET' '2:30p ET' '12:00p ET' '3:30p ET']\n"
     ]
    }
   ],
   "source": [
    "## Game Day and Game Time\n",
    "print(nba['GD'].unique())\n",
    "print(nba['GT'].unique())"
   ]
  },
  {
   "cell_type": "code",
   "execution_count": 12,
   "metadata": {},
   "outputs": [],
   "source": [
    "GDS = pd.get_dummies(nba['GD'], drop_first=True)\n",
    "GTS = pd.get_dummies(nba['GT'], drop_first=True)\n",
    "nba = pd.concat([nba, GDS, GTS], axis=1)"
   ]
  },
  {
   "cell_type": "code",
   "execution_count": 13,
   "metadata": {},
   "outputs": [
    {
     "data": {
      "text/plain": [
       "(78, 46)"
      ]
     },
     "execution_count": 13,
     "metadata": {},
     "output_type": "execute_result"
    }
   ],
   "source": [
    "nba.shape"
   ]
  },
  {
   "cell_type": "code",
   "execution_count": 14,
   "metadata": {},
   "outputs": [
    {
     "data": {
      "text/plain": [
       "Index(['G', 'FG', 'FGA', 'FG%', '3P', '3PA', '3P%', 'FT', 'FTA', 'FT%', 'ORB',\n",
       "       'DRB', 'TRB', 'AST', 'STL', 'BLK', 'TOV', 'PF', 'PTS', 'PER', 'TM',\n",
       "       'OPP', 'HOME', 'WIN', 'GD', 'GT', 'WP', 'MP', 'WT', 'Mon', 'Sat', 'Sun',\n",
       "       'Thu', 'Tue', 'Wed', '10:30p ET', '12:00p ET', '2:30p ET', '3:30p ET',\n",
       "       '6:00p ET', '7:00p ET', '7:30p ET', '8:00p ET', '8:30p ET', '9:00p ET',\n",
       "       '9:30p ET'],\n",
       "      dtype='object')"
      ]
     },
     "execution_count": 14,
     "metadata": {},
     "output_type": "execute_result"
    }
   ],
   "source": [
    "nba.columns"
   ]
  },
  {
   "cell_type": "code",
   "execution_count": 15,
   "metadata": {},
   "outputs": [],
   "source": [
    "features_to_drop = ['G', 'FG', 'FGA', '3P', '3PA', 'FT', 'FTA', 'TRB', 'PER', 'TM','OPP', 'GD', 'GT', 'WP']"
   ]
  },
  {
   "cell_type": "code",
   "execution_count": 16,
   "metadata": {},
   "outputs": [],
   "source": [
    "nba['FT%'] = nba['FT%'].fillna(0)"
   ]
  },
  {
   "cell_type": "code",
   "execution_count": 17,
   "metadata": {},
   "outputs": [],
   "source": [
    "nba = nba.drop(features_to_drop, axis=1)"
   ]
  },
  {
   "cell_type": "code",
   "execution_count": 18,
   "metadata": {},
   "outputs": [],
   "source": [
    "def run_feature_importance(data, response):\n",
    "    # Build a forest and compute the feature importances\n",
    "   # forest = ExtraTreesClassifier(n_estimators=250, random_state=0)\n",
    "    \n",
    "    forest = RandomForestClassifier(n_estimators=250, random_state=0)\n",
    "    X = data.drop(response, axis=1)\n",
    "    y = data[response]\n",
    "\n",
    "    forest.fit(X, y)\n",
    "    importances = forest.feature_importances_\n",
    "    std = np.std([tree.feature_importances_ for tree in forest.estimators_], axis=0)\n",
    "    indices = np.argsort(importances)[::-1]\n",
    "    \n",
    "\n",
    "    # Print the feature ranking\n",
    "    print(\"Feature ranking:\")\n",
    "\n",
    "    for f in range(X.shape[1]):\n",
    "        print(\"%d. feature %s (%f)\" % (f + 1, X.columns[indices[f]], importances[indices[f]]))\n",
    "\n",
    "    # Plot the feature importances of the forest\n",
    "    plt.figure()\n",
    "    plt.title(\"Feature importances\")\n",
    "    plt.bar(range(X.shape[1]), importances[indices], color=\"r\", yerr=std[indices], align=\"center\")\n",
    "    plt.xticks(range(X.shape[1]), indices)\n",
    "    plt.xlim([-1, X.shape[1]])\n",
    "    plt.show()"
   ]
  },
  {
   "cell_type": "code",
   "execution_count": 19,
   "metadata": {
    "scrolled": true
   },
   "outputs": [
    {
     "name": "stdout",
     "output_type": "stream",
     "text": [
      "Feature ranking:\n",
      "1. feature 3P% (0.160245)\n",
      "2. feature MP (0.127466)\n",
      "3. feature FG% (0.094959)\n",
      "4. feature AST (0.070135)\n",
      "5. feature FT% (0.068735)\n",
      "6. feature PTS (0.062617)\n",
      "7. feature TOV (0.057740)\n",
      "8. feature ORB (0.057002)\n",
      "9. feature PF (0.044366)\n",
      "10. feature STL (0.044014)\n",
      "11. feature DRB (0.041861)\n",
      "12. feature BLK (0.034622)\n",
      "13. feature HOME (0.016041)\n",
      "14. feature 8:00p ET (0.015719)\n",
      "15. feature 2:30p ET (0.015565)\n",
      "16. feature Mon (0.014138)\n",
      "17. feature WT (0.012539)\n",
      "18. feature 10:30p ET (0.009397)\n",
      "19. feature Sat (0.008414)\n",
      "20. feature Tue (0.008181)\n",
      "21. feature 7:00p ET (0.007487)\n",
      "22. feature Wed (0.007030)\n",
      "23. feature 7:30p ET (0.006354)\n",
      "24. feature Thu (0.005684)\n",
      "25. feature 9:00p ET (0.004340)\n",
      "26. feature Sun (0.003762)\n",
      "27. feature 8:30p ET (0.000925)\n",
      "28. feature 6:00p ET (0.000469)\n",
      "29. feature 9:30p ET (0.000169)\n",
      "30. feature 3:30p ET (0.000023)\n",
      "31. feature 12:00p ET (0.000000)\n"
     ]
    },
    {
     "data": {
      "image/png": "[encoded data removed]",
      "text/plain": [
       "<matplotlib.figure.Figure at 0x1e17af32048>"
      ]
     },
     "metadata": {},
     "output_type": "display_data"
    }
   ],
   "source": [
    "run_feature_importance(nba, 'WIN')"
   ]
  },
  {
   "cell_type": "code",
   "execution_count": 38,
   "metadata": {},
   "outputs": [
    {
     "data": {
      "text/plain": [
       "RandomForestClassifier(bootstrap=True, class_weight=None, criterion='gini',\n",
       "            max_depth=None, max_features='auto', max_leaf_nodes=None,\n",
       "            min_impurity_decrease=0.0, min_impurity_split=None,\n",
       "            min_samples_leaf=1, min_samples_split=2,\n",
       "            min_weight_fraction_leaf=0.0, n_estimators=1000, n_jobs=1,\n",
       "            oob_score=False, random_state=0, verbose=0, warm_start=False)"
      ]
     },
     "execution_count": 38,
     "metadata": {},
     "output_type": "execute_result"
    }
   ],
   "source": [
    "forest = RandomForestClassifier(n_estimators=1000, random_state=0)\n",
    "X = nba.drop('WIN', axis=1)\n",
    "y = nba['WIN']\n",
    "\n",
    "forest.fit(X, y)"
   ]
  },
  {
   "cell_type": "code",
   "execution_count": 39,
   "metadata": {},
   "outputs": [
    {
     "data": {
      "text/plain": [
       "array([[ 0.711,  0.289],\n",
       "       [ 0.016,  0.984],\n",
       "       [ 0.072,  0.928],\n",
       "       [ 0.076,  0.924],\n",
       "       [ 0.051,  0.949],\n",
       "       [ 0.72 ,  0.28 ],\n",
       "       [ 0.116,  0.884],\n",
       "       [ 0.03 ,  0.97 ],\n",
       "       [ 0.036,  0.964],\n",
       "       [ 0.013,  0.987],\n",
       "       [ 0.042,  0.958],\n",
       "       [ 0.133,  0.867],\n",
       "       [ 0.172,  0.828],\n",
       "       [ 0.051,  0.949],\n",
       "       [ 0.024,  0.976],\n",
       "       [ 0.013,  0.987],\n",
       "       [ 0.049,  0.951],\n",
       "       [ 0.16 ,  0.84 ],\n",
       "       [ 0.725,  0.275],\n",
       "       [ 0.085,  0.915],\n",
       "       [ 0.064,  0.936],\n",
       "       [ 0.101,  0.899],\n",
       "       [ 0.065,  0.935],\n",
       "       [ 0.767,  0.233],\n",
       "       [ 0.024,  0.976],\n",
       "       [ 0.007,  0.993],\n",
       "       [ 0.144,  0.856],\n",
       "       [ 0.049,  0.951],\n",
       "       [ 0.068,  0.932],\n",
       "       [ 0.092,  0.908],\n",
       "       [ 0.045,  0.955],\n",
       "       [ 0.709,  0.291],\n",
       "       [ 0.019,  0.981],\n",
       "       [ 0.048,  0.952],\n",
       "       [ 0.026,  0.974],\n",
       "       [ 0.76 ,  0.24 ],\n",
       "       [ 0.028,  0.972],\n",
       "       [ 0.074,  0.926],\n",
       "       [ 0.03 ,  0.97 ],\n",
       "       [ 0.024,  0.976],\n",
       "       [ 0.006,  0.994],\n",
       "       [ 0.008,  0.992],\n",
       "       [ 0.016,  0.984],\n",
       "       [ 0.704,  0.296],\n",
       "       [ 0.053,  0.947],\n",
       "       [ 0.071,  0.929],\n",
       "       [ 0.044,  0.956],\n",
       "       [ 0.094,  0.906],\n",
       "       [ 0.734,  0.266],\n",
       "       [ 0.065,  0.935],\n",
       "       [ 0.05 ,  0.95 ],\n",
       "       [ 0.061,  0.939],\n",
       "       [ 0.762,  0.238],\n",
       "       [ 0.124,  0.876],\n",
       "       [ 0.058,  0.942],\n",
       "       [ 0.032,  0.968],\n",
       "       [ 0.18 ,  0.82 ],\n",
       "       [ 0.791,  0.209],\n",
       "       [ 0.739,  0.261],\n",
       "       [ 0.013,  0.987],\n",
       "       [ 0.051,  0.949],\n",
       "       [ 0.75 ,  0.25 ],\n",
       "       [ 0.792,  0.208],\n",
       "       [ 0.08 ,  0.92 ],\n",
       "       [ 0.044,  0.956],\n",
       "       [ 0.112,  0.888],\n",
       "       [ 0.057,  0.943],\n",
       "       [ 0.016,  0.984],\n",
       "       [ 0.015,  0.985],\n",
       "       [ 0.021,  0.979],\n",
       "       [ 0.125,  0.875],\n",
       "       [ 0.014,  0.986],\n",
       "       [ 0.084,  0.916],\n",
       "       [ 0.033,  0.967],\n",
       "       [ 0.019,  0.981],\n",
       "       [ 0.063,  0.937],\n",
       "       [ 0.65 ,  0.35 ],\n",
       "       [ 0.025,  0.975]])"
      ]
     },
     "execution_count": 39,
     "metadata": {},
     "output_type": "execute_result"
    }
   ],
   "source": [
    "forest.predict_proba(X)"
   ]
  },
  {
   "cell_type": "code",
   "execution_count": 20,
   "metadata": {},
   "outputs": [
    {
     "data": {
      "text/plain": [
       "1    64\n",
       "0    14\n",
       "Name: WIN, dtype: int64"
      ]
     },
     "execution_count": 20,
     "metadata": {},
     "output_type": "execute_result"
    }
   ],
   "source": [
    "nba['WIN'].value_counts()"
   ]
  },
  {
   "cell_type": "markdown",
   "metadata": {},
   "source": [
    "## Balancing the data"
   ]
  },
  {
   "cell_type": "code",
   "execution_count": 21,
   "metadata": {},
   "outputs": [],
   "source": [
    "from sklearn.utils import resample"
   ]
  },
  {
   "cell_type": "code",
   "execution_count": 22,
   "metadata": {},
   "outputs": [],
   "source": [
    "nba_big = nba[nba['WIN']==1]\n",
    "nba_small = nba[nba['WIN']==0]"
   ]
  },
  {
   "cell_type": "code",
   "execution_count": 23,
   "metadata": {},
   "outputs": [],
   "source": [
    "final_data = resample(nba_small, replace=True, n_samples =64, random_state =101)"
   ]
  },
  {
   "cell_type": "code",
   "execution_count": 24,
   "metadata": {},
   "outputs": [],
   "source": [
    "final_data = pd.concat([final_data, nba_big])"
   ]
  },
  {
   "cell_type": "code",
   "execution_count": 25,
   "metadata": {},
   "outputs": [
    {
     "data": {
      "text/plain": [
       "1    64\n",
       "0    64\n",
       "Name: WIN, dtype: int64"
      ]
     },
     "execution_count": 25,
     "metadata": {},
     "output_type": "execute_result"
    }
   ],
   "source": [
    "final_data['WIN'].value_counts()"
   ]
  },
  {
   "cell_type": "code",
   "execution_count": 26,
   "metadata": {},
   "outputs": [
    {
     "name": "stdout",
     "output_type": "stream",
     "text": [
      "Feature ranking:\n",
      "1. feature 3P% (0.180436)\n",
      "2. feature MP (0.115658)\n",
      "3. feature FG% (0.113055)\n",
      "4. feature FT% (0.109370)\n",
      "5. feature AST (0.068187)\n",
      "6. feature PTS (0.063178)\n",
      "7. feature ORB (0.045443)\n",
      "8. feature TOV (0.039297)\n",
      "9. feature DRB (0.036706)\n",
      "10. feature PF (0.036376)\n",
      "11. feature STL (0.027979)\n",
      "12. feature HOME (0.027517)\n",
      "13. feature BLK (0.016976)\n",
      "14. feature Mon (0.016149)\n",
      "15. feature Sat (0.015654)\n",
      "16. feature 10:30p ET (0.015009)\n",
      "17. feature Wed (0.013186)\n",
      "18. feature 8:00p ET (0.008627)\n",
      "19. feature WT (0.008445)\n",
      "20. feature 8:30p ET (0.007065)\n",
      "21. feature 7:00p ET (0.005789)\n",
      "22. feature Thu (0.005660)\n",
      "23. feature Tue (0.005043)\n",
      "24. feature 9:00p ET (0.004858)\n",
      "25. feature Sun (0.004531)\n",
      "26. feature 2:30p ET (0.004268)\n",
      "27. feature 7:30p ET (0.003927)\n",
      "28. feature 6:00p ET (0.000740)\n",
      "29. feature 9:30p ET (0.000500)\n",
      "30. feature 12:00p ET (0.000259)\n",
      "31. feature 3:30p ET (0.000115)\n"
     ]
    },
    {
     "data": {
      "image/png": "[encoded data removed]",
      "text/plain": [
       "<matplotlib.figure.Figure at 0x1e17af11eb8>"
      ]
     },
     "metadata": {},
     "output_type": "display_data"
    }
   ],
   "source": [
    "run_feature_importance(final_data, 'WIN')"
   ]
  },
  {
   "cell_type": "markdown",
   "metadata": {},
   "source": [
    "## Logistic Regression Model"
   ]
  },
  {
   "cell_type": "code",
   "execution_count": 27,
   "metadata": {},
   "outputs": [
    {
     "data": {
      "text/plain": [
       "(128, 32)"
      ]
     },
     "execution_count": 27,
     "metadata": {},
     "output_type": "execute_result"
    }
   ],
   "source": [
    "final_data.shape"
   ]
  },
  {
   "cell_type": "code",
   "execution_count": 28,
   "metadata": {},
   "outputs": [
    {
     "data": {
      "text/plain": [
       "Index(['FG%', '3P%', 'FT%', 'ORB', 'DRB', 'AST', 'STL', 'BLK', 'TOV', 'PF',\n",
       "       'PTS', 'HOME', 'WIN', 'MP', 'WT', 'Mon', 'Sat', 'Sun', 'Thu', 'Tue',\n",
       "       'Wed', '10:30p ET', '12:00p ET', '2:30p ET', '3:30p ET', '6:00p ET',\n",
       "       '7:00p ET', '7:30p ET', '8:00p ET', '8:30p ET', '9:00p ET', '9:30p ET'],\n",
       "      dtype='object')"
      ]
     },
     "execution_count": 28,
     "metadata": {},
     "output_type": "execute_result"
    }
   ],
   "source": [
    "final_data.columns"
   ]
  },
  {
   "cell_type": "code",
   "execution_count": 29,
   "metadata": {},
   "outputs": [],
   "source": [
    "from sklearn.model_selection import train_test_split"
   ]
  },
  {
   "cell_type": "code",
   "execution_count": 30,
   "metadata": {},
   "outputs": [],
   "source": [
    "from sklearn.linear_model import LogisticRegression"
   ]
  },
  {
   "cell_type": "code",
   "execution_count": 31,
   "metadata": {},
   "outputs": [],
   "source": [
    "from sklearn import metrics"
   ]
  },
  {
   "cell_type": "code",
   "execution_count": 32,
   "metadata": {},
   "outputs": [],
   "source": [
    "X = final_data.drop(['WIN'], axis=1)\n",
    "y = final_data['WIN']"
   ]
  },
  {
   "cell_type": "code",
   "execution_count": 33,
   "metadata": {},
   "outputs": [],
   "source": [
    "X_train, X_test, y_train, y_test = train_test_split(X, y, test_size=0.3, random_state=101)"
   ]
  },
  {
   "cell_type": "code",
   "execution_count": 34,
   "metadata": {},
   "outputs": [],
   "source": [
    "lr = LogisticRegression()"
   ]
  },
  {
   "cell_type": "code",
   "execution_count": 35,
   "metadata": {},
   "outputs": [
    {
     "data": {
      "text/plain": [
       "LogisticRegression(C=1.0, class_weight=None, dual=False, fit_intercept=True,\n",
       "          intercept_scaling=1, max_iter=100, multi_class='ovr', n_jobs=1,\n",
       "          penalty='l2', random_state=None, solver='liblinear', tol=0.0001,\n",
       "          verbose=0, warm_start=False)"
      ]
     },
     "execution_count": 35,
     "metadata": {},
     "output_type": "execute_result"
    }
   ],
   "source": [
    "lr.fit(X_train, y_train)"
   ]
  },
  {
   "cell_type": "code",
   "execution_count": 36,
   "metadata": {},
   "outputs": [],
   "source": [
    "predictions = lr.predict(X_test)"
   ]
  },
  {
   "cell_type": "code",
   "execution_count": 37,
   "metadata": {},
   "outputs": [
    {
     "name": "stdout",
     "output_type": "stream",
     "text": [
      "             precision    recall  f1-score   support\n",
      "\n",
      "          0       0.76      1.00      0.86        19\n",
      "          1       1.00      0.70      0.82        20\n",
      "\n",
      "avg / total       0.88      0.85      0.84        39\n",
      "\n",
      "[[19  0]\n",
      " [ 6 14]]\n"
     ]
    }
   ],
   "source": [
    "print(metrics.classification_report(y_test, predictions))\n",
    "print(metrics.confusion_matrix(y_test, predictions))"
   ]
  },
  {
   "cell_type": "code",
   "execution_count": 38,
   "metadata": {},
   "outputs": [],
   "source": [
    "scores = lr.predict_proba(X_test)"
   ]
  },
  {
   "cell_type": "code",
   "execution_count": 39,
   "metadata": {},
   "outputs": [
    {
     "data": {
      "text/plain": [
       "array([[ 0.68858242,  0.31141758],\n",
       "       [ 0.81718181,  0.18281819],\n",
       "       [ 0.01485259,  0.98514741],\n",
       "       [ 0.75555164,  0.24444836],\n",
       "       [ 0.02058986,  0.97941014],\n",
       "       [ 0.27624573,  0.72375427],\n",
       "       [ 0.94625866,  0.05374134],\n",
       "       [ 0.5761132 ,  0.4238868 ],\n",
       "       [ 0.14626126,  0.85373874],\n",
       "       [ 0.59739165,  0.40260835],\n",
       "       [ 0.86919126,  0.13080874],\n",
       "       [ 0.7601417 ,  0.2398583 ],\n",
       "       [ 0.52460294,  0.47539706],\n",
       "       [ 0.94625866,  0.05374134],\n",
       "       [ 0.68858242,  0.31141758],\n",
       "       [ 0.24311692,  0.75688308],\n",
       "       [ 0.29787437,  0.70212563],\n",
       "       [ 0.14997697,  0.85002303],\n",
       "       [ 0.94625866,  0.05374134],\n",
       "       [ 0.52460294,  0.47539706],\n",
       "       [ 0.68858242,  0.31141758],\n",
       "       [ 0.83387984,  0.16612016],\n",
       "       [ 0.68858242,  0.31141758],\n",
       "       [ 0.75406623,  0.24593377],\n",
       "       [ 0.68858242,  0.31141758],\n",
       "       [ 0.8237462 ,  0.1762538 ],\n",
       "       [ 0.10624496,  0.89375504],\n",
       "       [ 0.70820663,  0.29179337],\n",
       "       [ 0.59853401,  0.40146599],\n",
       "       [ 0.38610083,  0.61389917],\n",
       "       [ 0.68752194,  0.31247806],\n",
       "       [ 0.94625866,  0.05374134],\n",
       "       [ 0.32591993,  0.67408007],\n",
       "       [ 0.0673083 ,  0.9326917 ],\n",
       "       [ 0.76422061,  0.23577939],\n",
       "       [ 0.00848268,  0.99151732],\n",
       "       [ 0.12588325,  0.87411675],\n",
       "       [ 0.58666335,  0.41333665],\n",
       "       [ 0.2393198 ,  0.7606802 ]])"
      ]
     },
     "execution_count": 39,
     "metadata": {},
     "output_type": "execute_result"
    }
   ],
   "source": [
    "scores"
   ]
  },
  {
   "cell_type": "code",
   "execution_count": 40,
   "metadata": {},
   "outputs": [
    {
     "data": {
      "text/plain": [
       "0.84999999999999998"
      ]
     },
     "execution_count": 40,
     "metadata": {},
     "output_type": "execute_result"
    }
   ],
   "source": [
    "metrics.roc_auc_score(y_test,predictions)"
   ]
  }
 ],
 "metadata": {
  "kernelspec": {
   "display_name": "Python 3 (ipykernel)",
   "language": "python",
   "name": "python3"
  },
  "language_info": {
   "codemirror_mode": {
    "name": "ipython",
    "version": 3
   },
   "file_extension": ".py",
   "mimetype": "text/x-python",
   "name": "python",
   "nbconvert_exporter": "python",
   "pygments_lexer": "ipython3",
   "version": "3.9.16"
  }
 },
 "nbformat": 4,
 "nbformat_minor": 2
}
