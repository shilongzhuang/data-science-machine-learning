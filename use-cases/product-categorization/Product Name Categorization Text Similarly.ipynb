{
 "cells": [
  {
   "cell_type": "code",
   "execution_count": 50,
   "id": "8cd2048a-bc77-4370-9c4a-6711726820ee",
   "metadata": {},
   "outputs": [],
   "source": [
    "import pandas as pd\n",
    "import numpy as np\n",
    "\n",
    "import matplotlib.pyplot as plt\n",
    "%matplotlib inline  \n",
    "import seaborn as sns\n",
    "\n",
    "import requests\n",
    "import json\n",
    "import io\n",
    "import os\n",
    "from tabulate import tabulate\n",
    "import pprint\n",
    "from plydata import define, query, select, head, do, group_by, summarize, arrange, left_join, distinct \n",
    "\n",
    "import re\n",
    "from bs4 import BeautifulSoup"
   ]
  },
  {
   "cell_type": "code",
   "execution_count": 4,
   "id": "a05d5142-7b4d-4e84-9adc-877fc16562b3",
   "metadata": {},
   "outputs": [],
   "source": [
    "def print_table(table):\n",
    "    print(tabulate(table, headers='keys', showindex=False, tablefmt='presto'))"
   ]
  },
  {
   "cell_type": "code",
   "execution_count": 10,
   "id": "16cd37d5-327e-4333-8bcf-416cd283d0a3",
   "metadata": {},
   "outputs": [],
   "source": [
    "with open('samples.json') as f:\n",
    "    json_data = json.loads(f.read())"
   ]
  },
  {
   "cell_type": "code",
   "execution_count": 16,
   "id": "c18a018a-1b0a-4b08-9eec-a9eaeb84fd1d",
   "metadata": {},
   "outputs": [
    {
     "data": {
      "text/plain": [
       "[{'sku': 'HB-001',\n",
       "  'manufacturer_name': 'House Brand',\n",
       "  'product_name': 'SoftShield Latex Exam Gloves',\n",
       "  'size': 'Small',\n",
       "  'color': 'Blue',\n",
       "  'quantity': '100/Bx',\n",
       "  'name': 'House Brand SoftShield Latex Exam Gloves - Small - Blue - 100/Bx'},\n",
       " {'sku': 'HB-002',\n",
       "  'manufacturer_name': 'House Brand',\n",
       "  'product_name': 'SoftShield Latex Exam Gloves',\n",
       "  'size': 'Medium',\n",
       "  'color': 'Red',\n",
       "  'quantity': '200/Bx',\n",
       "  'name': 'House Brand SoftShield Latex Exam Gloves - Medium - Red - 200/Bx'},\n",
       " {'sku': 'HB-003',\n",
       "  'manufacturer_name': 'House Brand',\n",
       "  'product_name': 'SoftShield Latex Exam Gloves',\n",
       "  'size': 'Large',\n",
       "  'color': 'Green',\n",
       "  'quantity': '300/Bx',\n",
       "  'name': 'House Brand SoftShield Latex Exam Gloves - Large - Green - 300/Bx'}]"
      ]
     },
     "execution_count": 16,
     "metadata": {},
     "output_type": "execute_result"
    }
   ],
   "source": [
    "json_data[0:3]"
   ]
  },
  {
   "cell_type": "code",
   "execution_count": 38,
   "id": "ec8f0a0f-1bd1-42ae-9c7e-3a574a97413f",
   "metadata": {},
   "outputs": [],
   "source": [
    "raw_product_data = pd.DataFrame(json_data)"
   ]
  },
  {
   "cell_type": "code",
   "execution_count": 39,
   "id": "7526924f-4c6f-40b6-912a-e510803b18ae",
   "metadata": {},
   "outputs": [
    {
     "name": "stdout",
     "output_type": "stream",
     "text": [
      "<class 'pandas.core.frame.DataFrame'>\n",
      "RangeIndex: 45 entries, 0 to 44\n",
      "Data columns (total 7 columns):\n",
      " #   Column             Non-Null Count  Dtype \n",
      "---  ------             --------------  ----- \n",
      " 0   sku                45 non-null     object\n",
      " 1   manufacturer_name  45 non-null     object\n",
      " 2   product_name       45 non-null     object\n",
      " 3   size               45 non-null     object\n",
      " 4   color              45 non-null     object\n",
      " 5   quantity           45 non-null     object\n",
      " 6   name               45 non-null     object\n",
      "dtypes: object(7)\n",
      "memory usage: 2.6+ KB\n"
     ]
    }
   ],
   "source": [
    "raw_product_data.info()"
   ]
  },
  {
   "cell_type": "code",
   "execution_count": 40,
   "id": "933888a4-65fe-43b1-b050-6b3ec6a2be36",
   "metadata": {},
   "outputs": [
    {
     "name": "stdout",
     "output_type": "stream",
     "text": [
      " sku    | manufacturer_name   | product_name                  | size   | color   | quantity   | name\n",
      "--------+---------------------+-------------------------------+--------+---------+------------+-------------------------------------------------------------------\n",
      " HB-001 | House Brand         | SoftShield Latex Exam Gloves  | Small  | Blue    | 100/Bx     | House Brand SoftShield Latex Exam Gloves - Small - Blue - 100/Bx\n",
      " HB-002 | House Brand         | SoftShield Latex Exam Gloves  | Medium | Red     | 200/Bx     | House Brand SoftShield Latex Exam Gloves - Medium - Red - 200/Bx\n",
      " HB-003 | House Brand         | SoftShield Latex Exam Gloves  | Large  | Green   | 300/Bx     | House Brand SoftShield Latex Exam Gloves - Large - Green - 300/Bx\n",
      " OT-001 | OmniTrust           | SensiCare Nitrile Exam Gloves | Small  | Blue    | 100/Bx     | OmniTrust SensiCare Nitrile Exam Gloves - Small - Blue - 100/Bx\n",
      " OT-002 | OmniTrust           | SensiCare Nitrile Exam Gloves | Medium | Red     | 200/Bx     | OmniTrust SensiCare Nitrile Exam Gloves - Medium - Red - 200/Bx\n"
     ]
    }
   ],
   "source": [
    "print_table(raw_product_data.head())"
   ]
  },
  {
   "cell_type": "code",
   "execution_count": 41,
   "id": "18e69e0c-e6ef-41dc-ad7f-07e24a99d42b",
   "metadata": {},
   "outputs": [
    {
     "name": "stdout",
     "output_type": "stream",
     "text": [
      " manufacturer_name   |   cnt\n",
      "---------------------+-------\n",
      " House Brand         |     9\n",
      " OmniTrust           |     9\n",
      " TruFit              |     9\n",
      " Alasta              |     9\n",
      " Blossom             |     9\n"
     ]
    }
   ],
   "source": [
    "print_table(raw_product_data\n",
    "            >> group_by('manufacturer_name') \n",
    "            >> summarize(cnt='n()')\n",
    "           )"
   ]
  },
  {
   "cell_type": "code",
   "execution_count": 42,
   "id": "351f2cd3-920f-4f41-a93e-fd2c38642f29",
   "metadata": {},
   "outputs": [
    {
     "name": "stdout",
     "output_type": "stream",
     "text": [
      " size   |   cnt\n",
      "--------+-------\n",
      " Small  |    15\n",
      " Medium |    15\n",
      " Large  |    15\n"
     ]
    }
   ],
   "source": [
    "print_table(raw_product_data \n",
    "            >> group_by('size') \n",
    "            >> summarize(cnt='n()')\n",
    "           )"
   ]
  },
  {
   "cell_type": "code",
   "execution_count": 43,
   "id": "133d44d8-1fa1-4dba-b1a8-f729ba289973",
   "metadata": {},
   "outputs": [
    {
     "name": "stdout",
     "output_type": "stream",
     "text": [
      " quantity   |   cnt\n",
      "------------+-------\n",
      " 100/Bx     |     5\n",
      " 200/Bx     |    11\n",
      " 300/Bx     |     6\n",
      " 150/Bx     |     5\n",
      " 250/Bx     |     6\n",
      " 350/Bx     |     1\n",
      " 120/Bx     |     1\n",
      " 220/Bx     |     3\n",
      " 180/Bx     |     7\n"
     ]
    }
   ],
   "source": [
    "print_table(raw_product_data \n",
    "            >> group_by('quantity') \n",
    "            >> summarize(cnt='n()')\n",
    "           )"
   ]
  },
  {
   "cell_type": "code",
   "execution_count": 44,
   "id": "9d6e10db-216b-4748-a74a-33681ed9f9fa",
   "metadata": {},
   "outputs": [
    {
     "name": "stdout",
     "output_type": "stream",
     "text": [
      " product_name                     |   cnt\n",
      "----------------------------------+-------\n",
      " ComfortGrip Nitrile Exam Gloves  |     1\n",
      " DuraFit Vinyl Exam Gloves        |     3\n",
      " DuraGrip Latex Exam Gloves       |     1\n",
      " DuraShield Vinyl Exam Gloves     |     1\n",
      " FitGuard Vinyl Exam Gloves       |     1\n",
      " FlexGuard Nitrile Exam Gloves    |     1\n",
      " FlexShield Latex Exam Gloves     |     1\n",
      " FlexTouch Nitrile Gloves         |     1\n",
      " FlexiFit Nitrile Exam Gloves     |     1\n",
      " FlexiShield Vinyl Exam Gloves    |     1\n",
      " GloveGuard Polyethylene Gloves   |     1\n",
      " GripComfort Nitrile Exam Gloves  |     1\n",
      " GripSafe Nitrile Exam Gloves     |     1\n",
      " LavenderGuard Latex Exam Gloves  |     1\n",
      " MagnoliaTouch Nitrile Gloves     |     1\n",
      " NitrileGuard Nitrile Exam Gloves |     1\n",
      " OrchidGuard Nitrile Gloves       |     1\n",
      " PolyComfort Polyethylene Gloves  |     1\n",
      " PolyCuff Polyethylene Gloves     |     3\n",
      " PolyGrip Polyethylene Gloves     |     1\n",
      " PolyTouch Polyethylene Gloves    |     1\n",
      " RoseGuard Nitrile Gloves         |     3\n",
      " RoseTouch Nitrile Gloves         |     1\n",
      " SafeGrip Nitrile Exam Gloves     |     1\n",
      " SafeGuard Vinyl Gloves           |     1\n",
      " SafeTouch Nitrile Exam Gloves    |     1\n",
      " SensiCare Nitrile Exam Gloves    |     3\n",
      " SoftShield Latex Exam Gloves     |     3\n",
      " SunflowerTouch Latex Exam Gloves |     1\n",
      " SureFit Vinyl Exam Gloves        |     1\n",
      " SureGrip Vinyl Exam Gloves       |     1\n",
      " SureShield Latex Exam Gloves     |     1\n",
      " SureShield Vinyl Exam Gloves     |     1\n",
      " TulipTouch Nitrile Gloves        |     1\n",
      " VinylComfort Vinyl Exam Gloves   |     1\n"
     ]
    }
   ],
   "source": [
    "print_table(raw_product_data \n",
    "            >> group_by('product_name') \n",
    "            >> summarize(cnt='n()')\n",
    "            >> arrange('product_name')\n",
    "           )"
   ]
  },
  {
   "cell_type": "code",
   "execution_count": 36,
   "id": "3ad02267-731c-450f-8173-ce8c9f9b3563",
   "metadata": {},
   "outputs": [],
   "source": [
    "## Create a lookup table for manufacturer\n",
    "\n",
    "manufacturer_names = [\n",
    "    {'manufacturer_name': 'House Brand', 'id': 1},\n",
    "    {'manufacturer_name': 'OmniTrust', 'id': 2},\n",
    "    {'manufacturer_name': 'TruFit', 'id': 3},\n",
    "    {'manufacturer_name': 'Alasta', 'id': 4},\n",
    "    {'manufacturer_name': 'Blossom', 'id': 5}\n",
    "]\n",
    "\n",
    "dim_manufacturers = pd.DataFrame(manufacturer_names)"
   ]
  },
  {
   "cell_type": "code",
   "execution_count": 37,
   "id": "7cd82474-2670-478d-b4dd-5fa7e6548bd6",
   "metadata": {},
   "outputs": [
    {
     "name": "stdout",
     "output_type": "stream",
     "text": [
      " manufacturer_name   |   id\n",
      "---------------------+------\n",
      " House Brand         |    1\n",
      " OmniTrust           |    2\n",
      " TruFit              |    3\n",
      " Alasta              |    4\n",
      " Blossom             |    5\n"
     ]
    }
   ],
   "source": [
    "print_table(dim_manufacturers)"
   ]
  },
  {
   "cell_type": "code",
   "execution_count": null,
   "id": "18ee67ba-f2e5-433e-aaed-bd3ce80162dc",
   "metadata": {},
   "outputs": [],
   "source": [
    "df['pid'] = df['id'] * 10000000 + data.groupby(by='manufacturer_name')['name'].rank(method='first').astype('int')\n",
    "df['pid'].unique().shape"
   ]
  },
  {
   "cell_type": "code",
   "execution_count": 46,
   "id": "b9c1a064-9809-46f6-af43-8df3e8f5ac48",
   "metadata": {},
   "outputs": [],
   "source": [
    "data = pd.merge(raw_product_data, \n",
    "                dim_manufacturers, \n",
    "                how='left', \n",
    "                left_on=['manufacturer_name'], \n",
    "                right_on=['manufacturer_name']\n",
    "               )"
   ]
  },
  {
   "cell_type": "code",
   "execution_count": 55,
   "id": "94381e84-3c68-4912-b0e4-50a3ee3cd7fc",
   "metadata": {},
   "outputs": [],
   "source": [
    "data.rename(columns = {'id' : 'manufacturer_id'}, inplace=True)"
   ]
  },
  {
   "cell_type": "code",
   "execution_count": 56,
   "id": "319f12ec-c05e-4657-9c11-bbf5ce68919e",
   "metadata": {},
   "outputs": [
    {
     "data": {
      "text/html": [
       "<div>\n",
       "<style scoped>\n",
       "    .dataframe tbody tr th:only-of-type {\n",
       "        vertical-align: middle;\n",
       "    }\n",
       "\n",
       "    .dataframe tbody tr th {\n",
       "        vertical-align: top;\n",
       "    }\n",
       "\n",
       "    .dataframe thead th {\n",
       "        text-align: right;\n",
       "    }\n",
       "</style>\n",
       "<table border=\"1\" class=\"dataframe\">\n",
       "  <thead>\n",
       "    <tr style=\"text-align: right;\">\n",
       "      <th></th>\n",
       "      <th>sku</th>\n",
       "      <th>manufacturer_name</th>\n",
       "      <th>product_name</th>\n",
       "      <th>size</th>\n",
       "      <th>color</th>\n",
       "      <th>quantity</th>\n",
       "      <th>name</th>\n",
       "      <th>manufacturer_id</th>\n",
       "    </tr>\n",
       "  </thead>\n",
       "  <tbody>\n",
       "    <tr>\n",
       "      <th>0</th>\n",
       "      <td>HB-001</td>\n",
       "      <td>House Brand</td>\n",
       "      <td>SoftShield Latex Exam Gloves</td>\n",
       "      <td>Small</td>\n",
       "      <td>Blue</td>\n",
       "      <td>100/Bx</td>\n",
       "      <td>House Brand SoftShield Latex Exam Gloves - Sma...</td>\n",
       "      <td>1</td>\n",
       "    </tr>\n",
       "    <tr>\n",
       "      <th>1</th>\n",
       "      <td>HB-002</td>\n",
       "      <td>House Brand</td>\n",
       "      <td>SoftShield Latex Exam Gloves</td>\n",
       "      <td>Medium</td>\n",
       "      <td>Red</td>\n",
       "      <td>200/Bx</td>\n",
       "      <td>House Brand SoftShield Latex Exam Gloves - Med...</td>\n",
       "      <td>1</td>\n",
       "    </tr>\n",
       "    <tr>\n",
       "      <th>2</th>\n",
       "      <td>HB-003</td>\n",
       "      <td>House Brand</td>\n",
       "      <td>SoftShield Latex Exam Gloves</td>\n",
       "      <td>Large</td>\n",
       "      <td>Green</td>\n",
       "      <td>300/Bx</td>\n",
       "      <td>House Brand SoftShield Latex Exam Gloves - Lar...</td>\n",
       "      <td>1</td>\n",
       "    </tr>\n",
       "    <tr>\n",
       "      <th>3</th>\n",
       "      <td>OT-001</td>\n",
       "      <td>OmniTrust</td>\n",
       "      <td>SensiCare Nitrile Exam Gloves</td>\n",
       "      <td>Small</td>\n",
       "      <td>Blue</td>\n",
       "      <td>100/Bx</td>\n",
       "      <td>OmniTrust SensiCare Nitrile Exam Gloves - Smal...</td>\n",
       "      <td>2</td>\n",
       "    </tr>\n",
       "    <tr>\n",
       "      <th>4</th>\n",
       "      <td>OT-002</td>\n",
       "      <td>OmniTrust</td>\n",
       "      <td>SensiCare Nitrile Exam Gloves</td>\n",
       "      <td>Medium</td>\n",
       "      <td>Red</td>\n",
       "      <td>200/Bx</td>\n",
       "      <td>OmniTrust SensiCare Nitrile Exam Gloves - Medi...</td>\n",
       "      <td>2</td>\n",
       "    </tr>\n",
       "  </tbody>\n",
       "</table>\n",
       "</div>"
      ],
      "text/plain": [
       "      sku manufacturer_name                   product_name    size  color  \\\n",
       "0  HB-001       House Brand   SoftShield Latex Exam Gloves   Small   Blue   \n",
       "1  HB-002       House Brand   SoftShield Latex Exam Gloves  Medium    Red   \n",
       "2  HB-003       House Brand   SoftShield Latex Exam Gloves   Large  Green   \n",
       "3  OT-001         OmniTrust  SensiCare Nitrile Exam Gloves   Small   Blue   \n",
       "4  OT-002         OmniTrust  SensiCare Nitrile Exam Gloves  Medium    Red   \n",
       "\n",
       "  quantity                                               name  manufacturer_id  \n",
       "0   100/Bx  House Brand SoftShield Latex Exam Gloves - Sma...                1  \n",
       "1   200/Bx  House Brand SoftShield Latex Exam Gloves - Med...                1  \n",
       "2   300/Bx  House Brand SoftShield Latex Exam Gloves - Lar...                1  \n",
       "3   100/Bx  OmniTrust SensiCare Nitrile Exam Gloves - Smal...                2  \n",
       "4   200/Bx  OmniTrust SensiCare Nitrile Exam Gloves - Medi...                2  "
      ]
     },
     "execution_count": 56,
     "metadata": {},
     "output_type": "execute_result"
    }
   ],
   "source": [
    "data.head()"
   ]
  },
  {
   "cell_type": "code",
   "execution_count": 58,
   "id": "05a6fa05-94a4-4500-ae34-0fa222f3ef0b",
   "metadata": {},
   "outputs": [
    {
     "data": {
      "text/plain": [
       "(45,)"
      ]
     },
     "execution_count": 58,
     "metadata": {},
     "output_type": "execute_result"
    }
   ],
   "source": [
    "data['pid'] = data['manufacturer_id'] * 10000000 + data.groupby(by='manufacturer_name')['name'].rank(method='first').astype('int')\n",
    "data['pid'].unique().shape"
   ]
  },
  {
   "cell_type": "code",
   "execution_count": 59,
   "id": "c5512b30-2cd9-4121-a201-c51cdb808f2a",
   "metadata": {},
   "outputs": [
    {
     "name": "stdout",
     "output_type": "stream",
     "text": [
      " manufacturer_name   |   cnt |   names |   pids\n",
      "---------------------+-------+---------+--------\n",
      " House Brand         |     9 |       9 |      9\n",
      " OmniTrust           |     9 |       9 |      9\n",
      " TruFit              |     9 |       9 |      9\n",
      " Alasta              |     9 |       9 |      9\n",
      " Blossom             |     9 |       9 |      9\n"
     ]
    }
   ],
   "source": [
    "print_table(data \n",
    "            >> group_by('manufacturer_name') \n",
    "            >> summarize(cnt='n()', names='n_unique(name)', pids='n_unique(pid)')\n",
    "            >> arrange('-pids')\n",
    "           )"
   ]
  },
  {
   "cell_type": "code",
   "execution_count": 60,
   "id": "896ab5e3-1909-4e6c-b303-6d4e08c35552",
   "metadata": {},
   "outputs": [],
   "source": [
    "from sklearn.feature_extraction.text import TfidfVectorizer, CountVectorizer\n",
    "from sklearn.metrics.pairwise import cosine_similarity\n",
    "\n",
    "def similarity(name1, name2):\n",
    "    vectorizer = TfidfVectorizer()\n",
    "    vectors = vectorizer.fit_transform([name1, name2])\n",
    "    # Calculate the cosine similarity between the vectors\n",
    "    similarity = cosine_similarity(vectors)\n",
    "    return similarity[0][1]"
   ]
  },
  {
   "cell_type": "code",
   "execution_count": 66,
   "id": "e7e423ee-0b9f-4a40-964a-c632603d44e3",
   "metadata": {},
   "outputs": [
    {
     "name": "stdout",
     "output_type": "stream",
     "text": [
      "INFO: Pandarallel will run on 8 workers.\n",
      "INFO: Pandarallel will use standard multiprocessing data transfer (pipe) to transfer data between the main process and workers.\n"
     ]
    }
   ],
   "source": [
    "from pandarallel import pandarallel\n",
    "\n",
    "# pandarallel.initialize(progress_bar=True)\n",
    "pandarallel.initialize()"
   ]
  },
  {
   "cell_type": "code",
   "execution_count": 62,
   "id": "36ec2148-ae66-4e80-a139-d0e297e84728",
   "metadata": {},
   "outputs": [],
   "source": [
    "df = data.merge(data, how='outer', left_on=['manufacturer_name'], right_on=['manufacturer_name'], suffixes=('', '_y'))"
   ]
  },
  {
   "cell_type": "code",
   "execution_count": 67,
   "id": "5ebc2afd-1593-405e-ba5b-87e33772e947",
   "metadata": {},
   "outputs": [],
   "source": [
    "df['relevance_score'] = df.parallel_apply(lambda df : similarity(df['name'], df['name_y']), axis=1)"
   ]
  },
  {
   "cell_type": "code",
   "execution_count": 69,
   "id": "1baa63ec-4731-4090-8ccf-5d3fe324e30a",
   "metadata": {},
   "outputs": [
    {
     "data": {
      "text/plain": [
       "count    405.000000\n",
       "mean       0.466497\n",
       "std        0.208963\n",
       "min        0.216934\n",
       "25%        0.336097\n",
       "50%        0.387557\n",
       "75%        0.503103\n",
       "max        1.000000\n",
       "Name: relevance_score, dtype: float64"
      ]
     },
     "execution_count": 69,
     "metadata": {},
     "output_type": "execute_result"
    }
   ],
   "source": [
    "df['relevance_score'].describe()"
   ]
  },
  {
   "cell_type": "code",
   "execution_count": 76,
   "id": "d82e0ffd-9595-4756-af6f-c7153e713551",
   "metadata": {},
   "outputs": [
    {
     "data": {
      "image/png": "[encoded data removed]",
      "text/plain": [
       "<Figure size 500x500 with 1 Axes>"
      ]
     },
     "metadata": {},
     "output_type": "display_data"
    }
   ],
   "source": [
    "sns.displot(df['relevance_score'])\n",
    "plt.show()"
   ]
  },
  {
   "cell_type": "code",
   "execution_count": 83,
   "id": "94a2d95d-570f-4314-9f85-844dfcada69c",
   "metadata": {},
   "outputs": [
    {
     "name": "stdout",
     "output_type": "stream",
     "text": [
      "      pid |    pid_y | name                                                             | name_y                                                                |   relevance_score\n",
      "----------+----------+------------------------------------------------------------------+-----------------------------------------------------------------------+-------------------\n",
      " 10000006 | 10000006 | House Brand SoftShield Latex Exam Gloves - Medium - Red - 200/Bx | House Brand SoftShield Latex Exam Gloves - Medium - Red - 200/Bx      |          1\n",
      " 10000006 | 10000009 | House Brand SoftShield Latex Exam Gloves - Medium - Red - 200/Bx | House Brand SureShield Latex Exam Gloves - Medium - Green - 200/Bx    |          0.669419\n",
      " 10000006 | 10000005 | House Brand SoftShield Latex Exam Gloves - Medium - Red - 200/Bx | House Brand SoftShield Latex Exam Gloves - Large - Green - 300/Bx     |          0.541544\n",
      " 10000006 | 10000007 | House Brand SoftShield Latex Exam Gloves - Medium - Red - 200/Bx | House Brand SoftShield Latex Exam Gloves - Small - Blue - 100/Bx      |          0.541544\n",
      " 10000006 | 10000002 | House Brand SoftShield Latex Exam Gloves - Medium - Red - 200/Bx | House Brand FlexShield Latex Exam Gloves - Small - Purple - 250/Bx    |          0.431613\n",
      " 10000006 | 10000003 | House Brand SoftShield Latex Exam Gloves - Medium - Red - 200/Bx | House Brand FlexiFit Nitrile Exam Gloves - Medium - Blue - 180/Bx     |          0.431613\n",
      " 10000006 | 10000001 | House Brand SoftShield Latex Exam Gloves - Medium - Red - 200/Bx | House Brand FlexGuard Nitrile Exam Gloves - Large - Purple - 350/Bx   |          0.336097\n",
      " 10000006 | 10000004 | House Brand SoftShield Latex Exam Gloves - Medium - Red - 200/Bx | House Brand NitrileGuard Nitrile Exam Gloves - Small - Green - 250/Bx |          0.336097\n",
      " 10000006 | 10000008 | House Brand SoftShield Latex Exam Gloves - Medium - Red - 200/Bx | House Brand SureFit Vinyl Exam Gloves - Large - Orange - 250/Bx       |          0.336097\n"
     ]
    }
   ],
   "source": [
    "print_table(df \n",
    "            >> query(\"pid==10000006\")\n",
    "            >> select('pid', 'pid_y', 'name', 'name_y', 'relevance_score')\n",
    "            >> arrange('-relevance_score', 'pid', 'pid_y')\n",
    "            >> head(10)\n",
    "           )"
   ]
  },
  {
   "cell_type": "code",
   "execution_count": null,
   "id": "3e028a67-ad9d-4b3d-8bf9-f470c3d24cab",
   "metadata": {},
   "outputs": [],
   "source": []
  },
  {
   "cell_type": "code",
   "execution_count": null,
   "id": "b21952f1-40c1-4d35-8994-468ab2f0cca8",
   "metadata": {},
   "outputs": [],
   "source": []
  }
 ],
 "metadata": {
  "kernelspec": {
   "display_name": "Python 3 (ipykernel)",
   "language": "python",
   "name": "python3"
  },
  "language_info": {
   "codemirror_mode": {
    "name": "ipython",
    "version": 3
   },
   "file_extension": ".py",
   "mimetype": "text/x-python",
   "name": "python",
   "nbconvert_exporter": "python",
   "pygments_lexer": "ipython3",
   "version": "3.9.16"
  }
 },
 "nbformat": 4,
 "nbformat_minor": 5
}
