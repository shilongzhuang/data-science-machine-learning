{
 "cells": [
  {
   "cell_type": "code",
   "execution_count": 5,
   "metadata": {},
   "outputs": [
    {
     "name": "stdout",
     "output_type": "stream",
     "text": [
      "package 'tibble' successfully unpacked and MD5 sums checked\n",
      "\n",
      "The downloaded binary packages are in\n",
      "\tC:\\Users\\shilongz\\AppData\\Local\\Temp\\RtmpcPNSY6\\downloaded_packages\n",
      "package 'ggplot2' successfully unpacked and MD5 sums checked\n",
      "\n",
      "The downloaded binary packages are in\n",
      "\tC:\\Users\\shilongz\\AppData\\Local\\Temp\\RtmpcPNSY6\\downloaded_packages\n"
     ]
    }
   ],
   "source": [
    "# install.packages(\"lme4\", repos = \"http://cran.us.r-project.org\")\n",
    "# install.packages(\"dplyr\", repos = \"http://cran.us.r-project.org\")\n",
    "# install.packages(\"tibble\" , repos = \"http://cran.us.r-project.org\")\n",
    "# install.packages(\"ggplot2\", repos = \"http://cran.us.r-project.org\")"
   ]
  },
  {
   "cell_type": "code",
   "execution_count": 6,
   "metadata": {},
   "outputs": [
    {
     "name": "stderr",
     "output_type": "stream",
     "text": [
      "Loading required package: Matrix\n",
      "\n",
      "Attaching package: 'dplyr'\n",
      "\n",
      "The following objects are masked from 'package:stats':\n",
      "\n",
      "    filter, lag\n",
      "\n",
      "The following objects are masked from 'package:base':\n",
      "\n",
      "    intersect, setdiff, setequal, union\n",
      "\n"
     ]
    }
   ],
   "source": [
    "library(lme4)\n",
    "library(dplyr)"
   ]
  },
  {
   "cell_type": "code",
   "execution_count": 7,
   "metadata": {},
   "outputs": [
    {
     "data": {
      "text/html": [
       "'D:/workspace/Github/machine-learning-use-cases/customer-ltv'"
      ],
      "text/latex": [
       "'D:/workspace/Github/machine-learning-use-cases/customer-ltv'"
      ],
      "text/markdown": [
       "'D:/workspace/Github/machine-learning-use-cases/customer-ltv'"
      ],
      "text/plain": [
       "[1] \"D:/workspace/Github/machine-learning-use-cases/customer-ltv\""
      ]
     },
     "metadata": {},
     "output_type": "display_data"
    }
   ],
   "source": [
    "getwd()"
   ]
  },
  {
   "cell_type": "code",
   "execution_count": 12,
   "metadata": {
    "collapsed": true
   },
   "outputs": [],
   "source": [
    "data <- read.csv('ltv.csv')"
   ]
  },
  {
   "cell_type": "code",
   "execution_count": 13,
   "metadata": {},
   "outputs": [
    {
     "data": {
      "text/html": [
       "<table>\n",
       "<thead><tr><th scope=col>CUSTOMER_ID</th><th scope=col>PRODUCT_TYPE</th><th scope=col>CHURN_STATUS</th><th scope=col>DURATION</th><th scope=col>TRAFFIC_SOURCE</th><th scope=col>GENDER</th><th scope=col>AGE_BUCKET</th><th scope=col>STATE</th><th scope=col>CARRIER_NAME</th><th scope=col>SUBMIT_METHOD</th><th scope=col>REVENUE_RECEIVED</th></tr></thead>\n",
       "<tbody>\n",
       "\t<tr><td>C1         </td><td>Product B  </td><td>1          </td><td> 365       </td><td>Source 43  </td><td>M          </td><td>Age Range 1</td><td>FL         </td><td>Carrier 5  </td><td>Web        </td><td> 52.00     </td></tr>\n",
       "\t<tr><td>C2         </td><td>Product B  </td><td>0          </td><td>1072       </td><td>Source 95  </td><td>F          </td><td>Age Range 1</td><td>NC         </td><td>Carrier 3  </td><td>Phone      </td><td>228.00     </td></tr>\n",
       "\t<tr><td>C3         </td><td>Product B  </td><td>1          </td><td>1091       </td><td>Source 173 </td><td>M          </td><td>Age Range 1</td><td>MN         </td><td>Carrier 3  </td><td>Web        </td><td>183.00     </td></tr>\n",
       "\t<tr><td>C4         </td><td>Product A  </td><td>0          </td><td> 405       </td><td>Source 2   </td><td>F          </td><td>Age Range 1</td><td>GA         </td><td>Carrier 3  </td><td>Phone      </td><td>586.31     </td></tr>\n",
       "\t<tr><td>C5         </td><td>Product A  </td><td>1          </td><td> 360       </td><td>Source 215 </td><td>M          </td><td>Age Range 1</td><td>TX         </td><td>Carrier 5  </td><td>Phone      </td><td>411.00     </td></tr>\n",
       "\t<tr><td>C6         </td><td>Product A  </td><td>0          </td><td> 229       </td><td>Source 160 </td><td>M          </td><td>Age Range 1</td><td>ME         </td><td>Carrier 1  </td><td>Web        </td><td>606.00     </td></tr>\n",
       "</tbody>\n",
       "</table>\n"
      ],
      "text/latex": [
       "\\begin{tabular}{r|lllllllllll}\n",
       " CUSTOMER\\_ID & PRODUCT\\_TYPE & CHURN\\_STATUS & DURATION & TRAFFIC\\_SOURCE & GENDER & AGE\\_BUCKET & STATE & CARRIER\\_NAME & SUBMIT\\_METHOD & REVENUE\\_RECEIVED\\\\\n",
       "\\hline\n",
       "\t C1          & Product B   & 1           &  365        & Source 43   & M           & Age Range 1 & FL          & Carrier 5   & Web         &  52.00     \\\\\n",
       "\t C2          & Product B   & 0           & 1072        & Source 95   & F           & Age Range 1 & NC          & Carrier 3   & Phone       & 228.00     \\\\\n",
       "\t C3          & Product B   & 1           & 1091        & Source 173  & M           & Age Range 1 & MN          & Carrier 3   & Web         & 183.00     \\\\\n",
       "\t C4          & Product A   & 0           &  405        & Source 2    & F           & Age Range 1 & GA          & Carrier 3   & Phone       & 586.31     \\\\\n",
       "\t C5          & Product A   & 1           &  360        & Source 215  & M           & Age Range 1 & TX          & Carrier 5   & Phone       & 411.00     \\\\\n",
       "\t C6          & Product A   & 0           &  229        & Source 160  & M           & Age Range 1 & ME          & Carrier 1   & Web         & 606.00     \\\\\n",
       "\\end{tabular}\n"
      ],
      "text/markdown": [
       "\n",
       "CUSTOMER_ID | PRODUCT_TYPE | CHURN_STATUS | DURATION | TRAFFIC_SOURCE | GENDER | AGE_BUCKET | STATE | CARRIER_NAME | SUBMIT_METHOD | REVENUE_RECEIVED | \n",
       "|---|---|---|---|---|---|\n",
       "| C1          | Product B   | 1           |  365        | Source 43   | M           | Age Range 1 | FL          | Carrier 5   | Web         |  52.00      | \n",
       "| C2          | Product B   | 0           | 1072        | Source 95   | F           | Age Range 1 | NC          | Carrier 3   | Phone       | 228.00      | \n",
       "| C3          | Product B   | 1           | 1091        | Source 173  | M           | Age Range 1 | MN          | Carrier 3   | Web         | 183.00      | \n",
       "| C4          | Product A   | 0           |  405        | Source 2    | F           | Age Range 1 | GA          | Carrier 3   | Phone       | 586.31      | \n",
       "| C5          | Product A   | 1           |  360        | Source 215  | M           | Age Range 1 | TX          | Carrier 5   | Phone       | 411.00      | \n",
       "| C6          | Product A   | 0           |  229        | Source 160  | M           | Age Range 1 | ME          | Carrier 1   | Web         | 606.00      | \n",
       "\n",
       "\n"
      ],
      "text/plain": [
       "  CUSTOMER_ID PRODUCT_TYPE CHURN_STATUS DURATION TRAFFIC_SOURCE GENDER\n",
       "1 C1          Product B    1             365     Source 43      M     \n",
       "2 C2          Product B    0            1072     Source 95      F     \n",
       "3 C3          Product B    1            1091     Source 173     M     \n",
       "4 C4          Product A    0             405     Source 2       F     \n",
       "5 C5          Product A    1             360     Source 215     M     \n",
       "6 C6          Product A    0             229     Source 160     M     \n",
       "  AGE_BUCKET  STATE CARRIER_NAME SUBMIT_METHOD REVENUE_RECEIVED\n",
       "1 Age Range 1 FL    Carrier 5    Web            52.00          \n",
       "2 Age Range 1 NC    Carrier 3    Phone         228.00          \n",
       "3 Age Range 1 MN    Carrier 3    Web           183.00          \n",
       "4 Age Range 1 GA    Carrier 3    Phone         586.31          \n",
       "5 Age Range 1 TX    Carrier 5    Phone         411.00          \n",
       "6 Age Range 1 ME    Carrier 1    Web           606.00          "
      ]
     },
     "metadata": {},
     "output_type": "display_data"
    }
   ],
   "source": [
    "head(data)"
   ]
  },
  {
   "cell_type": "code",
   "execution_count": 31,
   "metadata": {},
   "outputs": [],
   "source": [
    "data %>%\n",
    "  select(CUSTOMER_ID, REVENUE_RECEIVED, TRAFFIC_SOURCE,GENDER,AGE_BUCKET,STATE,CARRIER_NAME,SUBMIT_METHOD) -> data.copy"
   ]
  },
  {
   "cell_type": "code",
   "execution_count": 32,
   "metadata": {},
   "outputs": [
    {
     "data": {
      "text/html": [
       "<table>\n",
       "<thead><tr><th scope=col>CUSTOMER_ID</th><th scope=col>REVENUE_RECEIVED</th><th scope=col>TRAFFIC_SOURCE</th><th scope=col>GENDER</th><th scope=col>AGE_BUCKET</th><th scope=col>STATE</th><th scope=col>CARRIER_NAME</th><th scope=col>SUBMIT_METHOD</th></tr></thead>\n",
       "<tbody>\n",
       "\t<tr><td>C1         </td><td> 52.00     </td><td>Source 43  </td><td>M          </td><td>Age Range 1</td><td>FL         </td><td>Carrier 5  </td><td>Web        </td></tr>\n",
       "\t<tr><td>C2         </td><td>228.00     </td><td>Source 95  </td><td>F          </td><td>Age Range 1</td><td>NC         </td><td>Carrier 3  </td><td>Phone      </td></tr>\n",
       "\t<tr><td>C3         </td><td>183.00     </td><td>Source 173 </td><td>M          </td><td>Age Range 1</td><td>MN         </td><td>Carrier 3  </td><td>Web        </td></tr>\n",
       "\t<tr><td>C4         </td><td>586.31     </td><td>Source 2   </td><td>F          </td><td>Age Range 1</td><td>GA         </td><td>Carrier 3  </td><td>Phone      </td></tr>\n",
       "\t<tr><td>C5         </td><td>411.00     </td><td>Source 215 </td><td>M          </td><td>Age Range 1</td><td>TX         </td><td>Carrier 5  </td><td>Phone      </td></tr>\n",
       "\t<tr><td>C6         </td><td>606.00     </td><td>Source 160 </td><td>M          </td><td>Age Range 1</td><td>ME         </td><td>Carrier 1  </td><td>Web        </td></tr>\n",
       "</tbody>\n",
       "</table>\n"
      ],
      "text/latex": [
       "\\begin{tabular}{r|llllllll}\n",
       " CUSTOMER\\_ID & REVENUE\\_RECEIVED & TRAFFIC\\_SOURCE & GENDER & AGE\\_BUCKET & STATE & CARRIER\\_NAME & SUBMIT\\_METHOD\\\\\n",
       "\\hline\n",
       "\t C1          &  52.00      & Source 43   & M           & Age Range 1 & FL          & Carrier 5   & Web        \\\\\n",
       "\t C2          & 228.00      & Source 95   & F           & Age Range 1 & NC          & Carrier 3   & Phone      \\\\\n",
       "\t C3          & 183.00      & Source 173  & M           & Age Range 1 & MN          & Carrier 3   & Web        \\\\\n",
       "\t C4          & 586.31      & Source 2    & F           & Age Range 1 & GA          & Carrier 3   & Phone      \\\\\n",
       "\t C5          & 411.00      & Source 215  & M           & Age Range 1 & TX          & Carrier 5   & Phone      \\\\\n",
       "\t C6          & 606.00      & Source 160  & M           & Age Range 1 & ME          & Carrier 1   & Web        \\\\\n",
       "\\end{tabular}\n"
      ],
      "text/markdown": [
       "\n",
       "CUSTOMER_ID | REVENUE_RECEIVED | TRAFFIC_SOURCE | GENDER | AGE_BUCKET | STATE | CARRIER_NAME | SUBMIT_METHOD | \n",
       "|---|---|---|---|---|---|\n",
       "| C1          |  52.00      | Source 43   | M           | Age Range 1 | FL          | Carrier 5   | Web         | \n",
       "| C2          | 228.00      | Source 95   | F           | Age Range 1 | NC          | Carrier 3   | Phone       | \n",
       "| C3          | 183.00      | Source 173  | M           | Age Range 1 | MN          | Carrier 3   | Web         | \n",
       "| C4          | 586.31      | Source 2    | F           | Age Range 1 | GA          | Carrier 3   | Phone       | \n",
       "| C5          | 411.00      | Source 215  | M           | Age Range 1 | TX          | Carrier 5   | Phone       | \n",
       "| C6          | 606.00      | Source 160  | M           | Age Range 1 | ME          | Carrier 1   | Web         | \n",
       "\n",
       "\n"
      ],
      "text/plain": [
       "  CUSTOMER_ID REVENUE_RECEIVED TRAFFIC_SOURCE GENDER AGE_BUCKET  STATE\n",
       "1 C1           52.00           Source 43      M      Age Range 1 FL   \n",
       "2 C2          228.00           Source 95      F      Age Range 1 NC   \n",
       "3 C3          183.00           Source 173     M      Age Range 1 MN   \n",
       "4 C4          586.31           Source 2       F      Age Range 1 GA   \n",
       "5 C5          411.00           Source 215     M      Age Range 1 TX   \n",
       "6 C6          606.00           Source 160     M      Age Range 1 ME   \n",
       "  CARRIER_NAME SUBMIT_METHOD\n",
       "1 Carrier 5    Web          \n",
       "2 Carrier 3    Phone        \n",
       "3 Carrier 3    Web          \n",
       "4 Carrier 3    Phone        \n",
       "5 Carrier 5    Phone        \n",
       "6 Carrier 1    Web          "
      ]
     },
     "metadata": {},
     "output_type": "display_data"
    }
   ],
   "source": [
    "head(data.copy)"
   ]
  },
  {
   "cell_type": "code",
   "execution_count": 17,
   "metadata": {},
   "outputs": [
    {
     "data": {
      "text/plain": [
       "  CUSTOMER_ID       PRODUCT_TYPE    CHURN_STATUS       DURATION     \n",
       " C1     :    1   Product A:26728   Min.   :0.0000   Min.   :   0.0  \n",
       " C10    :    1   Product B:10831   1st Qu.:0.0000   1st Qu.: 225.0  \n",
       " C100   :    1   Product C: 2441   Median :0.0000   Median : 445.0  \n",
       " C1000  :    1                     Mean   :0.4106   Mean   : 599.8  \n",
       " C10000 :    1                     3rd Qu.:1.0000   3rd Qu.: 895.0  \n",
       " C10001 :    1                     Max.   :1.0000   Max.   :4780.0  \n",
       " (Other):39994                                                      \n",
       "    TRAFFIC_SOURCE  GENDER          AGE_BUCKET        STATE      \n",
       " Source 1  : 8936   F:20936   Age Range 1:22659   TX     : 3357  \n",
       " Source 95 : 6337   M:19064   Age Range 2:12475   FL     : 3322  \n",
       " Source 178: 2011             Age Range 3: 4866   CA     : 2386  \n",
       " Source 222: 1802                                 NY     : 1794  \n",
       " Source 160: 1367                                 GA     : 1789  \n",
       " Source 164: 1054                                 OH     : 1689  \n",
       " (Other)   :18493                                 (Other):25663  \n",
       "    CARRIER_NAME   SUBMIT_METHOD REVENUE_RECEIVED\n",
       " Carrier 1: 5742   Phone:35088   Min.   :   0.0  \n",
       " Carrier 2: 2294   Web  : 4912   1st Qu.: 172.0  \n",
       " Carrier 3:18008                 Median : 434.5  \n",
       " Carrier 4: 3953                 Mean   : 534.0  \n",
       " Carrier 5:10003                 3rd Qu.: 762.2  \n",
       "                                 Max.   :4714.9  \n",
       "                                                 "
      ]
     },
     "metadata": {},
     "output_type": "display_data"
    }
   ],
   "source": [
    "summary(data)"
   ]
  },
  {
   "cell_type": "code",
   "execution_count": 19,
   "metadata": {
    "collapsed": true
   },
   "outputs": [],
   "source": [
    "data %>%\n",
    "  filter(PRODUCT_TYPE == 'Product A') %>%  # only predict product A\n",
    "  filter(CHURN_STATUS == 1) %>%  # only focus on churn customers\n",
    "  select(TRAFFIC_SOURCE,GENDER,AGE_BUCKET,STATE,CARRIER_NAME,SUBMIT_METHOD, REVENUE_RECEIVED) %>%\n",
    "  mutate(traffic_source = factor(TRAFFIC_SOURCE)) %>%\n",
    "  mutate(gender = factor(GENDER)) %>%\n",
    "  mutate(age_bucket = factor(AGE_BUCKET)) %>%\n",
    "  mutate(state = factor(STATE)) %>%\n",
    "  mutate(carrier = factor(CARRIER_NAME)) %>%\n",
    "  mutate(submit_method= factor(SUBMIT_METHOD)) %>%\n",
    "  mutate(revenue = REVENUE_RECEIVED) %>%\n",
    "  select(traffic_source, gender, age_bucket, state, carrier, submit_method, revenue) -> ltv"
   ]
  },
  {
   "cell_type": "code",
   "execution_count": 20,
   "metadata": {},
   "outputs": [
    {
     "data": {
      "text/plain": [
       "    traffic_source gender         age_bucket       state           carrier    \n",
       " Source 1  :3246   F:6416   Age Range 1:5849   FL     :1294   Carrier 1:2107  \n",
       " Source 95 :2284   M:5376   Age Range 2:4929   TX     :1082   Carrier 2: 676  \n",
       " Source 178: 577            Age Range 3:1014   NY     : 681   Carrier 3:5768  \n",
       " Source 222: 501                               OH     : 591   Carrier 4:1228  \n",
       " Source 164: 376                               CA     : 587   Carrier 5:2013  \n",
       " Source 2  : 283                               GA     : 574                   \n",
       " (Other)   :4525                               (Other):6983                   \n",
       " submit_method    revenue      \n",
       " Phone:11168   Min.   :   0.0  \n",
       " Web  :  624   1st Qu.: 235.1  \n",
       "               Median : 478.9  \n",
       "               Mean   : 516.3  \n",
       "               3rd Qu.: 713.0  \n",
       "               Max.   :2374.3  \n",
       "                               "
      ]
     },
     "metadata": {},
     "output_type": "display_data"
    }
   ],
   "source": [
    "summary(ltv)"
   ]
  },
  {
   "cell_type": "code",
   "execution_count": 21,
   "metadata": {
    "collapsed": true
   },
   "outputs": [],
   "source": [
    "ltv.model <- lmer(revenue ~ gender + age_bucket + state + carrier + submit_method + (1|traffic_source), data=ltv)"
   ]
  },
  {
   "cell_type": "code",
   "execution_count": 22,
   "metadata": {},
   "outputs": [
    {
     "name": "stderr",
     "output_type": "stream",
     "text": [
      "\n",
      "Correlation matrix not shown by default, as p = 58 > 12.\n",
      "Use print(obj, correlation=TRUE)  or\n",
      "\t vcov(obj)\t if you need it\n",
      "\n"
     ]
    },
    {
     "data": {
      "text/plain": [
       "Linear mixed model fit by REML ['lmerMod']\n",
       "Formula: revenue ~ gender + age_bucket + state + carrier + submit_method +  \n",
       "    (1 | traffic_source)\n",
       "   Data: ltv\n",
       "\n",
       "REML criterion at convergence: 169958.3\n",
       "\n",
       "Scaled residuals: \n",
       "    Min      1Q  Median      3Q     Max \n",
       "-2.4702 -0.7540 -0.0948  0.6451  5.3304 \n",
       "\n",
       "Random effects:\n",
       " Groups         Name        Variance Std.Dev.\n",
       " traffic_source (Intercept)  20935   144.7   \n",
       " Residual                   109454   330.8   \n",
       "Number of obs: 11792, groups:  traffic_source, 164\n",
       "\n",
       "Fixed effects:\n",
       "                      Estimate Std. Error t value\n",
       "(Intercept)            433.110     26.292  16.473\n",
       "genderM                 21.376      6.177   3.461\n",
       "age_bucketAge Range 2   25.504      6.625   3.850\n",
       "age_bucketAge Range 3   89.878     11.398   7.886\n",
       "stateAR                -14.906     30.797  -0.484\n",
       "stateAZ                 -1.939     25.818  -0.075\n",
       "stateCA                 97.230     24.071   4.039\n",
       "stateCO                 20.098     31.613   0.636\n",
       "stateCT                 84.457     35.081   2.408\n",
       "stateDC                 -2.024     80.577  -0.025\n",
       "stateDE                -10.942     56.090  -0.195\n",
       "stateFL                 24.745     21.479   1.152\n",
       "stateGA                 27.898     23.689   1.178\n",
       "stateHI                 90.390     53.788   1.681\n",
       "stateIA                 76.051     41.898   1.815\n",
       "stateID                -59.632     55.350  -1.077\n",
       "stateIL                 52.663     27.677   1.903\n",
       "stateIN                 78.618     28.569   2.752\n",
       "stateKS                 51.885     37.320   1.390\n",
       "stateKY                  7.349     28.782   0.255\n",
       "stateLA                 61.668     28.724   2.147\n",
       "stateMA                -75.238     60.069  -1.253\n",
       "stateMD                 65.964     33.528   1.967\n",
       "stateME                 24.472     60.992   0.401\n",
       "stateMI                 65.338     27.205   2.402\n",
       "stateMN                -46.902     36.333  -1.291\n",
       "stateMO                 32.170     27.148   1.185\n",
       "stateMS                 56.646     34.119   1.660\n",
       "stateMT                 85.690     66.683   1.285\n",
       "stateNC                 30.169     26.082   1.157\n",
       "stateND                 61.728     90.639   0.681\n",
       "stateNE                -16.704     61.123  -0.273\n",
       "stateNH                 70.362     58.038   1.212\n",
       "stateNJ                148.487     27.016   5.496\n",
       "stateNM                 -8.242     41.415  -0.199\n",
       "stateNV                -60.834     34.513  -1.763\n",
       "stateNY                 60.617     23.567   2.572\n",
       "stateOH                 28.422     24.013   1.184\n",
       "stateOK                 68.778     34.819   1.975\n",
       "stateOR                -80.309     39.336  -2.042\n",
       "statePA                 42.872     25.723   1.667\n",
       "stateRI                 20.971    127.863   0.164\n",
       "stateSC                 43.558     28.203   1.544\n",
       "stateSD                 -9.717     70.483  -0.138\n",
       "stateTN                -18.620     26.550  -0.701\n",
       "stateTX                 37.123     21.703   1.711\n",
       "stateUT                -10.267     39.631  -0.259\n",
       "stateVA                 25.186     26.810   0.939\n",
       "stateVT                  2.135     97.993   0.022\n",
       "stateWA                 -5.028     27.493  -0.183\n",
       "stateWI                 40.500     34.231   1.183\n",
       "stateWV                 16.537     37.276   0.444\n",
       "stateWY                -76.175    127.359  -0.598\n",
       "carrierCarrier 2        43.027     16.227   2.651\n",
       "carrierCarrier 3        35.767      9.233   3.874\n",
       "carrierCarrier 4        60.460     13.431   4.501\n",
       "carrierCarrier 5       -53.481     11.320  -4.724\n",
       "submit_methodWeb       -44.193     14.190  -3.114"
      ]
     },
     "metadata": {},
     "output_type": "display_data"
    }
   ],
   "source": [
    "summary(ltv.model)"
   ]
  },
  {
   "cell_type": "code",
   "execution_count": 25,
   "metadata": {
    "collapsed": true
   },
   "outputs": [],
   "source": [
    "predictions = predict(ltv.model, newdata = ltv, allow.new.levels = TRUE)"
   ]
  },
  {
   "cell_type": "code",
   "execution_count": 27,
   "metadata": {},
   "outputs": [
    {
     "data": {
      "text/html": [
       "<dl class=dl-horizontal>\n",
       "\t<dt>1</dt>\n",
       "\t\t<dd>473.659841417206</dd>\n",
       "\t<dt>2</dt>\n",
       "\t\t<dd>376.315325371025</dd>\n",
       "\t<dt>3</dt>\n",
       "\t\t<dd>472.480340820705</dd>\n",
       "\t<dt>4</dt>\n",
       "\t\t<dd>719.883312302146</dd>\n",
       "\t<dt>5</dt>\n",
       "\t\t<dd>344.928353482419</dd>\n",
       "\t<dt>6</dt>\n",
       "\t\t<dd>576.584276949693</dd>\n",
       "</dl>\n"
      ],
      "text/latex": [
       "\\begin{description*}\n",
       "\\item[1] 473.659841417206\n",
       "\\item[2] 376.315325371025\n",
       "\\item[3] 472.480340820705\n",
       "\\item[4] 719.883312302146\n",
       "\\item[5] 344.928353482419\n",
       "\\item[6] 576.584276949693\n",
       "\\end{description*}\n"
      ],
      "text/markdown": [
       "1\n",
       ":   473.6598414172062\n",
       ":   376.3153253710253\n",
       ":   472.4803408207054\n",
       ":   719.8833123021465\n",
       ":   344.9283534824196\n",
       ":   576.584276949693\n",
       "\n"
      ],
      "text/plain": [
       "       1        2        3        4        5        6 \n",
       "473.6598 376.3153 472.4803 719.8833 344.9284 576.5843 "
      ]
     },
     "metadata": {},
     "output_type": "display_data"
    }
   ],
   "source": [
    "head(predictions)"
   ]
  }
 ],
 "metadata": {
  "kernelspec": {
   "display_name": "Python 3 (ipykernel)",
   "language": "python",
   "name": "python3"
  },
  "language_info": {
   "codemirror_mode": {
    "name": "ipython",
    "version": 3
   },
   "file_extension": ".py",
   "mimetype": "text/x-python",
   "name": "python",
   "nbconvert_exporter": "python",
   "pygments_lexer": "ipython3",
   "version": "3.9.16"
  }
 },
 "nbformat": 4,
 "nbformat_minor": 2
}
