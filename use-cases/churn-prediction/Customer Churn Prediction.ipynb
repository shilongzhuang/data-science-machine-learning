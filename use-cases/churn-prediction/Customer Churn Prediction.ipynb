{
 "cells": [
  {
   "cell_type": "markdown",
   "metadata": {},
   "source": [
    "## Solve Customer Churn by Using Data Science"
   ]
  },
  {
   "cell_type": "markdown",
   "metadata": {},
   "source": [
    "#### BACKGROUND:\n",
    "Supposing a car insurance company has millions of customers, they spent a lot of money to acquire the customers. However, 40% of customers cancelled the insurance policy every year and all of customers stay on average no more than 8 months. To their business, churn is a big deal. Hopefully this analysis will serve as a good way for you to better understand how to use data science to solve the customer churn.\n",
    "\n",
    "\n",
    "#### PROBLEMS:\n",
    "\n",
    "* Given an existing customer, can we use the historical data to predict:\n",
    "\n",
    " 1. Whether the customer will churn or not;\n",
    " 2. When the customer will churn;\n",
    " 3. Why the customer will churn.\n",
    "\n",
    "\n",
    "* Apparently it doesn't make sense for us to contact (e.g. outbound calls, direct mails) all of customers. What if there's a way to identify top high risk customer who are more likely to churn, then it would be a good way to prioritize and then maximize the efforts as well as to improve productivity.\n"
   ]
  },
  {
   "cell_type": "markdown",
   "metadata": {},
   "source": [
    "**SOLUTIONS:** \n",
    "1. Create the customer datasets via linking all possible data source (Customer, Finance, Marketing, Survey and Third party)\n",
    "2. Find out the most important features when predicting churn\n",
    "3. Leverage machine learning to train and predict the data, evaluate the models and output the scoring of customer at risk.\n",
    "\n"
   ]
  },
  {
   "cell_type": "markdown",
   "metadata": {},
   "source": [
    "\n",
    "**RESULTS:**\n",
    "\n",
    "1. We are able to generate the High Risk customers scoring based on three models (Random model, Premium Model, Preditive model) Random forest does the best.\n",
    "2. Geographic ZIPCODE feature is ALWAYS the most important variable when predicting probability to churn.\n",
    "3. The KMeans clustering model indicates that the richer area, the higher retention rate, but less profitability."
   ]
  },
  {
   "cell_type": "markdown",
   "metadata": {
    "collapsed": true
   },
   "source": [
    "**TAKEAWAYS:**\n",
    "\n",
    "1. If a customer A has a very high predicted probability (e.g. 95%) to churn, however, A produces less revenue (e.g. $2) than others, should we really assign that customer a high priorty? It turns out we should also predict the LTV (Life Time Value) based on customer's attributes. Please refer to Customer LTV section.\n",
    "2. The linear model to predict how long a customer stays at the plan is not always perfectly. Survival model is a better solution that could predict the duration of time to event scenario."
   ]
  },
  {
   "cell_type": "markdown",
   "metadata": {
    "collapsed": true
   },
   "source": [
    "## Load Data"
   ]
  },
  {
   "cell_type": "code",
   "execution_count": 67,
   "metadata": {},
   "outputs": [],
   "source": [
    "import pandas as pd\n",
    "import numpy as np"
   ]
  },
  {
   "cell_type": "code",
   "execution_count": 68,
   "metadata": {},
   "outputs": [],
   "source": [
    "import matplotlib.pyplot as plt\n",
    "import seaborn as sns\n",
    "%matplotlib inline"
   ]
  },
  {
   "cell_type": "code",
   "execution_count": 100,
   "metadata": {},
   "outputs": [],
   "source": [
    "customers = pd.read_csv('customers.csv', dtype={'ZIP_CODE': np.str})"
   ]
  },
  {
   "cell_type": "code",
   "execution_count": 101,
   "metadata": {},
   "outputs": [],
   "source": [
    "# Transform column names to lower case\n",
    "customers.columns = map(str.lower, customers.columns)"
   ]
  },
  {
   "cell_type": "markdown",
   "metadata": {},
   "source": [
    "## Process Data"
   ]
  },
  {
   "cell_type": "code",
   "execution_count": 102,
   "metadata": {},
   "outputs": [
    {
     "data": {
      "text/plain": [
       "(40000, 16)"
      ]
     },
     "execution_count": 102,
     "metadata": {},
     "output_type": "execute_result"
    }
   ],
   "source": [
    "customers.shape"
   ]
  },
  {
   "cell_type": "code",
   "execution_count": 103,
   "metadata": {},
   "outputs": [
    {
     "data": {
      "text/html": [
       "<div>\n",
       "<style>\n",
       "    .dataframe thead tr:only-child th {\n",
       "        text-align: right;\n",
       "    }\n",
       "\n",
       "    .dataframe thead th {\n",
       "        text-align: left;\n",
       "    }\n",
       "\n",
       "    .dataframe tbody tr th {\n",
       "        vertical-align: top;\n",
       "    }\n",
       "</style>\n",
       "<table border=\"1\" class=\"dataframe\">\n",
       "  <thead>\n",
       "    <tr style=\"text-align: right;\">\n",
       "      <th></th>\n",
       "      <th>customer_id</th>\n",
       "      <th>cust_churn</th>\n",
       "      <th>cust_churn_status</th>\n",
       "      <th>duration</th>\n",
       "      <th>productline_type</th>\n",
       "      <th>carrier_name</th>\n",
       "      <th>channel</th>\n",
       "      <th>zip_code</th>\n",
       "      <th>gender</th>\n",
       "      <th>age</th>\n",
       "      <th>has_email</th>\n",
       "      <th>cost</th>\n",
       "      <th>median_income</th>\n",
       "      <th>unemployment_rate</th>\n",
       "      <th>poverty_rate</th>\n",
       "      <th>high_school_rate</th>\n",
       "    </tr>\n",
       "  </thead>\n",
       "  <tbody>\n",
       "    <tr>\n",
       "      <th>0</th>\n",
       "      <td>C1</td>\n",
       "      <td>0</td>\n",
       "      <td>Retain</td>\n",
       "      <td>4</td>\n",
       "      <td>Product A</td>\n",
       "      <td>Carrier 4</td>\n",
       "      <td>Channel A</td>\n",
       "      <td>32817</td>\n",
       "      <td>F</td>\n",
       "      <td>74</td>\n",
       "      <td>Y</td>\n",
       "      <td>23.073607</td>\n",
       "      <td>54188</td>\n",
       "      <td>4.5</td>\n",
       "      <td>9.8</td>\n",
       "      <td>34.4</td>\n",
       "    </tr>\n",
       "    <tr>\n",
       "      <th>1</th>\n",
       "      <td>C2</td>\n",
       "      <td>0</td>\n",
       "      <td>Retain</td>\n",
       "      <td>6</td>\n",
       "      <td>Product A</td>\n",
       "      <td>Carrier 8</td>\n",
       "      <td>Channel A</td>\n",
       "      <td>46804</td>\n",
       "      <td>M</td>\n",
       "      <td>60</td>\n",
       "      <td>N</td>\n",
       "      <td>387.354991</td>\n",
       "      <td>30900</td>\n",
       "      <td>5.9</td>\n",
       "      <td>30.7</td>\n",
       "      <td>32.8</td>\n",
       "    </tr>\n",
       "    <tr>\n",
       "      <th>2</th>\n",
       "      <td>C3</td>\n",
       "      <td>0</td>\n",
       "      <td>Retain</td>\n",
       "      <td>7</td>\n",
       "      <td>Product C</td>\n",
       "      <td>Carrier 8</td>\n",
       "      <td>Channel A</td>\n",
       "      <td>51034</td>\n",
       "      <td>F</td>\n",
       "      <td>77</td>\n",
       "      <td>Y</td>\n",
       "      <td>27.843773</td>\n",
       "      <td>43347</td>\n",
       "      <td>3.9</td>\n",
       "      <td>9.8</td>\n",
       "      <td>28.7</td>\n",
       "    </tr>\n",
       "    <tr>\n",
       "      <th>3</th>\n",
       "      <td>C4</td>\n",
       "      <td>0</td>\n",
       "      <td>Retain</td>\n",
       "      <td>8</td>\n",
       "      <td>Product A</td>\n",
       "      <td>Carrier 3</td>\n",
       "      <td>Channel C</td>\n",
       "      <td>49891</td>\n",
       "      <td>M</td>\n",
       "      <td>61</td>\n",
       "      <td>N</td>\n",
       "      <td>24.496505</td>\n",
       "      <td>43496</td>\n",
       "      <td>3.9</td>\n",
       "      <td>8.5</td>\n",
       "      <td>28.9</td>\n",
       "    </tr>\n",
       "    <tr>\n",
       "      <th>4</th>\n",
       "      <td>C5</td>\n",
       "      <td>1</td>\n",
       "      <td>Churn</td>\n",
       "      <td>25</td>\n",
       "      <td>Product A</td>\n",
       "      <td>Carrier 1</td>\n",
       "      <td>Channel A</td>\n",
       "      <td>49776</td>\n",
       "      <td>M</td>\n",
       "      <td>59</td>\n",
       "      <td>Y</td>\n",
       "      <td>0.000000</td>\n",
       "      <td>48935</td>\n",
       "      <td>5.2</td>\n",
       "      <td>11.4</td>\n",
       "      <td>25.2</td>\n",
       "    </tr>\n",
       "  </tbody>\n",
       "</table>\n",
       "</div>"
      ],
      "text/plain": [
       "  customer_id  cust_churn cust_churn_status  duration productline_type  \\\n",
       "0          C1           0            Retain         4        Product A   \n",
       "1          C2           0            Retain         6        Product A   \n",
       "2          C3           0            Retain         7        Product C   \n",
       "3          C4           0            Retain         8        Product A   \n",
       "4          C5           1             Churn        25        Product A   \n",
       "\n",
       "  carrier_name    channel  zip_code gender  age has_email        cost  \\\n",
       "0    Carrier 4  Channel A     32817      F   74         Y   23.073607   \n",
       "1    Carrier 8  Channel A     46804      M   60         N  387.354991   \n",
       "2    Carrier 8  Channel A     51034      F   77         Y   27.843773   \n",
       "3    Carrier 3  Channel C     49891      M   61         N   24.496505   \n",
       "4    Carrier 1  Channel A     49776      M   59         Y    0.000000   \n",
       "\n",
       "   median_income  unemployment_rate  poverty_rate  high_school_rate  \n",
       "0          54188                4.5           9.8              34.4  \n",
       "1          30900                5.9          30.7              32.8  \n",
       "2          43347                3.9           9.8              28.7  \n",
       "3          43496                3.9           8.5              28.9  \n",
       "4          48935                5.2          11.4              25.2  "
      ]
     },
     "execution_count": 103,
     "metadata": {},
     "output_type": "execute_result"
    }
   ],
   "source": [
    "customers.head()"
   ]
  },
  {
   "cell_type": "code",
   "execution_count": 104,
   "metadata": {
    "collapsed": true
   },
   "outputs": [],
   "source": [
    "def cleanup_zipcode(zipcode):\n",
    "    if(len(str(zipcode))==4):\n",
    "        return str(0) + str(zipcode)\n",
    "    return str(zipcode).split('-')[0].strip()"
   ]
  },
  {
   "cell_type": "code",
   "execution_count": 105,
   "metadata": {},
   "outputs": [],
   "source": [
    "customers['gender'] = customers['gender'].apply(lambda s: 1 if s =='M' else 0)\n",
    "customers['has_email'] = customers['has_email'].apply(lambda s: 1 if s=='Y' else 0)\n",
    "products = pd.get_dummies(customers['productline_type'], drop_first=True).astype(np.int8)\n",
    "carriers = pd.get_dummies(customers['carrier_name'], drop_first=True).astype(np.int8)\n",
    "channels = pd.get_dummies(customers['channel'], drop_first=True).astype(np.int8)\n",
    "zipcodes = pd.get_dummies(customers['zip_code'], drop_first=True).astype(np.int8)\n",
    "customers = pd.concat([customers, products, carriers, channels, zipcodes], axis=1)"
   ]
  },
  {
   "cell_type": "markdown",
   "metadata": {},
   "source": [
    "## Classification Model"
   ]
  },
  {
   "cell_type": "code",
   "execution_count": 106,
   "metadata": {},
   "outputs": [],
   "source": [
    "from sklearn.model_selection import train_test_split"
   ]
  },
  {
   "cell_type": "code",
   "execution_count": 107,
   "metadata": {},
   "outputs": [],
   "source": [
    "from sklearn.tree import DecisionTreeClassifier"
   ]
  },
  {
   "cell_type": "code",
   "execution_count": 108,
   "metadata": {},
   "outputs": [],
   "source": [
    "from sklearn.ensemble import RandomForestClassifier"
   ]
  },
  {
   "cell_type": "code",
   "execution_count": 109,
   "metadata": {},
   "outputs": [],
   "source": [
    "from sklearn.metrics import classification_report, confusion_matrix"
   ]
  },
  {
   "cell_type": "code",
   "execution_count": 110,
   "metadata": {},
   "outputs": [],
   "source": [
    "class SklearnTreeClassifierModel(object):\n",
    "    \n",
    "    \"\"\" Sklearn Tree Model Object \"\"\"\n",
    "    X = None\n",
    "    y = None\n",
    "    X_train = None\n",
    "    X_test = None\n",
    "    y_train = None\n",
    "    y_test = None\n",
    "    predictions = None\n",
    "    model = None\n",
    "    name = None\n",
    "    \n",
    "    def __init__(self, data, response, split=0.3, name='dtc'):\n",
    "        self.data = data\n",
    "        self.response = response\n",
    "        self.split = split\n",
    "        self.name = name\n",
    "        self.X = data.drop(response, axis=1)\n",
    "        self.y = data[response]\n",
    "        self.X_train, self.X_test, self.y_train, self.y_test=train_test_split(self.X, self.y, test_size=split, random_state=101)\n",
    "        \n",
    "    def create_build_model(self):\n",
    "        if self.name == 'rfc':\n",
    "            tree = RandomForestClassifier(n_estimators=50)\n",
    "        else:\n",
    "            tree = DecisionTreeClassifier()\n",
    "        self.model = tree.fit(self.X_train, self.y_train)\n",
    "        self.predictions = self.model.predict(self.X_test)\n",
    "    \n",
    "    def get_confustion_metrix(self):\n",
    "        return confusion_matrix(self.y_test, self.predictions)\n",
    "    \n",
    "    def get_classification_report(self):\n",
    "        return classification_report(self.y_test, self.predictions)\n",
    "    \n",
    "    def get_predict_proba(self):\n",
    "        return self.model.predict_proba(self.X_test)\n",
    "    \n",
    "    def get_scoring_dataframe(self):\n",
    "        results = pd.DataFrame(self.get_predict_proba(), columns= self.model.classes_.tolist())\n",
    "        y_test_copy = self.y_test.copy()\n",
    "        y_test_copy.index = results.index\n",
    "        return pd.concat([results, y_test_copy], axis=1)"
   ]
  },
  {
   "cell_type": "code",
   "execution_count": 111,
   "metadata": {},
   "outputs": [],
   "source": [
    "final_data = customers.drop(['customer_id', 'cust_churn', 'duration', 'productline_type', 'carrier_name','channel', 'zip_code'], axis=1)"
   ]
  },
  {
   "cell_type": "code",
   "execution_count": 118,
   "metadata": {},
   "outputs": [],
   "source": [
    "# Create a decision tree model\n",
    "dtc = SklearnTreeClassifierModel(final_data, response='cust_churn_status')"
   ]
  },
  {
   "cell_type": "code",
   "execution_count": 119,
   "metadata": {},
   "outputs": [],
   "source": [
    "dtc.create_build_model()"
   ]
  },
  {
   "cell_type": "code",
   "execution_count": 121,
   "metadata": {},
   "outputs": [
    {
     "name": "stdout",
     "output_type": "stream",
     "text": [
      "[[1588 2502]\n",
      " [2033 5877]]\n",
      "             precision    recall  f1-score   support\n",
      "\n",
      "      Churn       0.44      0.39      0.41      4090\n",
      "     Retain       0.70      0.74      0.72      7910\n",
      "\n",
      "avg / total       0.61      0.62      0.62     12000\n",
      "\n"
     ]
    }
   ],
   "source": [
    "print(dtc.get_confustion_metrix())\n",
    "print(dtc.get_classification_report())"
   ]
  },
  {
   "cell_type": "code",
   "execution_count": 112,
   "metadata": {},
   "outputs": [],
   "source": [
    "# Create a random forest model\n",
    "tcm = SklearnTreeClassifierModel(final_data, response='cust_churn_status', name='rfc')"
   ]
  },
  {
   "cell_type": "code",
   "execution_count": 113,
   "metadata": {},
   "outputs": [],
   "source": [
    "tcm.create_build_model()"
   ]
  },
  {
   "cell_type": "code",
   "execution_count": 116,
   "metadata": {},
   "outputs": [
    {
     "data": {
      "text/plain": [
       "array(['Churn', 'Retain'], dtype=object)"
      ]
     },
     "execution_count": 116,
     "metadata": {},
     "output_type": "execute_result"
    }
   ],
   "source": [
    "tcm.model.classes_"
   ]
  },
  {
   "cell_type": "code",
   "execution_count": 117,
   "metadata": {},
   "outputs": [
    {
     "name": "stdout",
     "output_type": "stream",
     "text": [
      "[[ 909 3181]\n",
      " [ 708 7202]]\n",
      "             precision    recall  f1-score   support\n",
      "\n",
      "      Churn       0.56      0.22      0.32      4090\n",
      "     Retain       0.69      0.91      0.79      7910\n",
      "\n",
      "avg / total       0.65      0.68      0.63     12000\n",
      "\n"
     ]
    }
   ],
   "source": [
    "print(tcm.get_confustion_metrix())\n",
    "print(tcm.get_classification_report())"
   ]
  },
  {
   "cell_type": "markdown",
   "metadata": {},
   "source": [
    "## Prediction"
   ]
  },
  {
   "cell_type": "code",
   "execution_count": 127,
   "metadata": {},
   "outputs": [
    {
     "name": "stdout",
     "output_type": "stream",
     "text": [
      "0.32875\n"
     ]
    }
   ],
   "source": [
    "# If we randomly pickup top 10% of customer as high risk customer\n",
    "random = customers.sample(frac=0.1)\n",
    "# The churn % we can target:\n",
    "print(random['cust_churn'].sum() / random['cust_churn'].count())"
   ]
  },
  {
   "cell_type": "code",
   "execution_count": 123,
   "metadata": {
    "collapsed": true
   },
   "outputs": [],
   "source": [
    "# Given the X test dataset\n",
    "scores = tcm.get_scoring_dataframe()"
   ]
  },
  {
   "cell_type": "code",
   "execution_count": 124,
   "metadata": {},
   "outputs": [
    {
     "data": {
      "text/html": [
       "<div>\n",
       "<style>\n",
       "    .dataframe thead tr:only-child th {\n",
       "        text-align: right;\n",
       "    }\n",
       "\n",
       "    .dataframe thead th {\n",
       "        text-align: left;\n",
       "    }\n",
       "\n",
       "    .dataframe tbody tr th {\n",
       "        vertical-align: top;\n",
       "    }\n",
       "</style>\n",
       "<table border=\"1\" class=\"dataframe\">\n",
       "  <thead>\n",
       "    <tr style=\"text-align: right;\">\n",
       "      <th></th>\n",
       "      <th>Churn</th>\n",
       "      <th>Retain</th>\n",
       "      <th>cust_churn_status</th>\n",
       "    </tr>\n",
       "  </thead>\n",
       "  <tbody>\n",
       "    <tr>\n",
       "      <th>0</th>\n",
       "      <td>0.16</td>\n",
       "      <td>0.84</td>\n",
       "      <td>Churn</td>\n",
       "    </tr>\n",
       "    <tr>\n",
       "      <th>1</th>\n",
       "      <td>0.26</td>\n",
       "      <td>0.74</td>\n",
       "      <td>Retain</td>\n",
       "    </tr>\n",
       "    <tr>\n",
       "      <th>2</th>\n",
       "      <td>0.22</td>\n",
       "      <td>0.78</td>\n",
       "      <td>Retain</td>\n",
       "    </tr>\n",
       "    <tr>\n",
       "      <th>3</th>\n",
       "      <td>0.28</td>\n",
       "      <td>0.72</td>\n",
       "      <td>Churn</td>\n",
       "    </tr>\n",
       "    <tr>\n",
       "      <th>4</th>\n",
       "      <td>0.26</td>\n",
       "      <td>0.74</td>\n",
       "      <td>Retain</td>\n",
       "    </tr>\n",
       "  </tbody>\n",
       "</table>\n",
       "</div>"
      ],
      "text/plain": [
       "   Churn  Retain cust_churn_status\n",
       "0   0.16    0.84             Churn\n",
       "1   0.26    0.74            Retain\n",
       "2   0.22    0.78            Retain\n",
       "3   0.28    0.72             Churn\n",
       "4   0.26    0.74            Retain"
      ]
     },
     "execution_count": 124,
     "metadata": {},
     "output_type": "execute_result"
    }
   ],
   "source": [
    "scores.head()"
   ]
  },
  {
   "cell_type": "code",
   "execution_count": 125,
   "metadata": {},
   "outputs": [
    {
     "data": {
      "text/plain": [
       "Retain    0.50225\n",
       "Churn     0.49775\n",
       "Name: cust_churn_status, dtype: float64"
      ]
     },
     "execution_count": 125,
     "metadata": {},
     "output_type": "execute_result"
    }
   ],
   "source": [
    "# If we sort from higest risk cutomer to lowest by probability to churn, waht's the % we can target\n",
    "scores.sort_values('Churn', ascending=False).head(4000)['cust_churn_status'].value_counts('Churn')"
   ]
  },
  {
   "cell_type": "markdown",
   "metadata": {},
   "source": [
    "## KMeans Clustering Model"
   ]
  },
  {
   "cell_type": "code",
   "execution_count": 50,
   "metadata": {},
   "outputs": [],
   "source": [
    "from sklearn.cluster import KMeans"
   ]
  },
  {
   "cell_type": "code",
   "execution_count": 59,
   "metadata": {},
   "outputs": [],
   "source": [
    "def create_build_kmeans(df, file_name, list_to_drop, label_name = 'cluster', clusters = 8):\n",
    "    df.columns = map(str.lower, df.columns)\n",
    "    df_values = df.drop(list_to_drop, axis=1).fillna(0).values\n",
    "    kmeans = KMeans(n_clusters = clusters)\n",
    "    kmeans.fit(df_values)\n",
    "    dfc =  df.copy()\n",
    "    dfc[label_name] = pd.to_numeric(kmeans.labels_)\n",
    "    return dfc\n",
    "    dfc.to_csv(file_name, header=True, index=False)"
   ]
  },
  {
   "cell_type": "code",
   "execution_count": 52,
   "metadata": {},
   "outputs": [],
   "source": [
    "zipcodes = pd.read_csv('zipcodes.csv', dtype={'ZIP_CODE': np.str})"
   ]
  },
  {
   "cell_type": "code",
   "execution_count": 53,
   "metadata": {},
   "outputs": [],
   "source": [
    "# Transform column names to lower case\n",
    "zipcodes.columns = map(str.lower, zipcodes.columns)"
   ]
  },
  {
   "cell_type": "code",
   "execution_count": 54,
   "metadata": {},
   "outputs": [],
   "source": [
    "zipcodes['zip_code'] = zipcodes['zip_code'].apply(cleanup_zipcode)"
   ]
  },
  {
   "cell_type": "code",
   "execution_count": 55,
   "metadata": {},
   "outputs": [],
   "source": [
    "list_to_drop= ['zip_code', 'population','churn_counts']"
   ]
  },
  {
   "cell_type": "code",
   "execution_count": 56,
   "metadata": {},
   "outputs": [
    {
     "data": {
      "text/html": [
       "<div>\n",
       "<style>\n",
       "    .dataframe thead tr:only-child th {\n",
       "        text-align: right;\n",
       "    }\n",
       "\n",
       "    .dataframe thead th {\n",
       "        text-align: left;\n",
       "    }\n",
       "\n",
       "    .dataframe tbody tr th {\n",
       "        vertical-align: top;\n",
       "    }\n",
       "</style>\n",
       "<table border=\"1\" class=\"dataframe\">\n",
       "  <thead>\n",
       "    <tr style=\"text-align: right;\">\n",
       "      <th></th>\n",
       "      <th>zip_code</th>\n",
       "      <th>customers</th>\n",
       "      <th>total_cost</th>\n",
       "      <th>churn_counts</th>\n",
       "      <th>median_income</th>\n",
       "      <th>high_school_rate</th>\n",
       "      <th>unemployment_rate</th>\n",
       "      <th>poverty_rate</th>\n",
       "      <th>avg_age</th>\n",
       "      <th>population</th>\n",
       "    </tr>\n",
       "  </thead>\n",
       "  <tbody>\n",
       "    <tr>\n",
       "      <th>0</th>\n",
       "      <td>01001</td>\n",
       "      <td>31</td>\n",
       "      <td>825.49</td>\n",
       "      <td>7</td>\n",
       "      <td>60161</td>\n",
       "      <td>29.6</td>\n",
       "      <td>4.4</td>\n",
       "      <td>4.7</td>\n",
       "      <td>68.6</td>\n",
       "      <td>17438</td>\n",
       "    </tr>\n",
       "    <tr>\n",
       "      <th>1</th>\n",
       "      <td>01002</td>\n",
       "      <td>16</td>\n",
       "      <td>793.97</td>\n",
       "      <td>2</td>\n",
       "      <td>50540</td>\n",
       "      <td>12.3</td>\n",
       "      <td>4.9</td>\n",
       "      <td>8.2</td>\n",
       "      <td>64.8</td>\n",
       "      <td>29780</td>\n",
       "    </tr>\n",
       "    <tr>\n",
       "      <th>2</th>\n",
       "      <td>01005</td>\n",
       "      <td>9</td>\n",
       "      <td>135.71</td>\n",
       "      <td>4</td>\n",
       "      <td>68786</td>\n",
       "      <td>40.7</td>\n",
       "      <td>5.4</td>\n",
       "      <td>1.3</td>\n",
       "      <td>67.4</td>\n",
       "      <td>5201</td>\n",
       "    </tr>\n",
       "    <tr>\n",
       "      <th>3</th>\n",
       "      <td>01007</td>\n",
       "      <td>21</td>\n",
       "      <td>657.00</td>\n",
       "      <td>3</td>\n",
       "      <td>76881</td>\n",
       "      <td>23.3</td>\n",
       "      <td>4.2</td>\n",
       "      <td>5.9</td>\n",
       "      <td>62.8</td>\n",
       "      <td>14838</td>\n",
       "    </tr>\n",
       "    <tr>\n",
       "      <th>4</th>\n",
       "      <td>01009</td>\n",
       "      <td>15</td>\n",
       "      <td>14.95</td>\n",
       "      <td>0</td>\n",
       "      <td>40833</td>\n",
       "      <td>28.2</td>\n",
       "      <td>16.1</td>\n",
       "      <td>28.0</td>\n",
       "      <td>65.0</td>\n",
       "      <td>429</td>\n",
       "    </tr>\n",
       "  </tbody>\n",
       "</table>\n",
       "</div>"
      ],
      "text/plain": [
       "  zip_code  customers  total_cost  churn_counts  median_income  \\\n",
       "0    01001         31      825.49             7          60161   \n",
       "1    01002         16      793.97             2          50540   \n",
       "2    01005          9      135.71             4          68786   \n",
       "3    01007         21      657.00             3          76881   \n",
       "4    01009         15       14.95             0          40833   \n",
       "\n",
       "   high_school_rate  unemployment_rate  poverty_rate  avg_age  population  \n",
       "0              29.6                4.4           4.7     68.6       17438  \n",
       "1              12.3                4.9           8.2     64.8       29780  \n",
       "2              40.7                5.4           1.3     67.4        5201  \n",
       "3              23.3                4.2           5.9     62.8       14838  \n",
       "4              28.2               16.1          28.0     65.0         429  "
      ]
     },
     "execution_count": 56,
     "metadata": {},
     "output_type": "execute_result"
    }
   ],
   "source": [
    "zipcodes.head()"
   ]
  },
  {
   "cell_type": "code",
   "execution_count": 57,
   "metadata": {},
   "outputs": [
    {
     "data": {
      "text/plain": [
       "zip_code              object\n",
       "customers              int64\n",
       "total_cost           float64\n",
       "churn_counts           int64\n",
       "median_income          int64\n",
       "high_school_rate     float64\n",
       "unemployment_rate    float64\n",
       "poverty_rate         float64\n",
       "avg_age              float64\n",
       "population             int64\n",
       "dtype: object"
      ]
     },
     "execution_count": 57,
     "metadata": {},
     "output_type": "execute_result"
    }
   ],
   "source": [
    "zipcodes.dtypes"
   ]
  },
  {
   "cell_type": "code",
   "execution_count": 62,
   "metadata": {},
   "outputs": [],
   "source": [
    "clusters = create_build_kmeans(zipcodes, 'zipcodes_clusters.csv', list_to_drop)"
   ]
  },
  {
   "cell_type": "code",
   "execution_count": 63,
   "metadata": {},
   "outputs": [
    {
     "data": {
      "text/html": [
       "<div>\n",
       "<style>\n",
       "    .dataframe thead tr:only-child th {\n",
       "        text-align: right;\n",
       "    }\n",
       "\n",
       "    .dataframe thead th {\n",
       "        text-align: left;\n",
       "    }\n",
       "\n",
       "    .dataframe tbody tr th {\n",
       "        vertical-align: top;\n",
       "    }\n",
       "</style>\n",
       "<table border=\"1\" class=\"dataframe\">\n",
       "  <thead>\n",
       "    <tr style=\"text-align: right;\">\n",
       "      <th></th>\n",
       "      <th>zip_code</th>\n",
       "      <th>customers</th>\n",
       "      <th>total_cost</th>\n",
       "      <th>churn_counts</th>\n",
       "      <th>median_income</th>\n",
       "      <th>high_school_rate</th>\n",
       "      <th>unemployment_rate</th>\n",
       "      <th>poverty_rate</th>\n",
       "      <th>avg_age</th>\n",
       "      <th>population</th>\n",
       "      <th>cluster</th>\n",
       "    </tr>\n",
       "  </thead>\n",
       "  <tbody>\n",
       "    <tr>\n",
       "      <th>0</th>\n",
       "      <td>01001</td>\n",
       "      <td>31</td>\n",
       "      <td>825.49</td>\n",
       "      <td>7</td>\n",
       "      <td>60161</td>\n",
       "      <td>29.6</td>\n",
       "      <td>4.4</td>\n",
       "      <td>4.7</td>\n",
       "      <td>68.6</td>\n",
       "      <td>17438</td>\n",
       "      <td>0</td>\n",
       "    </tr>\n",
       "    <tr>\n",
       "      <th>1</th>\n",
       "      <td>01002</td>\n",
       "      <td>16</td>\n",
       "      <td>793.97</td>\n",
       "      <td>2</td>\n",
       "      <td>50540</td>\n",
       "      <td>12.3</td>\n",
       "      <td>4.9</td>\n",
       "      <td>8.2</td>\n",
       "      <td>64.8</td>\n",
       "      <td>29780</td>\n",
       "      <td>4</td>\n",
       "    </tr>\n",
       "    <tr>\n",
       "      <th>2</th>\n",
       "      <td>01005</td>\n",
       "      <td>9</td>\n",
       "      <td>135.71</td>\n",
       "      <td>4</td>\n",
       "      <td>68786</td>\n",
       "      <td>40.7</td>\n",
       "      <td>5.4</td>\n",
       "      <td>1.3</td>\n",
       "      <td>67.4</td>\n",
       "      <td>5201</td>\n",
       "      <td>7</td>\n",
       "    </tr>\n",
       "    <tr>\n",
       "      <th>3</th>\n",
       "      <td>01007</td>\n",
       "      <td>21</td>\n",
       "      <td>657.00</td>\n",
       "      <td>3</td>\n",
       "      <td>76881</td>\n",
       "      <td>23.3</td>\n",
       "      <td>4.2</td>\n",
       "      <td>5.9</td>\n",
       "      <td>62.8</td>\n",
       "      <td>14838</td>\n",
       "      <td>7</td>\n",
       "    </tr>\n",
       "    <tr>\n",
       "      <th>4</th>\n",
       "      <td>01009</td>\n",
       "      <td>15</td>\n",
       "      <td>14.95</td>\n",
       "      <td>0</td>\n",
       "      <td>40833</td>\n",
       "      <td>28.2</td>\n",
       "      <td>16.1</td>\n",
       "      <td>28.0</td>\n",
       "      <td>65.0</td>\n",
       "      <td>429</td>\n",
       "      <td>6</td>\n",
       "    </tr>\n",
       "  </tbody>\n",
       "</table>\n",
       "</div>"
      ],
      "text/plain": [
       "  zip_code  customers  total_cost  churn_counts  median_income  \\\n",
       "0    01001         31      825.49             7          60161   \n",
       "1    01002         16      793.97             2          50540   \n",
       "2    01005          9      135.71             4          68786   \n",
       "3    01007         21      657.00             3          76881   \n",
       "4    01009         15       14.95             0          40833   \n",
       "\n",
       "   high_school_rate  unemployment_rate  poverty_rate  avg_age  population  \\\n",
       "0              29.6                4.4           4.7     68.6       17438   \n",
       "1              12.3                4.9           8.2     64.8       29780   \n",
       "2              40.7                5.4           1.3     67.4        5201   \n",
       "3              23.3                4.2           5.9     62.8       14838   \n",
       "4              28.2               16.1          28.0     65.0         429   \n",
       "\n",
       "   cluster  \n",
       "0        0  \n",
       "1        4  \n",
       "2        7  \n",
       "3        7  \n",
       "4        6  "
      ]
     },
     "execution_count": 63,
     "metadata": {},
     "output_type": "execute_result"
    }
   ],
   "source": [
    "clusters.head()"
   ]
  },
  {
   "cell_type": "code",
   "execution_count": 66,
   "metadata": {},
   "outputs": [
    {
     "data": {
      "text/html": [
       "<div>\n",
       "<style>\n",
       "    .dataframe thead tr:only-child th {\n",
       "        text-align: right;\n",
       "    }\n",
       "\n",
       "    .dataframe thead th {\n",
       "        text-align: left;\n",
       "    }\n",
       "\n",
       "    .dataframe tbody tr th {\n",
       "        vertical-align: top;\n",
       "    }\n",
       "</style>\n",
       "<table border=\"1\" class=\"dataframe\">\n",
       "  <thead>\n",
       "    <tr style=\"text-align: right;\">\n",
       "      <th></th>\n",
       "      <th>customers</th>\n",
       "      <th>total_cost</th>\n",
       "      <th>churn_counts</th>\n",
       "      <th>median_income</th>\n",
       "      <th>high_school_rate</th>\n",
       "      <th>unemployment_rate</th>\n",
       "      <th>poverty_rate</th>\n",
       "      <th>avg_age</th>\n",
       "      <th>population</th>\n",
       "    </tr>\n",
       "    <tr>\n",
       "      <th>cluster</th>\n",
       "      <th></th>\n",
       "      <th></th>\n",
       "      <th></th>\n",
       "      <th></th>\n",
       "      <th></th>\n",
       "      <th></th>\n",
       "      <th></th>\n",
       "      <th></th>\n",
       "      <th></th>\n",
       "    </tr>\n",
       "  </thead>\n",
       "  <tbody>\n",
       "    <tr>\n",
       "      <th>0</th>\n",
       "      <td>25.212135</td>\n",
       "      <td>2025.338729</td>\n",
       "      <td>5.872903</td>\n",
       "      <td>61352.854976</td>\n",
       "      <td>31.613951</td>\n",
       "      <td>4.159044</td>\n",
       "      <td>6.758883</td>\n",
       "      <td>65.436773</td>\n",
       "      <td>14008.238566</td>\n",
       "    </tr>\n",
       "    <tr>\n",
       "      <th>1</th>\n",
       "      <td>23.338284</td>\n",
       "      <td>1516.393383</td>\n",
       "      <td>4.523102</td>\n",
       "      <td>123650.592409</td>\n",
       "      <td>13.831023</td>\n",
       "      <td>3.362376</td>\n",
       "      <td>2.425248</td>\n",
       "      <td>68.776403</td>\n",
       "      <td>17809.235974</td>\n",
       "    </tr>\n",
       "    <tr>\n",
       "      <th>2</th>\n",
       "      <td>24.850281</td>\n",
       "      <td>2513.462447</td>\n",
       "      <td>6.970506</td>\n",
       "      <td>28248.153371</td>\n",
       "      <td>36.644522</td>\n",
       "      <td>6.723596</td>\n",
       "      <td>24.643736</td>\n",
       "      <td>63.164663</td>\n",
       "      <td>10081.337640</td>\n",
       "    </tr>\n",
       "    <tr>\n",
       "      <th>3</th>\n",
       "      <td>26.717763</td>\n",
       "      <td>1829.885914</td>\n",
       "      <td>5.778947</td>\n",
       "      <td>95548.797368</td>\n",
       "      <td>19.755724</td>\n",
       "      <td>3.780526</td>\n",
       "      <td>3.519079</td>\n",
       "      <td>67.626382</td>\n",
       "      <td>19467.491447</td>\n",
       "    </tr>\n",
       "    <tr>\n",
       "      <th>4</th>\n",
       "      <td>23.839956</td>\n",
       "      <td>1984.384402</td>\n",
       "      <td>5.714421</td>\n",
       "      <td>50047.565933</td>\n",
       "      <td>35.651638</td>\n",
       "      <td>4.456324</td>\n",
       "      <td>9.617983</td>\n",
       "      <td>64.829587</td>\n",
       "      <td>11786.677220</td>\n",
       "    </tr>\n",
       "    <tr>\n",
       "      <th>5</th>\n",
       "      <td>20.068182</td>\n",
       "      <td>829.125379</td>\n",
       "      <td>3.386364</td>\n",
       "      <td>174996.318182</td>\n",
       "      <td>9.134848</td>\n",
       "      <td>3.093939</td>\n",
       "      <td>1.987879</td>\n",
       "      <td>69.729545</td>\n",
       "      <td>12587.303030</td>\n",
       "    </tr>\n",
       "    <tr>\n",
       "      <th>6</th>\n",
       "      <td>25.802218</td>\n",
       "      <td>2450.093434</td>\n",
       "      <td>6.774948</td>\n",
       "      <td>39857.316752</td>\n",
       "      <td>37.366812</td>\n",
       "      <td>5.217006</td>\n",
       "      <td>14.443242</td>\n",
       "      <td>63.947767</td>\n",
       "      <td>11650.912047</td>\n",
       "    </tr>\n",
       "    <tr>\n",
       "      <th>7</th>\n",
       "      <td>27.757009</td>\n",
       "      <td>2063.513353</td>\n",
       "      <td>6.383567</td>\n",
       "      <td>75929.308801</td>\n",
       "      <td>25.500156</td>\n",
       "      <td>4.037227</td>\n",
       "      <td>4.802142</td>\n",
       "      <td>66.499650</td>\n",
       "      <td>17685.790498</td>\n",
       "    </tr>\n",
       "  </tbody>\n",
       "</table>\n",
       "</div>"
      ],
      "text/plain": [
       "         customers   total_cost  churn_counts  median_income  \\\n",
       "cluster                                                        \n",
       "0        25.212135  2025.338729      5.872903   61352.854976   \n",
       "1        23.338284  1516.393383      4.523102  123650.592409   \n",
       "2        24.850281  2513.462447      6.970506   28248.153371   \n",
       "3        26.717763  1829.885914      5.778947   95548.797368   \n",
       "4        23.839956  1984.384402      5.714421   50047.565933   \n",
       "5        20.068182   829.125379      3.386364  174996.318182   \n",
       "6        25.802218  2450.093434      6.774948   39857.316752   \n",
       "7        27.757009  2063.513353      6.383567   75929.308801   \n",
       "\n",
       "         high_school_rate  unemployment_rate  poverty_rate    avg_age  \\\n",
       "cluster                                                                 \n",
       "0               31.613951           4.159044      6.758883  65.436773   \n",
       "1               13.831023           3.362376      2.425248  68.776403   \n",
       "2               36.644522           6.723596     24.643736  63.164663   \n",
       "3               19.755724           3.780526      3.519079  67.626382   \n",
       "4               35.651638           4.456324      9.617983  64.829587   \n",
       "5                9.134848           3.093939      1.987879  69.729545   \n",
       "6               37.366812           5.217006     14.443242  63.947767   \n",
       "7               25.500156           4.037227      4.802142  66.499650   \n",
       "\n",
       "           population  \n",
       "cluster                \n",
       "0        14008.238566  \n",
       "1        17809.235974  \n",
       "2        10081.337640  \n",
       "3        19467.491447  \n",
       "4        11786.677220  \n",
       "5        12587.303030  \n",
       "6        11650.912047  \n",
       "7        17685.790498  "
      ]
     },
     "execution_count": 66,
     "metadata": {},
     "output_type": "execute_result"
    }
   ],
   "source": [
    "clusters.groupby(['cluster']).mean()"
   ]
  }
 ],
 "metadata": {
  "kernelspec": {
   "display_name": "Python 3 (ipykernel)",
   "language": "python",
   "name": "python3"
  },
  "language_info": {
   "codemirror_mode": {
    "name": "ipython",
    "version": 3
   },
   "file_extension": ".py",
   "mimetype": "text/x-python",
   "name": "python",
   "nbconvert_exporter": "python",
   "pygments_lexer": "ipython3",
   "version": "3.9.16"
  }
 },
 "nbformat": 4,
 "nbformat_minor": 2
}
