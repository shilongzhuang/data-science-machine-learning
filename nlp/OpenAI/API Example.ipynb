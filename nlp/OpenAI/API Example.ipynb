{
 "cells": [
  {
   "cell_type": "code",
   "execution_count": 1,
   "id": "55bdb26c-bc51-4e21-9e34-00ccd04b019d",
   "metadata": {},
   "outputs": [],
   "source": [
    "import requests\n",
    "import json\n",
    "import os"
   ]
  },
  {
   "cell_type": "code",
   "execution_count": 2,
   "id": "9c31ee2d-1e9a-4316-a75f-d83ec3d33430",
   "metadata": {},
   "outputs": [],
   "source": [
    "OPENAI_API_KEY = os.getenv(\"OPENAI_API_KEY\")"
   ]
  },
  {
   "cell_type": "code",
   "execution_count": 3,
   "id": "c67b187c-a0d9-40e2-8819-1536e9ac8d26",
   "metadata": {},
   "outputs": [],
   "source": [
    "headers = {\n",
    "    \"Content-Type\" : \"application/json\",\n",
    "    \"Authorization\" : \"Bearer {}\".format(OPENAI_API_KEY),\n",
    "}"
   ]
  },
  {
   "cell_type": "code",
   "execution_count": 4,
   "id": "cf73afa8-a2ae-47be-b365-07a9a24a715d",
   "metadata": {},
   "outputs": [],
   "source": [
    "prompt = \"Please tell me a story, thank you.\""
   ]
  },
  {
   "cell_type": "code",
   "execution_count": 17,
   "id": "f20e482d-0906-4760-9518-8a1fb241ee9e",
   "metadata": {},
   "outputs": [],
   "source": [
    "inp = {\n",
    "    'model': 'gpt-3.5-turbo',\n",
    "    'messages': [{'role': 'user', 'content': prompt}],\n",
    "    'max_tokens': 50,\n",
    "    'temperature': 0.5,\n",
    "    'top_p': 1.0,\n",
    "    'frequency_penalty': 0.0,\n",
    "    'presence_penalty': 0.0\n",
    "}"
   ]
  },
  {
   "cell_type": "code",
   "execution_count": 18,
   "id": "fae221d5-4e41-4f60-a741-1f2b035caa1d",
   "metadata": {},
   "outputs": [],
   "source": [
    "chat_completion_api_url='https://api.openai.com/v1/chat/completions'"
   ]
  },
  {
   "cell_type": "code",
   "execution_count": 19,
   "id": "8b5ef05f-a045-4b88-8f44-2fd28d2e7826",
   "metadata": {},
   "outputs": [],
   "source": [
    "response = requests.post(chat_completion_api_url, headers=headers, json=inp)"
   ]
  },
  {
   "cell_type": "code",
   "execution_count": 20,
   "id": "aba41080-eb62-4950-beea-93f38ce780a0",
   "metadata": {},
   "outputs": [
    {
     "data": {
      "text/plain": [
       "<Response [200]>"
      ]
     },
     "execution_count": 20,
     "metadata": {},
     "output_type": "execute_result"
    }
   ],
   "source": [
    "response"
   ]
  },
  {
   "cell_type": "code",
   "execution_count": 25,
   "id": "23892419-61eb-48a5-b2eb-61d3425bd10f",
   "metadata": {},
   "outputs": [],
   "source": [
    "data = response.json()"
   ]
  },
  {
   "cell_type": "code",
   "execution_count": 27,
   "id": "7d22d5ce-27a8-4f42-9aba-95688a0b712d",
   "metadata": {},
   "outputs": [
    {
     "data": {
      "text/plain": [
       "'gpt-3.5-turbo-0125'"
      ]
     },
     "execution_count": 27,
     "metadata": {},
     "output_type": "execute_result"
    }
   ],
   "source": [
    "data['model']"
   ]
  },
  {
   "cell_type": "code",
   "execution_count": 28,
   "id": "aebc3f17-10fc-44c0-9e3d-a74fd9319116",
   "metadata": {},
   "outputs": [
    {
     "data": {
      "text/plain": [
       "[{'index': 0,\n",
       "  'message': {'role': 'assistant',\n",
       "   'content': 'Once upon a time, in a small village nestled in the mountains, there lived a young girl named Lily. Lily was known throughout the village for her kind heart and adventurous spirit. She spent her days exploring the forests and meadows that surrounded her home'},\n",
       "  'logprobs': None,\n",
       "  'finish_reason': 'length'}]"
      ]
     },
     "execution_count": 28,
     "metadata": {},
     "output_type": "execute_result"
    }
   ],
   "source": [
    "data['choices']"
   ]
  },
  {
   "cell_type": "code",
   "execution_count": 29,
   "id": "0fa875c7-798f-4529-9974-a23c3aacf81e",
   "metadata": {},
   "outputs": [
    {
     "data": {
      "text/plain": [
       "'Once upon a time, in a small village nestled in the mountains, there lived a young girl named Lily. Lily was known throughout the village for her kind heart and adventurous spirit. She spent her days exploring the forests and meadows that surrounded her home'"
      ]
     },
     "execution_count": 29,
     "metadata": {},
     "output_type": "execute_result"
    }
   ],
   "source": [
    "data['choices'][0]['message']['content']"
   ]
  },
  {
   "cell_type": "code",
   "execution_count": null,
   "id": "a6f7a8e5-b3e8-41b3-a808-8164d48cbd14",
   "metadata": {},
   "outputs": [],
   "source": []
  }
 ],
 "metadata": {
  "kernelspec": {
   "display_name": "Python 3 (ipykernel)",
   "language": "python",
   "name": "python3"
  },
  "language_info": {
   "codemirror_mode": {
    "name": "ipython",
    "version": 3
   },
   "file_extension": ".py",
   "mimetype": "text/x-python",
   "name": "python",
   "nbconvert_exporter": "python",
   "pygments_lexer": "ipython3",
   "version": "3.10.13"
  }
 },
 "nbformat": 4,
 "nbformat_minor": 5
}
