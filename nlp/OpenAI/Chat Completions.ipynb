{
 "cells": [
  {
   "cell_type": "code",
   "execution_count": 1,
   "id": "7d029177-93f4-424c-b123-a782cc38203e",
   "metadata": {},
   "outputs": [],
   "source": [
    "import pandas as pd\n",
    "import numpy as np\n",
    "\n",
    "import os\n",
    "import openai\n",
    "from openai import OpenAI"
   ]
  },
  {
   "cell_type": "code",
   "execution_count": 7,
   "id": "227fa903-86ae-47a6-aede-f52a39ae8c5f",
   "metadata": {},
   "outputs": [],
   "source": [
    "OPENAI_API_KEY = os.getenv(\"OPENAI_API_KEY\")"
   ]
  },
  {
   "cell_type": "code",
   "execution_count": 8,
   "id": "99fafc12-ec56-4896-9b38-3b8fbfc0244f",
   "metadata": {},
   "outputs": [],
   "source": [
    "client = OpenAI()"
   ]
  },
  {
   "cell_type": "code",
   "execution_count": 9,
   "id": "e01bf7cb-5cb8-402e-86ac-57ed741375d1",
   "metadata": {},
   "outputs": [],
   "source": [
    "prompt = \"What is math?\"\n",
    "\n",
    "response = client.chat.completions.create(\n",
    "    model=\"gpt-3.5-turbo\",\n",
    "    messages=[\n",
    "        {\"role\": \"system\", \"content\": \"This is a random testing.\"},\n",
    "        {\"role\": \"user\", \"content\": prompt}\n",
    "    ],\n",
    "    temperature=0.4,\n",
    "    max_tokens=50,\n",
    "    top_p=1\n",
    ")"
   ]
  },
  {
   "cell_type": "code",
   "execution_count": 9,
   "id": "7762029d-6174-4c12-b458-d4927f6b07b8",
   "metadata": {},
   "outputs": [
    {
     "data": {
      "text/plain": [
       "[Choice(finish_reason='length', index=0, logprobs=None, message=ChatCompletionMessage(content='Mathematics, often simply referred to as math, is a field of study that deals with numbers, quantities, shapes, and patterns. It involves logical', role='assistant', function_call=None, tool_calls=None))]"
      ]
     },
     "execution_count": 9,
     "metadata": {},
     "output_type": "execute_result"
    }
   ],
   "source": [
    "response.choices"
   ]
  },
  {
   "cell_type": "code",
   "execution_count": 11,
   "id": "6d6b64b4-c6be-4cb8-9dcf-3889102f5c57",
   "metadata": {},
   "outputs": [
    {
     "data": {
      "text/plain": [
       "'Mathematics, often referred to as math, is the study of numbers, quantity, structure, space, and change. It involves using logical reasoning and'"
      ]
     },
     "execution_count": 11,
     "metadata": {},
     "output_type": "execute_result"
    }
   ],
   "source": [
    "response.choices[0].message.content"
   ]
  },
  {
   "cell_type": "code",
   "execution_count": 26,
   "id": "dc3e2cc0-88d3-4806-ac54-3d3b152ef414",
   "metadata": {},
   "outputs": [],
   "source": [
    "prompt = \"What is math?\"\n",
    "\n",
    "response = client.chat.completions.create(\n",
    "    model=\"gpt-3.5-turbo\",\n",
    "    messages=[\n",
    "        {\"role\": \"system\", \"content\": \"Test\"},\n",
    "        {\"role\": \"user\", \"content\": prompt}\n",
    "    ],\n",
    "    temperature=0.4,\n",
    "    max_tokens=50,\n",
    "    top_p=1,\n",
    "    stream=True\n",
    ")"
   ]
  },
  {
   "cell_type": "code",
   "execution_count": 27,
   "id": "4f2b7f02-ac1c-4e4b-b2cb-9384d50197d8",
   "metadata": {},
   "outputs": [
    {
     "data": {
      "text/plain": [
       "<openai.Stream at 0x13485f7f0>"
      ]
     },
     "execution_count": 27,
     "metadata": {},
     "output_type": "execute_result"
    }
   ],
   "source": [
    "response"
   ]
  },
  {
   "cell_type": "code",
   "execution_count": 28,
   "id": "f962219c-ce51-4ce8-b15e-a16d4a16c2cf",
   "metadata": {},
   "outputs": [
    {
     "name": "stdout",
     "output_type": "stream",
     "text": [
      "[Choice(delta=ChoiceDelta(content='', function_call=None, role='assistant', tool_calls=None), finish_reason=None, index=0, logprobs=None)]\n",
      "[Choice(delta=ChoiceDelta(content='Math', function_call=None, role=None, tool_calls=None), finish_reason=None, index=0, logprobs=None)]\n",
      "[Choice(delta=ChoiceDelta(content='ematics', function_call=None, role=None, tool_calls=None), finish_reason=None, index=0, logprobs=None)]\n",
      "[Choice(delta=ChoiceDelta(content=',', function_call=None, role=None, tool_calls=None), finish_reason=None, index=0, logprobs=None)]\n",
      "[Choice(delta=ChoiceDelta(content=' often', function_call=None, role=None, tool_calls=None), finish_reason=None, index=0, logprobs=None)]\n",
      "[Choice(delta=ChoiceDelta(content=' shortened', function_call=None, role=None, tool_calls=None), finish_reason=None, index=0, logprobs=None)]\n",
      "[Choice(delta=ChoiceDelta(content=' to', function_call=None, role=None, tool_calls=None), finish_reason=None, index=0, logprobs=None)]\n",
      "[Choice(delta=ChoiceDelta(content=' math', function_call=None, role=None, tool_calls=None), finish_reason=None, index=0, logprobs=None)]\n",
      "[Choice(delta=ChoiceDelta(content=',', function_call=None, role=None, tool_calls=None), finish_reason=None, index=0, logprobs=None)]\n",
      "[Choice(delta=ChoiceDelta(content=' is', function_call=None, role=None, tool_calls=None), finish_reason=None, index=0, logprobs=None)]\n",
      "[Choice(delta=ChoiceDelta(content=' the', function_call=None, role=None, tool_calls=None), finish_reason=None, index=0, logprobs=None)]\n",
      "[Choice(delta=ChoiceDelta(content=' study', function_call=None, role=None, tool_calls=None), finish_reason=None, index=0, logprobs=None)]\n",
      "[Choice(delta=ChoiceDelta(content=' of', function_call=None, role=None, tool_calls=None), finish_reason=None, index=0, logprobs=None)]\n",
      "[Choice(delta=ChoiceDelta(content=' numbers', function_call=None, role=None, tool_calls=None), finish_reason=None, index=0, logprobs=None)]\n",
      "[Choice(delta=ChoiceDelta(content=',', function_call=None, role=None, tool_calls=None), finish_reason=None, index=0, logprobs=None)]\n",
      "[Choice(delta=ChoiceDelta(content=' quantities', function_call=None, role=None, tool_calls=None), finish_reason=None, index=0, logprobs=None)]\n",
      "[Choice(delta=ChoiceDelta(content=',', function_call=None, role=None, tool_calls=None), finish_reason=None, index=0, logprobs=None)]\n",
      "[Choice(delta=ChoiceDelta(content=' shapes', function_call=None, role=None, tool_calls=None), finish_reason=None, index=0, logprobs=None)]\n",
      "[Choice(delta=ChoiceDelta(content=',', function_call=None, role=None, tool_calls=None), finish_reason=None, index=0, logprobs=None)]\n",
      "[Choice(delta=ChoiceDelta(content=' and', function_call=None, role=None, tool_calls=None), finish_reason=None, index=0, logprobs=None)]\n",
      "[Choice(delta=ChoiceDelta(content=' patterns', function_call=None, role=None, tool_calls=None), finish_reason=None, index=0, logprobs=None)]\n",
      "[Choice(delta=ChoiceDelta(content='.', function_call=None, role=None, tool_calls=None), finish_reason=None, index=0, logprobs=None)]\n",
      "[Choice(delta=ChoiceDelta(content=' It', function_call=None, role=None, tool_calls=None), finish_reason=None, index=0, logprobs=None)]\n",
      "[Choice(delta=ChoiceDelta(content=' involves', function_call=None, role=None, tool_calls=None), finish_reason=None, index=0, logprobs=None)]\n",
      "[Choice(delta=ChoiceDelta(content=' using', function_call=None, role=None, tool_calls=None), finish_reason=None, index=0, logprobs=None)]\n",
      "[Choice(delta=ChoiceDelta(content=' logical', function_call=None, role=None, tool_calls=None), finish_reason=None, index=0, logprobs=None)]\n",
      "[Choice(delta=ChoiceDelta(content=' reasoning', function_call=None, role=None, tool_calls=None), finish_reason=None, index=0, logprobs=None)]\n",
      "[Choice(delta=ChoiceDelta(content=' and', function_call=None, role=None, tool_calls=None), finish_reason=None, index=0, logprobs=None)]\n",
      "[Choice(delta=ChoiceDelta(content=' critical', function_call=None, role=None, tool_calls=None), finish_reason=None, index=0, logprobs=None)]\n",
      "[Choice(delta=ChoiceDelta(content=' thinking', function_call=None, role=None, tool_calls=None), finish_reason=None, index=0, logprobs=None)]\n",
      "[Choice(delta=ChoiceDelta(content=' to', function_call=None, role=None, tool_calls=None), finish_reason=None, index=0, logprobs=None)]\n",
      "[Choice(delta=ChoiceDelta(content=' solve', function_call=None, role=None, tool_calls=None), finish_reason=None, index=0, logprobs=None)]\n",
      "[Choice(delta=ChoiceDelta(content=' problems', function_call=None, role=None, tool_calls=None), finish_reason=None, index=0, logprobs=None)]\n",
      "[Choice(delta=ChoiceDelta(content=' and', function_call=None, role=None, tool_calls=None), finish_reason=None, index=0, logprobs=None)]\n",
      "[Choice(delta=ChoiceDelta(content=' understand', function_call=None, role=None, tool_calls=None), finish_reason=None, index=0, logprobs=None)]\n",
      "[Choice(delta=ChoiceDelta(content=' relationships', function_call=None, role=None, tool_calls=None), finish_reason=None, index=0, logprobs=None)]\n",
      "[Choice(delta=ChoiceDelta(content=' between', function_call=None, role=None, tool_calls=None), finish_reason=None, index=0, logprobs=None)]\n",
      "[Choice(delta=ChoiceDelta(content=' different', function_call=None, role=None, tool_calls=None), finish_reason=None, index=0, logprobs=None)]\n",
      "[Choice(delta=ChoiceDelta(content=' mathematical', function_call=None, role=None, tool_calls=None), finish_reason=None, index=0, logprobs=None)]\n",
      "[Choice(delta=ChoiceDelta(content=' concepts', function_call=None, role=None, tool_calls=None), finish_reason=None, index=0, logprobs=None)]\n",
      "[Choice(delta=ChoiceDelta(content='.', function_call=None, role=None, tool_calls=None), finish_reason=None, index=0, logprobs=None)]\n",
      "[Choice(delta=ChoiceDelta(content=' Mathematics', function_call=None, role=None, tool_calls=None), finish_reason=None, index=0, logprobs=None)]\n",
      "[Choice(delta=ChoiceDelta(content=' is', function_call=None, role=None, tool_calls=None), finish_reason=None, index=0, logprobs=None)]\n",
      "[Choice(delta=ChoiceDelta(content=' a', function_call=None, role=None, tool_calls=None), finish_reason=None, index=0, logprobs=None)]\n",
      "[Choice(delta=ChoiceDelta(content=' fundamental', function_call=None, role=None, tool_calls=None), finish_reason=None, index=0, logprobs=None)]\n",
      "[Choice(delta=ChoiceDelta(content=' discipline', function_call=None, role=None, tool_calls=None), finish_reason=None, index=0, logprobs=None)]\n",
      "[Choice(delta=ChoiceDelta(content=' that', function_call=None, role=None, tool_calls=None), finish_reason=None, index=0, logprobs=None)]\n",
      "[Choice(delta=ChoiceDelta(content=' is', function_call=None, role=None, tool_calls=None), finish_reason=None, index=0, logprobs=None)]\n",
      "[Choice(delta=ChoiceDelta(content=' used', function_call=None, role=None, tool_calls=None), finish_reason=None, index=0, logprobs=None)]\n",
      "[Choice(delta=ChoiceDelta(content=' in', function_call=None, role=None, tool_calls=None), finish_reason=None, index=0, logprobs=None)]\n",
      "[Choice(delta=ChoiceDelta(content=' various', function_call=None, role=None, tool_calls=None), finish_reason=None, index=0, logprobs=None)]\n",
      "[Choice(delta=ChoiceDelta(content=None, function_call=None, role=None, tool_calls=None), finish_reason='length', index=0, logprobs=None)]\n"
     ]
    }
   ],
   "source": [
    "for item in response:\n",
    "    print(item.choices)"
   ]
  },
  {
   "cell_type": "code",
   "execution_count": 25,
   "id": "87f08ddd-2ba1-4fd1-88ee-a558e113e979",
   "metadata": {},
   "outputs": [
    {
     "name": "stdout",
     "output_type": "stream",
     "text": [
      "Mathematics, often referred to as math, is the study of numbers, quantities, shapes, and patterns. It involves the use of logic and reasoning to analyze and solve problems related to these concepts. Math is a fundamental subject that is used in various\n"
     ]
    }
   ],
   "source": [
    "full_response = \"\"\n",
    "\n",
    "for completion in response:\n",
    "    word = completion.choices[0].delta.content\n",
    "    # print(word)\n",
    "    if word is None:\n",
    "        word = \"\"\n",
    "    full_response+=word\n",
    "    \n",
    "print(full_response)"
   ]
  },
  {
   "cell_type": "code",
   "execution_count": null,
   "id": "96339591-894e-4da5-9c49-657d3bbb2c11",
   "metadata": {},
   "outputs": [],
   "source": []
  }
 ],
 "metadata": {
  "kernelspec": {
   "display_name": "Python 3 (ipykernel)",
   "language": "python",
   "name": "python3"
  },
  "language_info": {
   "codemirror_mode": {
    "name": "ipython",
    "version": 3
   },
   "file_extension": ".py",
   "mimetype": "text/x-python",
   "name": "python",
   "nbconvert_exporter": "python",
   "pygments_lexer": "ipython3",
   "version": "3.10.13"
  }
 },
 "nbformat": 4,
 "nbformat_minor": 5
}
