{
 "cells": [
  {
   "cell_type": "code",
   "execution_count": 1,
   "id": "3a745572-de10-4245-a618-10c90241a50a",
   "metadata": {},
   "outputs": [],
   "source": [
    "import spacy"
   ]
  },
  {
   "cell_type": "code",
   "execution_count": 2,
   "id": "08a9989a-5701-4c52-9c30-de6988108b0b",
   "metadata": {},
   "outputs": [],
   "source": [
    "# Load the spaCy model\n",
    "nlp = spacy.load(\"en_core_web_sm\")"
   ]
  },
  {
   "cell_type": "code",
   "execution_count": 4,
   "id": "716226f1-32c2-42b0-bb61-65dfdfef714a",
   "metadata": {},
   "outputs": [],
   "source": [
    "text = \"Stephen Curry is a well-known professional basketball player in the United States.\""
   ]
  },
  {
   "cell_type": "code",
   "execution_count": 5,
   "id": "98a274ed-3bc6-489d-ae22-6c58e3b3c56d",
   "metadata": {},
   "outputs": [],
   "source": [
    "doc = nlp(text)"
   ]
  },
  {
   "cell_type": "code",
   "execution_count": 6,
   "id": "6dc9f977-69c7-4585-b65b-a3f77ed862e9",
   "metadata": {},
   "outputs": [
    {
     "data": {
      "text/plain": [
       "Stephen Curry is a well-known professional basketball player in the United States."
      ]
     },
     "execution_count": 6,
     "metadata": {},
     "output_type": "execute_result"
    }
   ],
   "source": [
    "doc"
   ]
  },
  {
   "cell_type": "code",
   "execution_count": 7,
   "id": "faac54cd-5366-4bb8-a6fd-1f887fad34bf",
   "metadata": {},
   "outputs": [
    {
     "data": {
      "text/plain": [
       "(Stephen Curry, the United States)"
      ]
     },
     "execution_count": 7,
     "metadata": {},
     "output_type": "execute_result"
    }
   ],
   "source": [
    "doc.ents"
   ]
  },
  {
   "cell_type": "code",
   "execution_count": 9,
   "id": "e5738e06-56ab-43a5-8a56-5c8642576cee",
   "metadata": {},
   "outputs": [
    {
     "name": "stdout",
     "output_type": "stream",
     "text": [
      "Stephen Curry PERSON\n",
      "the United States GPE\n"
     ]
    }
   ],
   "source": [
    "# Extract entities\n",
    "for ent in doc.ents:\n",
    "    print(ent.text, ent.label_)"
   ]
  },
  {
   "cell_type": "code",
   "execution_count": null,
   "id": "d4b9c453-5d32-4358-9f74-85e8196d10f6",
   "metadata": {},
   "outputs": [],
   "source": []
  }
 ],
 "metadata": {
  "kernelspec": {
   "display_name": "Python 3 (ipykernel)",
   "language": "python",
   "name": "python3"
  },
  "language_info": {
   "codemirror_mode": {
    "name": "ipython",
    "version": 3
   },
   "file_extension": ".py",
   "mimetype": "text/x-python",
   "name": "python",
   "nbconvert_exporter": "python",
   "pygments_lexer": "ipython3",
   "version": "3.9.16"
  }
 },
 "nbformat": 4,
 "nbformat_minor": 5
}
