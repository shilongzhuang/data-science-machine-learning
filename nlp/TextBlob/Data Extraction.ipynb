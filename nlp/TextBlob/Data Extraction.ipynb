{
 "cells": [
  {
   "cell_type": "code",
   "execution_count": 5,
   "id": "ef32af36-9417-4847-87c2-1bc5a8d1c4ff",
   "metadata": {},
   "outputs": [
    {
     "name": "stderr",
     "output_type": "stream",
     "text": [
      "[nltk_data] Downloading package averaged_perceptron_tagger to\n",
      "[nltk_data]     /Users/szhuang/nltk_data...\n",
      "[nltk_data]   Unzipping taggers/averaged_perceptron_tagger.zip.\n"
     ]
    },
    {
     "data": {
      "text/plain": [
       "True"
      ]
     },
     "execution_count": 5,
     "metadata": {},
     "output_type": "execute_result"
    }
   ],
   "source": [
    "import nltk\n",
    "nltk.download('averaged_perceptron_tagger')"
   ]
  },
  {
   "cell_type": "code",
   "execution_count": 16,
   "id": "e768781e-3f0e-4f91-aba8-08e780ae43c2",
   "metadata": {},
   "outputs": [
    {
     "name": "stderr",
     "output_type": "stream",
     "text": [
      "[nltk_data] Downloading package brown to /Users/szhuang/nltk_data...\n",
      "[nltk_data]   Unzipping corpora/brown.zip.\n"
     ]
    },
    {
     "data": {
      "text/plain": [
       "True"
      ]
     },
     "execution_count": 16,
     "metadata": {},
     "output_type": "execute_result"
    }
   ],
   "source": [
    "nltk.download('brown')"
   ]
  },
  {
   "cell_type": "code",
   "execution_count": 6,
   "id": "528d1270-d1af-4592-a068-fa538ea703a4",
   "metadata": {},
   "outputs": [],
   "source": [
    "from textblob import TextBlob"
   ]
  },
  {
   "cell_type": "code",
   "execution_count": 7,
   "id": "9099c360-5ca3-46b2-9648-c3b9f706416f",
   "metadata": {},
   "outputs": [],
   "source": [
    "text = \"Mountain view is a nice city and there are so many good places for visiting.\"\n",
    "nlp = TextBlob(text)"
   ]
  },
  {
   "cell_type": "code",
   "execution_count": 19,
   "id": "36017c88-7ed6-4a6f-8100-058b8037044c",
   "metadata": {},
   "outputs": [],
   "source": [
    "tags = nlp.tags"
   ]
  },
  {
   "cell_type": "code",
   "execution_count": 20,
   "id": "ac7f6e35-4ca5-43b4-ad27-bf28f8f071bb",
   "metadata": {},
   "outputs": [
    {
     "data": {
      "text/plain": [
       "[('Mountain', 'NNP'),\n",
       " ('view', 'NN'),\n",
       " ('is', 'VBZ'),\n",
       " ('a', 'DT'),\n",
       " ('nice', 'JJ'),\n",
       " ('city', 'NN'),\n",
       " ('and', 'CC'),\n",
       " ('there', 'EX'),\n",
       " ('are', 'VBP'),\n",
       " ('so', 'RB'),\n",
       " ('many', 'JJ'),\n",
       " ('good', 'JJ'),\n",
       " ('places', 'NNS'),\n",
       " ('for', 'IN'),\n",
       " ('visiting', 'VBG')]"
      ]
     },
     "execution_count": 20,
     "metadata": {},
     "output_type": "execute_result"
    }
   ],
   "source": [
    "tags"
   ]
  },
  {
   "cell_type": "code",
   "execution_count": 17,
   "id": "b80c209c-cfb7-413d-a69f-1f6862ce359e",
   "metadata": {},
   "outputs": [
    {
     "data": {
      "text/plain": [
       "WordList(['mountain', 'nice city', 'good places'])"
      ]
     },
     "execution_count": 17,
     "metadata": {},
     "output_type": "execute_result"
    }
   ],
   "source": [
    "nlp.noun_phrases"
   ]
  },
  {
   "cell_type": "code",
   "execution_count": 21,
   "id": "dc6736b2-226a-49e6-ac8b-412c6911a94d",
   "metadata": {},
   "outputs": [
    {
     "name": "stdout",
     "output_type": "stream",
     "text": [
      "Verbs: ['is', 'are', 'visiting']\n"
     ]
    }
   ],
   "source": [
    "verbs = [word for word, tag in tags if tag.startswith('VB')]\n",
    "\n",
    "print(\"Verbs:\", verbs)"
   ]
  },
  {
   "cell_type": "code",
   "execution_count": 13,
   "id": "78994ed2-2dbd-49a5-b1b8-c23bc73407cb",
   "metadata": {},
   "outputs": [
    {
     "data": {
      "text/plain": [
       "[WordList(['Mountain', 'view']),\n",
       " WordList(['view', 'is']),\n",
       " WordList(['is', 'a']),\n",
       " WordList(['a', 'nice']),\n",
       " WordList(['nice', 'city']),\n",
       " WordList(['city', 'and']),\n",
       " WordList(['and', 'there']),\n",
       " WordList(['there', 'are']),\n",
       " WordList(['are', 'so']),\n",
       " WordList(['so', 'many']),\n",
       " WordList(['many', 'good']),\n",
       " WordList(['good', 'places']),\n",
       " WordList(['places', 'for']),\n",
       " WordList(['for', 'visiting'])]"
      ]
     },
     "execution_count": 13,
     "metadata": {},
     "output_type": "execute_result"
    }
   ],
   "source": [
    "nlp.ngrams(n=2)"
   ]
  },
  {
   "cell_type": "code",
   "execution_count": 14,
   "id": "1a325dc8-83ce-4de8-a6f8-548d476f6d3c",
   "metadata": {},
   "outputs": [
    {
     "data": {
      "text/plain": [
       "[WordList(['Mountain', 'view', 'is']),\n",
       " WordList(['view', 'is', 'a']),\n",
       " WordList(['is', 'a', 'nice']),\n",
       " WordList(['a', 'nice', 'city']),\n",
       " WordList(['nice', 'city', 'and']),\n",
       " WordList(['city', 'and', 'there']),\n",
       " WordList(['and', 'there', 'are']),\n",
       " WordList(['there', 'are', 'so']),\n",
       " WordList(['are', 'so', 'many']),\n",
       " WordList(['so', 'many', 'good']),\n",
       " WordList(['many', 'good', 'places']),\n",
       " WordList(['good', 'places', 'for']),\n",
       " WordList(['places', 'for', 'visiting'])]"
      ]
     },
     "execution_count": 14,
     "metadata": {},
     "output_type": "execute_result"
    }
   ],
   "source": [
    "nlp.ngrams(n=3)"
   ]
  },
  {
   "cell_type": "code",
   "execution_count": 9,
   "id": "19df8503-63bb-455d-bd66-d0a322d4ccf7",
   "metadata": {},
   "outputs": [],
   "source": [
    "import wikipedia"
   ]
  },
  {
   "cell_type": "code",
   "execution_count": 10,
   "id": "fab64b10-0a3b-4a11-8818-ab41141fea07",
   "metadata": {},
   "outputs": [
    {
     "name": "stdout",
     "output_type": "stream",
     "text": [
      "Japan (Japanese: 日本, [ɲihoɴ] , Nippon or Nihon, and formally 日本国, Nippon-koku or Nihon-koku) is an island country in East Asia. It is in the northwest Pacific Ocean and is bordered on the west by the Sea of Japan, extending from the Sea of Okhotsk in the north toward the East China Sea, Philippine Sea, and Taiwan in the south. Japan is a part of the Ring of Fire, and spans an archipelago of 14,125 islands, with the five main islands being Hokkaido, Honshu (the \"mainland\"), Shikoku, Kyushu, and Okinawa. Tokyo is the country's capital and largest city, followed by Yokohama, Osaka, Nagoya, Sapporo, Fukuoka, Kobe, and Kyoto.\n",
      "Japan has over 125 million inhabitants and is the 11th most populous country in the world, as well as one of the most densely populated. About three-fourths of the country's terrain is mountainous, concentrating its highly urbanized population on narrow coastal plains. Japan is divided into 47 administrative prefectures and eight traditional regions. The Greater Tokyo Area is the most populous metropolitan area in the world. Japan has the world's highest life expectancy, although it is experiencing a population decline due to its very low birth rate.\n",
      "Japan has been inhabited since the Upper Paleolithic period (30,000 BC). Between the fourth and ninth centuries, the kingdoms of Japan became unified under an emperor and the imperial court based in Heian-kyō. Beginning in the 12th century, political power was held by a series of military dictators (shōgun) and feudal lords (daimyō), and enforced by a class of warrior nobility (samurai). After a century-long period of civil war, the country was reunified in 1603 under the Tokugawa shogunate, which enacted an isolationist foreign policy. In 1854, a United States fleet forced Japan to open trade to the West, which led to the end of the shogunate and the restoration of imperial power in 1868. In the Meiji period, the Empire of Japan adopted a Western-modeled constitution, and pursued a program of industrialization and modernization. Amidst a rise in militarism and overseas colonization, Japan invaded China in 1937 and entered World War II as an Axis power in 1941. After suffering defeat in the Pacific War and two atomic bombings, Japan surrendered in 1945 and came under a seven-year Allied occupation, during which it adopted a new constitution.\n",
      "Under the 1947 constitution, Japan has maintained a unitary parliamentary constitutional monarchy with a bicameral legislature, the National Diet. Japan is a developed country and a great power, with one of the largest economies by nominal GDP. Japan has renounced its right to declare war, though it maintains a Self-Defense Force that ranks as one of the world's strongest militaries. A global leader in the automotive, robotics, and electronics industries, the country has made significant contributions to science and technology, and is one of the world's largest exporters and importers. It is part of multiple major international and intergovernmental institutions.\n",
      "Japan is a cultural superpower as the culture of Japan is well known around the world, including its art, cuisine, film, music, and popular culture, which encompasses prominent manga, anime, and video game industries.\n",
      "\n",
      "\n"
     ]
    }
   ],
   "source": [
    "summary = wikipedia.summary(\"Java\")\n",
    "print(summary)"
   ]
  },
  {
   "cell_type": "code",
   "execution_count": 11,
   "id": "fdfbfd9e-61e9-4e9d-abec-39b49c578e78",
   "metadata": {},
   "outputs": [],
   "source": [
    "nlp = TextBlob(summary)"
   ]
  },
  {
   "cell_type": "code",
   "execution_count": 12,
   "id": "5e2f64a1-7e41-4ee7-a77d-c17c6aacc94c",
   "metadata": {},
   "outputs": [
    {
     "data": {
      "text/plain": [
       "WordList(['japan', '[ ɲihoɴ ]', 'nippon', 'nihon', 'nippon-koku', 'nihon-koku', 'island country', 'asia', 'pacific ocean', 'japan', 'okhotsk', 'china', 'philippine sea', 'taiwan', 'japan', 'ring', 'main islands', 'hokkaido', 'honshu', 'shikoku', 'kyushu', 'okinawa', 'tokyo', \"country 's capital\", 'yokohama', 'osaka', 'nagoya', 'sapporo', 'fukuoka', 'kobe', 'kyoto', 'japan', 'populous country', \"country 's terrain\", 'narrow coastal plains', 'japan', 'administrative prefectures', 'traditional regions', 'tokyo', 'populous metropolitan area', 'japan', \"world 's\", 'life expectancy', 'population decline', 'low birth rate', 'japan', 'upper paleolithic', 'bc', 'japan', 'imperial court', 'heian-kyō', 'political power', 'military dictators', 'feudal lords', 'warrior nobility', 'century-long period', 'civil war', 'tokugawa', 'foreign policy', 'japan', 'imperial power', 'meiji', 'japan', 'western-modeled', 'amidst', 'overseas colonization', 'japan', 'china', 'world war', 'ii', 'axis', 'pacific war', 'atomic bombings', 'japan', 'new constitution', 'japan', 'unitary parliamentary', 'constitutional monarchy', 'bicameral legislature', 'diet', 'japan', 'great power', 'gdp', 'japan', 'self-defense', \"world 's\", 'global leader', 'electronics industries', 'significant contributions', \"world 's\", 'intergovernmental institutions', 'japan', 'cultural superpower', 'japan', 'popular culture', 'prominent manga', 'video game industries'])"
      ]
     },
     "execution_count": 12,
     "metadata": {},
     "output_type": "execute_result"
    }
   ],
   "source": [
    "nlp.noun_phrases"
   ]
  },
  {
   "cell_type": "code",
   "execution_count": null,
   "id": "90b0c453-924d-4d4e-8236-9263efd9ba42",
   "metadata": {},
   "outputs": [],
   "source": []
  }
 ],
 "metadata": {
  "kernelspec": {
   "display_name": "Python 3 (ipykernel)",
   "language": "python",
   "name": "python3"
  },
  "language_info": {
   "codemirror_mode": {
    "name": "ipython",
    "version": 3
   },
   "file_extension": ".py",
   "mimetype": "text/x-python",
   "name": "python",
   "nbconvert_exporter": "python",
   "pygments_lexer": "ipython3",
   "version": "3.9.16"
  }
 },
 "nbformat": 4,
 "nbformat_minor": 5
}
