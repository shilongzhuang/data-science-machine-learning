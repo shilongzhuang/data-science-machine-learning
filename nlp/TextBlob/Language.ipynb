{
 "cells": [
  {
   "cell_type": "code",
   "execution_count": 22,
   "id": "76b49097-5c90-4ea4-93b1-16a5745e974d",
   "metadata": {},
   "outputs": [],
   "source": [
    "from textblob import TextBlob"
   ]
  },
  {
   "cell_type": "code",
   "execution_count": 23,
   "id": "cad9f287-7c05-4172-b09b-90b6ef779975",
   "metadata": {},
   "outputs": [],
   "source": [
    "text = \"Today is a nice day. Have a nice day!\""
   ]
  },
  {
   "cell_type": "code",
   "execution_count": 27,
   "id": "b220233b-2c9d-4785-b88e-1236cd440b4c",
   "metadata": {},
   "outputs": [],
   "source": [
    "nlp = TextBlob(text)"
   ]
  },
  {
   "cell_type": "code",
   "execution_count": 32,
   "id": "8d001158-4813-4932-888a-5d52fc4ded7b",
   "metadata": {},
   "outputs": [
    {
     "data": {
      "text/plain": [
       "TextBlob(\"Hoy es un buen día. ¡Que tenga un lindo día!\")"
      ]
     },
     "execution_count": 32,
     "metadata": {},
     "output_type": "execute_result"
    }
   ],
   "source": [
    "nlp.translate(from_lang=\"en\", to=\"es\")"
   ]
  },
  {
   "cell_type": "code",
   "execution_count": 48,
   "id": "c335671e-31d4-4e49-9117-7cce9259a2b4",
   "metadata": {},
   "outputs": [],
   "source": [
    "incorrect_text = \"That is a goood movie!\""
   ]
  },
  {
   "cell_type": "code",
   "execution_count": 49,
   "id": "fb646cc9-5cb7-4cae-a9c0-40ed0b17341a",
   "metadata": {},
   "outputs": [
    {
     "name": "stdout",
     "output_type": "stream",
     "text": [
      "That is a good movie!\n"
     ]
    }
   ],
   "source": [
    "nlp = TextBlob(incorrect_text)\n",
    "print(nlp.correct())  # Output: Corrected text"
   ]
  },
  {
   "cell_type": "code",
   "execution_count": null,
   "id": "af9b829e-51ea-4293-a523-1b442e629ef1",
   "metadata": {},
   "outputs": [],
   "source": []
  }
 ],
 "metadata": {
  "kernelspec": {
   "display_name": "Python 3 (ipykernel)",
   "language": "python",
   "name": "python3"
  },
  "language_info": {
   "codemirror_mode": {
    "name": "ipython",
    "version": 3
   },
   "file_extension": ".py",
   "mimetype": "text/x-python",
   "name": "python",
   "nbconvert_exporter": "python",
   "pygments_lexer": "ipython3",
   "version": "3.9.16"
  }
 },
 "nbformat": 4,
 "nbformat_minor": 5
}
