{
 "cells": [
  {
   "cell_type": "code",
   "execution_count": 31,
   "id": "7dd784c2-fc88-4919-88c2-97a9b27e687a",
   "metadata": {},
   "outputs": [
    {
     "name": "stderr",
     "output_type": "stream",
     "text": [
      "[nltk_data] Downloading package punkt to /Users/szhuang/nltk_data...\n",
      "[nltk_data]   Unzipping tokenizers/punkt.zip.\n"
     ]
    },
    {
     "data": {
      "text/plain": [
       "True"
      ]
     },
     "execution_count": 31,
     "metadata": {},
     "output_type": "execute_result"
    }
   ],
   "source": [
    "import nltk\n",
    "nltk.download('punkt')"
   ]
  },
  {
   "cell_type": "code",
   "execution_count": 1,
   "id": "e10db8fb-8ab4-410c-bc74-ac1fae2c4c30",
   "metadata": {},
   "outputs": [],
   "source": [
    "from textblob import TextBlob"
   ]
  },
  {
   "cell_type": "code",
   "execution_count": 20,
   "id": "f9da5feb-e7e7-4cfb-8666-8c9658e37c56",
   "metadata": {},
   "outputs": [],
   "source": [
    "text = \"TextBlob is amazingly simple to use and it is an awesome and great library!\""
   ]
  },
  {
   "cell_type": "code",
   "execution_count": 21,
   "id": "6501a54c-17f7-47d9-80d5-eab9b7e8f207",
   "metadata": {},
   "outputs": [],
   "source": [
    "nlp = TextBlob(text)"
   ]
  },
  {
   "cell_type": "code",
   "execution_count": 22,
   "id": "b1e6ef67-a1a4-44fe-9d49-61314723be12",
   "metadata": {},
   "outputs": [
    {
     "data": {
      "text/plain": [
       "TextBlob(\"TextBlob is amazingly simple to use and it is an awesome and great library !\")"
      ]
     },
     "execution_count": 22,
     "metadata": {},
     "output_type": "execute_result"
    }
   ],
   "source": [
    "nlp"
   ]
  },
  {
   "cell_type": "code",
   "execution_count": 23,
   "id": "f133ec54-3a3d-440f-984e-a6e0388abbbb",
   "metadata": {},
   "outputs": [],
   "source": [
    "sentiment = nlp.sentiment"
   ]
  },
  {
   "cell_type": "code",
   "execution_count": 24,
   "id": "3b7f7fc2-fa3c-486c-832d-9979a95f6243",
   "metadata": {},
   "outputs": [
    {
     "name": "stdout",
     "output_type": "stream",
     "text": [
      "Polarity: 0.6666666666666666, Subjectivity: 0.7023809523809524\n"
     ]
    }
   ],
   "source": [
    "print(f\"Polarity: {sentiment.polarity}, Subjectivity: {sentiment.subjectivity}\")"
   ]
  },
  {
   "cell_type": "code",
   "execution_count": 27,
   "id": "43515b09-c8f7-4d33-8350-cf3a76258513",
   "metadata": {},
   "outputs": [
    {
     "name": "stdout",
     "output_type": "stream",
     "text": [
      "Text 1: Polarity=0.14, Subjectivity=0.50\n",
      "Text 2: Polarity=0.67, Subjectivity=0.70\n",
      "Text 3: Polarity=-0.30, Subjectivity=0.55\n",
      "Text 4: Polarity=0.10, Subjectivity=0.40\n"
     ]
    }
   ],
   "source": [
    "# Example list of texts\n",
    "texts = [\n",
    "    \"Visit ESPN for live scores, highlights and sports news\",\n",
    "    \"TextBlob is amazingly simple to use and it is an awesome and great library!\",\n",
    "    \"Random means a person or thing that is unknown, unidentified, or suspiciously out of place\",\n",
    "    \"Pizza near me\"\n",
    "]\n",
    "\n",
    "# Analyze sentiment for each text in the list\n",
    "for i, text in enumerate(texts):\n",
    "    nlp = TextBlob(text)\n",
    "    sentiment = nlp.sentiment\n",
    "    print(f\"Text {i+1}: Polarity={sentiment.polarity:.2f}, Subjectivity={sentiment.subjectivity:.2f}\")"
   ]
  },
  {
   "cell_type": "code",
   "execution_count": 28,
   "id": "e9318af0-ac2f-4984-9f6e-c2ccc8c2757e",
   "metadata": {},
   "outputs": [],
   "source": [
    "large_text=\"\"\"\n",
    "The National Basketball Association has completed its visit to London, but you can still catch the best of the action over the rest of the season on Sky Sports.\n",
    "The NBA is known as the most lucrative and prestigious basketball league in the world, with the fame and fortune it offers attracting the best players from around the globe.\n",
    "The NBA boasts a total of 30 teams across two conferences and six divisions. Most areas of the USA are well represented, although the geography of the league is dominated by the Northeast, Upper Midwest and West Coast heartlands. The Toronto Raptors of Canada are the only team based outside the US.\n",
    "Although the origins of the league trace back to 1946, the NBA initials did not come into effect until 1949 following a merger between the Basketball Association of America and the National Basketball League.\n",
    "The two most successful teams in league history are the Boston Celtics and Los Angeles (formerly Minneapolis) Lakers, who have won a total of 17 and 16 titles respectively.\n",
    "\"\"\""
   ]
  },
  {
   "cell_type": "code",
   "execution_count": 34,
   "id": "72a06488-2a80-450a-9bf0-5682b174f4c1",
   "metadata": {},
   "outputs": [
    {
     "name": "stdout",
     "output_type": "stream",
     "text": [
      "Sentence: \n",
      "The National Basketball Association has completed its visit to London, but you can still catch the best of the action over the rest of the season on Sky Sports.\n",
      "Sentiment: Polarity=0.55, Subjectivity=0.2\n",
      "\n",
      "Sentence: The NBA is known as the most lucrative and prestigious basketball league in the world, with the fame and fortune it offers attracting the best players from around the globe.\n",
      "Sentiment: Polarity=0.5333333333333333, Subjectivity=0.26666666666666666\n",
      "\n",
      "Sentence: The NBA boasts a total of 30 teams across two conferences and six divisions.\n",
      "Sentiment: Polarity=0.0, Subjectivity=0.75\n",
      "\n",
      "Sentence: Most areas of the USA are well represented, although the geography of the league is dominated by the Northeast, Upper Midwest and West Coast heartlands.\n",
      "Sentiment: Polarity=0.25, Subjectivity=0.25\n",
      "\n",
      "Sentence: The Toronto Raptors of Canada are the only team based outside the US.\n",
      "Sentiment: Polarity=0.0, Subjectivity=0.525\n",
      "\n",
      "Sentence: Although the origins of the league trace back to 1946, the NBA initials did not come into effect until 1949 following a merger between the Basketball Association of America and the National Basketball League.\n",
      "Sentiment: Polarity=0.0, Subjectivity=0.05\n",
      "\n",
      "Sentence: The two most successful teams in league history are the Boston Celtics and Los Angeles (formerly Minneapolis) Lakers, who have won a total of 17 and 16 titles respectively.\n",
      "Sentiment: Polarity=0.25, Subjectivity=0.4600000000000001\n",
      "\n"
     ]
    }
   ],
   "source": [
    "nlp = TextBlob(large_text)\n",
    "for sentence in nlp.sentences:\n",
    "    sentiment = sentence.sentiment\n",
    "    print(f\"Sentence: {sentence}\\nSentiment: Polarity={sentiment.polarity}, Subjectivity={sentiment.subjectivity}\\n\")"
   ]
  },
  {
   "cell_type": "code",
   "execution_count": 35,
   "id": "459249fe-3f14-4e76-ae23-26fdbd576e8d",
   "metadata": {},
   "outputs": [],
   "source": [
    "import wikipedia"
   ]
  },
  {
   "cell_type": "code",
   "execution_count": 36,
   "id": "67e6acdb-f038-4e38-965e-b605300f6650",
   "metadata": {},
   "outputs": [
    {
     "name": "stdout",
     "output_type": "stream",
     "text": [
      "Japan (Japanese: 日本, [ɲihoɴ] , Nippon or Nihon, and formally 日本国, Nippon-koku or Nihon-koku) is an island country in East Asia. It is in the northwest Pacific Ocean and is bordered on the west by the Sea of Japan, extending from the Sea of Okhotsk in the north toward the East China Sea, Philippine Sea, and Taiwan in the south. Japan is a part of the Ring of Fire, and spans an archipelago of 14,125 islands, with the five main islands being Hokkaido, Honshu (the \"mainland\"), Shikoku, Kyushu, and Okinawa. Tokyo is the country's capital and largest city, followed by Yokohama, Osaka, Nagoya, Sapporo, Fukuoka, Kobe, and Kyoto.\n",
      "Japan has over 125 million inhabitants and is the 11th most populous country in the world, as well as one of the most densely populated. About three-fourths of the country's terrain is mountainous, concentrating its highly urbanized population on narrow coastal plains. Japan is divided into 47 administrative prefectures and eight traditional regions. The Greater Tokyo Area is the most populous metropolitan area in the world. Japan has the world's highest life expectancy, although it is experiencing a population decline due to its very low birth rate.\n",
      "Japan has been inhabited since the Upper Paleolithic period (30,000 BC). Between the fourth and ninth centuries, the kingdoms of Japan became unified under an emperor and the imperial court based in Heian-kyō. Beginning in the 12th century, political power was held by a series of military dictators (shōgun) and feudal lords (daimyō), and enforced by a class of warrior nobility (samurai). After a century-long period of civil war, the country was reunified in 1603 under the Tokugawa shogunate, which enacted an isolationist foreign policy. In 1854, a United States fleet forced Japan to open trade to the West, which led to the end of the shogunate and the restoration of imperial power in 1868. In the Meiji period, the Empire of Japan adopted a Western-modeled constitution, and pursued a program of industrialization and modernization. Amidst a rise in militarism and overseas colonization, Japan invaded China in 1937 and entered World War II as an Axis power in 1941. After suffering defeat in the Pacific War and two atomic bombings, Japan surrendered in 1945 and came under a seven-year Allied occupation, during which it adopted a new constitution.\n",
      "Under the 1947 constitution, Japan has maintained a unitary parliamentary constitutional monarchy with a bicameral legislature, the National Diet. Japan is a developed country and a great power, with one of the largest economies by nominal GDP. Japan has renounced its right to declare war, though it maintains a Self-Defense Force that ranks as one of the world's strongest militaries. A global leader in the automotive, robotics, and electronics industries, the country has made significant contributions to science and technology, and is one of the world's largest exporters and importers. It is part of multiple major international and intergovernmental institutions.\n",
      "Japan is a cultural superpower as the culture of Japan is well known around the world, including its art, cuisine, film, music, and popular culture, which encompasses prominent manga, anime, and video game industries.\n",
      "\n",
      "\n"
     ]
    }
   ],
   "source": [
    "summary = wikipedia.summary(\"Java\")\n",
    "print(summary)"
   ]
  },
  {
   "cell_type": "code",
   "execution_count": 38,
   "id": "edc47fe4-4d5a-4ade-aa30-765615eb8023",
   "metadata": {},
   "outputs": [
    {
     "name": "stdout",
     "output_type": "stream",
     "text": [
      "Sentence: Japan (Japanese: 日本, [ɲihoɴ] , Nippon or Nihon, and formally 日本国, Nippon-koku or Nihon-koku) is an island country in East Asia.\n",
      "Sentiment: Polarity=0.0, Subjectivity=0.0\n",
      "\n",
      "Sentence: It is in the northwest Pacific Ocean and is bordered on the west by the Sea of Japan, extending from the Sea of Okhotsk in the north toward the East China Sea, Philippine Sea, and Taiwan in the south.\n",
      "Sentiment: Polarity=0.0, Subjectivity=0.0\n",
      "\n",
      "Sentence: Japan is a part of the Ring of Fire, and spans an archipelago of 14,125 islands, with the five main islands being Hokkaido, Honshu (the \"mainland\"), Shikoku, Kyushu, and Okinawa.\n",
      "Sentiment: Polarity=0.16666666666666666, Subjectivity=0.3333333333333333\n",
      "\n",
      "Sentence: Tokyo is the country's capital and largest city, followed by Yokohama, Osaka, Nagoya, Sapporo, Fukuoka, Kobe, and Kyoto.\n",
      "Sentiment: Polarity=0.0, Subjectivity=0.0\n",
      "\n",
      "Sentence: Japan has over 125 million inhabitants and is the 11th most populous country in the world, as well as one of the most densely populated.\n",
      "Sentiment: Polarity=0.5, Subjectivity=0.5\n",
      "\n",
      "Sentence: About three-fourths of the country's terrain is mountainous, concentrating its highly urbanized population on narrow coastal plains.\n",
      "Sentiment: Polarity=-0.020000000000000004, Subjectivity=0.47\n",
      "\n",
      "Sentence: Japan is divided into 47 administrative prefectures and eight traditional regions.\n",
      "Sentiment: Polarity=0.0, Subjectivity=0.75\n",
      "\n",
      "Sentence: The Greater Tokyo Area is the most populous metropolitan area in the world.\n",
      "Sentiment: Polarity=0.5, Subjectivity=0.5\n",
      "\n",
      "Sentence: Japan has the world's highest life expectancy, although it is experiencing a population decline due to its very low birth rate.\n",
      "Sentiment: Polarity=-0.0625, Subjectivity=0.3825\n",
      "\n",
      "Sentence: Japan has been inhabited since the Upper Paleolithic period (30,000 BC).\n",
      "Sentiment: Polarity=0.0, Subjectivity=0.0\n",
      "\n",
      "Sentence: Between the fourth and ninth centuries, the kingdoms of Japan became unified under an emperor and the imperial court based in Heian-kyō.\n",
      "Sentiment: Polarity=0.0, Subjectivity=0.0\n",
      "\n",
      "Sentence: Beginning in the 12th century, political power was held by a series of military dictators (shōgun) and feudal lords (daimyō), and enforced by a class of warrior nobility (samurai).\n",
      "Sentiment: Polarity=-0.05, Subjectivity=0.1\n",
      "\n",
      "Sentence: After a century-long period of civil war, the country was reunified in 1603 under the Tokugawa shogunate, which enacted an isolationist foreign policy.\n",
      "Sentiment: Polarity=-0.125, Subjectivity=0.125\n",
      "\n",
      "Sentence: In 1854, a United States fleet forced Japan to open trade to the West, which led to the end of the shogunate and the restoration of imperial power in 1868.\n",
      "Sentiment: Polarity=-0.15000000000000002, Subjectivity=0.35\n",
      "\n",
      "Sentence: In the Meiji period, the Empire of Japan adopted a Western-modeled constitution, and pursued a program of industrialization and modernization.\n",
      "Sentiment: Polarity=0.0, Subjectivity=0.0\n",
      "\n",
      "Sentence: Amidst a rise in militarism and overseas colonization, Japan invaded China in 1937 and entered World War II as an Axis power in 1941.\n",
      "Sentiment: Polarity=0.0, Subjectivity=0.0\n",
      "\n",
      "Sentence: After suffering defeat in the Pacific War and two atomic bombings, Japan surrendered in 1945 and came under a seven-year Allied occupation, during which it adopted a new constitution.\n",
      "Sentiment: Polarity=0.13636363636363635, Subjectivity=0.45454545454545453\n",
      "\n",
      "Sentence: Under the 1947 constitution, Japan has maintained a unitary parliamentary constitutional monarchy with a bicameral legislature, the National Diet.\n",
      "Sentiment: Polarity=0.0, Subjectivity=0.0\n",
      "\n",
      "Sentence: Japan is a developed country and a great power, with one of the largest economies by nominal GDP.\n",
      "Sentiment: Polarity=0.45, Subjectivity=0.525\n",
      "\n",
      "Sentence: Japan has renounced its right to declare war, though it maintains a Self-Defense Force that ranks as one of the world's strongest militaries.\n",
      "Sentiment: Polarity=0.2857142857142857, Subjectivity=0.5357142857142857\n",
      "\n",
      "Sentence: A global leader in the automotive, robotics, and electronics industries, the country has made significant contributions to science and technology, and is one of the world's largest exporters and importers.\n",
      "Sentiment: Polarity=0.1875, Subjectivity=0.4375\n",
      "\n",
      "Sentence: It is part of multiple major international and intergovernmental institutions.\n",
      "Sentiment: Polarity=0.020833333333333332, Subjectivity=0.16666666666666666\n",
      "\n",
      "Sentence: Japan is a cultural superpower as the culture of Japan is well known around the world, including its art, cuisine, film, music, and popular culture, which encompasses prominent manga, anime, and video game industries.\n",
      "Sentiment: Polarity=0.19999999999999998, Subjectivity=0.6\n",
      "\n"
     ]
    }
   ],
   "source": [
    "nlp = TextBlob(summary)\n",
    "for sentence in nlp.sentences:\n",
    "    sentiment = sentence.sentiment\n",
    "    print(f\"Sentence: {sentence}\\nSentiment: Polarity={sentiment.polarity}, Subjectivity={sentiment.subjectivity}\\n\")"
   ]
  },
  {
   "cell_type": "code",
   "execution_count": null,
   "id": "5e771dd7-c92c-44b6-b236-1e2ca1bb36f4",
   "metadata": {},
   "outputs": [],
   "source": []
  }
 ],
 "metadata": {
  "kernelspec": {
   "display_name": "Python 3 (ipykernel)",
   "language": "python",
   "name": "python3"
  },
  "language_info": {
   "codemirror_mode": {
    "name": "ipython",
    "version": 3
   },
   "file_extension": ".py",
   "mimetype": "text/x-python",
   "name": "python",
   "nbconvert_exporter": "python",
   "pygments_lexer": "ipython3",
   "version": "3.9.16"
  }
 },
 "nbformat": 4,
 "nbformat_minor": 5
}
