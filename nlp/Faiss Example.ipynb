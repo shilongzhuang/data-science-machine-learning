{
 "cells": [
  {
   "cell_type": "code",
   "execution_count": 4,
   "id": "5abe117b-93cb-4fc8-ae7d-d23b3170535b",
   "metadata": {},
   "outputs": [],
   "source": [
    "import numpy as np\n",
    "import faiss\n",
    "\n",
    "# Setting the random seed for reproducibility\n",
    "np.random.seed(88)"
   ]
  },
  {
   "cell_type": "code",
   "execution_count": 5,
   "id": "2b2dcb6b-0b6c-4390-9942-cc9e70ea3ee7",
   "metadata": {},
   "outputs": [],
   "source": [
    "# Creating a dataset of 1000 vectors with 64 dimensions\n",
    "num_vectors = 1000\n",
    "vector_dim = 64"
   ]
  },
  {
   "cell_type": "code",
   "execution_count": 6,
   "id": "90f9e58e-b50e-4a9d-a003-7d5685969ce8",
   "metadata": {},
   "outputs": [],
   "source": [
    "db_vectors = np.random.random((num_vectors, vector_dim)).astype('float32')\n",
    "\n",
    "# Creating a query vector\n",
    "query_vector = np.random.random((1, vector_dim)).astype('float32')"
   ]
  },
  {
   "cell_type": "code",
   "execution_count": 7,
   "id": "61db7cd2-2c4b-4a37-acf3-8d716cc44932",
   "metadata": {},
   "outputs": [
    {
     "data": {
      "text/plain": [
       "array([[0.64755106, 0.5071497 , 0.52834135, ..., 0.89293236, 0.0597374 ,\n",
       "        0.16596352],\n",
       "       [0.0370125 , 0.70085347, 0.9966497 , ..., 0.97809684, 0.07735229,\n",
       "        0.34411395],\n",
       "       [0.00221171, 0.6873846 , 0.03402279, ..., 0.7677605 , 0.40615803,\n",
       "        0.07234238],\n",
       "       ...,\n",
       "       [0.04219533, 0.8460225 , 0.13590989, ..., 0.18148737, 0.5640786 ,\n",
       "        0.6647433 ],\n",
       "       [0.1446068 , 0.1664813 , 0.49475384, ..., 0.7136999 , 0.2650777 ,\n",
       "        0.87055534],\n",
       "       [0.31927216, 0.9093262 , 0.8968186 , ..., 0.7877394 , 0.7601802 ,\n",
       "        0.94973785]], dtype=float32)"
      ]
     },
     "execution_count": 7,
     "metadata": {},
     "output_type": "execute_result"
    }
   ],
   "source": [
    "db_vectors"
   ]
  },
  {
   "cell_type": "code",
   "execution_count": 8,
   "id": "a8c3b795-2e34-4df5-9ad7-7dee209bca43",
   "metadata": {},
   "outputs": [
    {
     "data": {
      "text/plain": [
       "(1000, 64)"
      ]
     },
     "execution_count": 8,
     "metadata": {},
     "output_type": "execute_result"
    }
   ],
   "source": [
    "db_vectors.shape"
   ]
  },
  {
   "cell_type": "code",
   "execution_count": 10,
   "id": "16c21e7a-babb-41d2-86bd-b7156e716f5c",
   "metadata": {},
   "outputs": [
    {
     "data": {
      "text/plain": [
       "array([[0.31400743, 0.20235795, 0.1952428 , 0.9761855 , 0.6829989 ,\n",
       "        0.6716703 , 0.82581687, 0.6330991 , 0.76960844, 0.41134247,\n",
       "        0.89307314, 0.43413424, 0.07774563, 0.18471265, 0.5047243 ,\n",
       "        0.14094152, 0.08454581, 0.87242854, 0.26265532, 0.94448763,\n",
       "        0.3709065 , 0.9805211 , 0.04127048, 0.06139353, 0.5346105 ,\n",
       "        0.89920753, 0.73196244, 0.6311586 , 0.1374869 , 0.26610973,\n",
       "        0.66315913, 0.82839036, 0.802124  , 0.02453901, 0.89275545,\n",
       "        0.81412566, 0.13089545, 0.59942186, 0.66198033, 0.68889415,\n",
       "        0.765953  , 0.5186939 , 0.2078947 , 0.9980069 , 0.12278369,\n",
       "        0.00565845, 0.4788319 , 0.24697407, 0.8101637 , 0.29015434,\n",
       "        0.35746095, 0.17347045, 0.31358242, 0.2830172 , 0.26025498,\n",
       "        0.3451227 , 0.6905492 , 0.83278525, 0.7334401 , 0.32210705,\n",
       "        0.6119934 , 0.20553954, 0.47601575, 0.32729968]], dtype=float32)"
      ]
     },
     "execution_count": 10,
     "metadata": {},
     "output_type": "execute_result"
    }
   ],
   "source": [
    "query_vector"
   ]
  },
  {
   "cell_type": "code",
   "execution_count": 9,
   "id": "b1fa7a63-e280-4c4b-96ae-742f1d1a0657",
   "metadata": {},
   "outputs": [
    {
     "data": {
      "text/plain": [
       "(1, 64)"
      ]
     },
     "execution_count": 9,
     "metadata": {},
     "output_type": "execute_result"
    }
   ],
   "source": [
    "query_vector.shape"
   ]
  },
  {
   "cell_type": "code",
   "execution_count": 11,
   "id": "e09845eb-6d08-4e82-8642-dc8ff0c4be8b",
   "metadata": {},
   "outputs": [],
   "source": [
    "# Creating a FAISS index\n",
    "index = faiss.IndexFlatL2(vector_dim)  # Using L2 distance for similarity"
   ]
  },
  {
   "cell_type": "code",
   "execution_count": 12,
   "id": "f51309c6-8eaa-4132-b081-6d5349530c5a",
   "metadata": {},
   "outputs": [
    {
     "data": {
      "text/plain": [
       "<faiss.swigfaiss.IndexFlatL2; proxy of <Swig Object of type 'faiss::IndexFlatL2 *' at 0x12793a5d0> >"
      ]
     },
     "execution_count": 12,
     "metadata": {},
     "output_type": "execute_result"
    }
   ],
   "source": [
    "index"
   ]
  },
  {
   "cell_type": "code",
   "execution_count": 13,
   "id": "e089b467-a7c9-42d7-ad98-5ddacf54e119",
   "metadata": {},
   "outputs": [],
   "source": [
    "# Checking if the GPU version is available, and if so, use it.\n",
    "if faiss.get_num_gpus() > 0:\n",
    "    gpu_index = faiss.index_cpu_to_gpu(faiss.StandardGpuResources(), 0, index)\n",
    "else:\n",
    "    gpu_index = index\n",
    "\n",
    "# Adding the dataset vectors to the index\n",
    "gpu_index.add(db_vectors)"
   ]
  },
  {
   "cell_type": "code",
   "execution_count": 14,
   "id": "f80e5905-7c86-40ba-9a27-44330afc3537",
   "metadata": {},
   "outputs": [
    {
     "data": {
      "text/plain": [
       "<faiss.swigfaiss.IndexFlatL2; proxy of <Swig Object of type 'faiss::IndexFlatL2 *' at 0x12793a5d0> >"
      ]
     },
     "execution_count": 14,
     "metadata": {},
     "output_type": "execute_result"
    }
   ],
   "source": [
    "gpu_index"
   ]
  },
  {
   "cell_type": "code",
   "execution_count": 15,
   "id": "0e2a3501-5e9b-4b58-a811-cd27b2a2ea49",
   "metadata": {},
   "outputs": [],
   "source": [
    "# Searching for the 5 nearest neighbors of the query vector\n",
    "k = 5  # Number of nearest neighbors to find\n",
    "distances, indices = gpu_index.search(query_vector, k)"
   ]
  },
  {
   "cell_type": "code",
   "execution_count": 16,
   "id": "961ddbe4-d771-4521-9d27-47eed9ba4b89",
   "metadata": {},
   "outputs": [
    {
     "name": "stdout",
     "output_type": "stream",
     "text": [
      "Indices of nearest neighbors: [[344 108 229 503 167]]\n",
      "Distances of nearest neighbors: [[6.050267  7.1057186 7.402016  7.4780645 7.4814663]]\n"
     ]
    }
   ],
   "source": [
    "# Displaying the results\n",
    "print(\"Indices of nearest neighbors:\", indices)\n",
    "print(\"Distances of nearest neighbors:\", distances)"
   ]
  },
  {
   "cell_type": "code",
   "execution_count": null,
   "id": "7e5f577b-1928-4d8b-8e8a-90827f7485e2",
   "metadata": {},
   "outputs": [],
   "source": []
  }
 ],
 "metadata": {
  "kernelspec": {
   "display_name": "Python 3 (ipykernel)",
   "language": "python",
   "name": "python3"
  },
  "language_info": {
   "codemirror_mode": {
    "name": "ipython",
    "version": 3
   },
   "file_extension": ".py",
   "mimetype": "text/x-python",
   "name": "python",
   "nbconvert_exporter": "python",
   "pygments_lexer": "ipython3",
   "version": "3.9.16"
  }
 },
 "nbformat": 4,
 "nbformat_minor": 5
}
