{
 "cells": [
  {
   "cell_type": "code",
   "execution_count": 17,
   "id": "eb1b88ab-f1dc-4725-bb1d-6e536940aa5b",
   "metadata": {},
   "outputs": [],
   "source": [
    "from transformers import pipeline"
   ]
  },
  {
   "cell_type": "code",
   "execution_count": 22,
   "id": "60a4483a-ceac-4201-aa5c-d1bbde3947d2",
   "metadata": {},
   "outputs": [
    {
     "name": "stderr",
     "output_type": "stream",
     "text": [
      "Some weights of the model checkpoint at dbmdz/bert-large-cased-finetuned-conll03-english were not used when initializing BertForTokenClassification: ['bert.pooler.dense.bias', 'bert.pooler.dense.weight']\n",
      "- This IS expected if you are initializing BertForTokenClassification from the checkpoint of a model trained on another task or with another architecture (e.g. initializing a BertForSequenceClassification model from a BertForPreTraining model).\n",
      "- This IS NOT expected if you are initializing BertForTokenClassification from the checkpoint of a model that you expect to be exactly identical (initializing a BertForSequenceClassification model from a BertForSequenceClassification model).\n"
     ]
    }
   ],
   "source": [
    "ner_pipeline = pipeline(task=\"ner\", model=\"dbmdz/bert-large-cased-finetuned-conll03-english\")"
   ]
  },
  {
   "cell_type": "code",
   "execution_count": 23,
   "id": "5640f121-d48a-4e86-9428-004b95e7dc6e",
   "metadata": {},
   "outputs": [],
   "source": [
    "text = \"Michael Jordan was a key player for the Chicago Bulls and won 6 NBA championships.\""
   ]
  },
  {
   "cell_type": "code",
   "execution_count": 24,
   "id": "44e5a826-c531-42c8-8f7d-87f814e9b7c7",
   "metadata": {},
   "outputs": [],
   "source": [
    "entities = ner_pipeline(text)"
   ]
  },
  {
   "cell_type": "code",
   "execution_count": 25,
   "id": "0657bf97-6aaf-457b-821c-c56b47bc7f8e",
   "metadata": {},
   "outputs": [
    {
     "data": {
      "text/plain": [
       "[{'entity': 'I-PER',\n",
       "  'score': 0.9995028,\n",
       "  'index': 1,\n",
       "  'word': 'Michael',\n",
       "  'start': 0,\n",
       "  'end': 7},\n",
       " {'entity': 'I-PER',\n",
       "  'score': 0.9995421,\n",
       "  'index': 2,\n",
       "  'word': 'Jordan',\n",
       "  'start': 8,\n",
       "  'end': 14},\n",
       " {'entity': 'I-ORG',\n",
       "  'score': 0.9994923,\n",
       "  'index': 9,\n",
       "  'word': 'Chicago',\n",
       "  'start': 40,\n",
       "  'end': 47},\n",
       " {'entity': 'I-ORG',\n",
       "  'score': 0.9994567,\n",
       "  'index': 10,\n",
       "  'word': 'Bulls',\n",
       "  'start': 48,\n",
       "  'end': 53},\n",
       " {'entity': 'I-MISC',\n",
       "  'score': 0.5658886,\n",
       "  'index': 14,\n",
       "  'word': 'NBA',\n",
       "  'start': 64,\n",
       "  'end': 67}]"
      ]
     },
     "execution_count": 25,
     "metadata": {},
     "output_type": "execute_result"
    }
   ],
   "source": [
    "entities"
   ]
  },
  {
   "cell_type": "code",
   "execution_count": 26,
   "id": "9fe15ca8-be49-4a50-9379-49d15d0671bc",
   "metadata": {},
   "outputs": [
    {
     "name": "stdout",
     "output_type": "stream",
     "text": [
      "['Chicago', 'Bulls']\n"
     ]
    }
   ],
   "source": [
    "orgs = [entity['word'] for entity in entities if entity['entity'] == 'I-ORG']\n",
    "print(orgs)"
   ]
  },
  {
   "cell_type": "code",
   "execution_count": 29,
   "id": "2f0ccfb2-b144-4ae4-9ecc-8ad4263331e4",
   "metadata": {},
   "outputs": [
    {
     "name": "stderr",
     "output_type": "stream",
     "text": [
      "Some weights of the model checkpoint at dbmdz/bert-large-cased-finetuned-conll03-english were not used when initializing BertForTokenClassification: ['bert.pooler.dense.bias', 'bert.pooler.dense.weight']\n",
      "- This IS expected if you are initializing BertForTokenClassification from the checkpoint of a model trained on another task or with another architecture (e.g. initializing a BertForSequenceClassification model from a BertForPreTraining model).\n",
      "- This IS NOT expected if you are initializing BertForTokenClassification from the checkpoint of a model that you expect to be exactly identical (initializing a BertForSequenceClassification model from a BertForSequenceClassification model).\n"
     ]
    }
   ],
   "source": [
    "ner_pipeline = pipeline(task=\"ner\", model=\"dbmdz/bert-large-cased-finetuned-conll03-english\", grouped_entities=True)"
   ]
  },
  {
   "cell_type": "code",
   "execution_count": 30,
   "id": "1117214c-b9db-488f-9294-0590fec2a5b3",
   "metadata": {},
   "outputs": [],
   "source": [
    "text = \"Michael Jordan was a key player for the Chicago Bulls and won 6 NBA championships.\""
   ]
  },
  {
   "cell_type": "code",
   "execution_count": 31,
   "id": "80b3bd6e-eaea-4726-995e-5e78e3954018",
   "metadata": {},
   "outputs": [],
   "source": [
    "entities = ner_pipeline(text)"
   ]
  },
  {
   "cell_type": "code",
   "execution_count": 32,
   "id": "b376e964-53d9-4314-89a7-6a019235be3b",
   "metadata": {},
   "outputs": [
    {
     "data": {
      "text/plain": [
       "[{'entity_group': 'PER',\n",
       "  'score': 0.99952245,\n",
       "  'word': 'Michael Jordan',\n",
       "  'start': 0,\n",
       "  'end': 14},\n",
       " {'entity_group': 'ORG',\n",
       "  'score': 0.9994745,\n",
       "  'word': 'Chicago Bulls',\n",
       "  'start': 40,\n",
       "  'end': 53},\n",
       " {'entity_group': 'MISC',\n",
       "  'score': 0.5658886,\n",
       "  'word': 'NBA',\n",
       "  'start': 64,\n",
       "  'end': 67}]"
      ]
     },
     "execution_count": 32,
     "metadata": {},
     "output_type": "execute_result"
    }
   ],
   "source": [
    "entities"
   ]
  },
  {
   "cell_type": "code",
   "execution_count": 36,
   "id": "695ad662-38f7-4ac9-a0b4-aaf1897566fb",
   "metadata": {},
   "outputs": [
    {
     "name": "stdout",
     "output_type": "stream",
     "text": [
      "['Chicago Bulls']\n"
     ]
    }
   ],
   "source": [
    "orgs = [entity['word'] for entity in entities if entity['entity_group'] == 'ORG']\n",
    "print(orgs)"
   ]
  },
  {
   "cell_type": "code",
   "execution_count": null,
   "id": "ab9a411a-5373-4e4c-a304-b1f7c3877aa4",
   "metadata": {},
   "outputs": [],
   "source": []
  }
 ],
 "metadata": {
  "kernelspec": {
   "display_name": "Python 3 (ipykernel)",
   "language": "python",
   "name": "python3"
  },
  "language_info": {
   "codemirror_mode": {
    "name": "ipython",
    "version": 3
   },
   "file_extension": ".py",
   "mimetype": "text/x-python",
   "name": "python",
   "nbconvert_exporter": "python",
   "pygments_lexer": "ipython3",
   "version": "3.9.16"
  }
 },
 "nbformat": 4,
 "nbformat_minor": 5
}
