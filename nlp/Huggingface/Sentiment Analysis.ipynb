{
 "cells": [
  {
   "cell_type": "code",
   "execution_count": 3,
   "id": "dde489bd-8fc0-45fc-807f-3044be8a86da",
   "metadata": {},
   "outputs": [],
   "source": [
    "from transformers import pipeline"
   ]
  },
  {
   "cell_type": "code",
   "execution_count": 4,
   "id": "e400a128-4e4a-4455-9523-e38aaddbf2ca",
   "metadata": {},
   "outputs": [],
   "source": [
    "sentiment_pipeline = pipeline(\"sentiment-analysis\", model=\"finiteautomata/bertweet-base-sentiment-analysis\")"
   ]
  },
  {
   "cell_type": "code",
   "execution_count": 5,
   "id": "ddcb64fb-d138-4dcb-a600-128124cdf118",
   "metadata": {},
   "outputs": [
    {
     "data": {
      "text/plain": [
       "[{'label': 'NEU', 'score': 0.8298138976097107},\n",
       " {'label': 'POS', 'score': 0.5692296028137207}]"
      ]
     },
     "execution_count": 5,
     "metadata": {},
     "output_type": "execute_result"
    }
   ],
   "source": [
    "data = [\n",
    "    \"I would like to pay the product monthly.\", \n",
    "    \"I am hoping to take the bus soon\"\n",
    "]\n",
    "sentiment_pipeline(data)"
   ]
  },
  {
   "cell_type": "code",
   "execution_count": 8,
   "id": "83c77b70-a297-493f-bc50-9475f6ae248b",
   "metadata": {},
   "outputs": [],
   "source": [
    "import math\n",
    "from transformers import GPT2LMHeadModel, GPT2Tokenizer, GPT2Model\n",
    "from transformers import DistilBertTokenizer, DistilBertForSequenceClassification"
   ]
  },
  {
   "cell_type": "code",
   "execution_count": 13,
   "id": "5093290e-734c-4bf1-97d6-ec0fa490f539",
   "metadata": {},
   "outputs": [],
   "source": [
    "def sigmoid(x):\n",
    "    return 1 / (1 + math.exp(-x))"
   ]
  },
  {
   "cell_type": "code",
   "execution_count": 10,
   "id": "66e5a75e-559e-4d4b-a3a8-c1f858443ea7",
   "metadata": {},
   "outputs": [],
   "source": [
    "model_name = \"distilbert-base-uncased-finetuned-sst-2-english\"\n",
    "tokenizer = DistilBertTokenizer.from_pretrained(model_name)\n",
    "model = DistilBertForSequenceClassification.from_pretrained(model_name)"
   ]
  },
  {
   "cell_type": "code",
   "execution_count": 24,
   "id": "afc3b665-daf9-4064-b8bd-2cb337606db4",
   "metadata": {},
   "outputs": [
    {
     "data": {
      "text/plain": [
       "SequenceClassifierOutput(loss=None, logits=tensor([[-4.2386,  4.6107]], grad_fn=<AddmmBackward0>), hidden_states=None, attentions=None)"
      ]
     },
     "execution_count": 24,
     "metadata": {},
     "output_type": "execute_result"
    }
   ],
   "source": [
    "sentence = \"The weather is good today\"\n",
    "            \n",
    "inputs = tokenizer(sentence, return_tensors=\"pt\")\n",
    "\n",
    "outputs = model(**inputs)\n",
    "outputs"
   ]
  },
  {
   "cell_type": "code",
   "execution_count": 25,
   "id": "79ef9a40-7027-4736-a45c-c3b76dd374ed",
   "metadata": {},
   "outputs": [
    {
     "data": {
      "text/plain": [
       "4.610701560974121"
      ]
     },
     "execution_count": 25,
     "metadata": {},
     "output_type": "execute_result"
    }
   ],
   "source": [
    "logits = outputs.logits\n",
    "score = logits[0][1].item()\n",
    "score"
   ]
  },
  {
   "cell_type": "code",
   "execution_count": 26,
   "id": "d91697df-e618-4de9-91a2-fb9cec0cd622",
   "metadata": {},
   "outputs": [
    {
     "data": {
      "text/plain": [
       "0.9901530870147717"
      ]
     },
     "execution_count": 26,
     "metadata": {},
     "output_type": "execute_result"
    }
   ],
   "source": [
    "sigmoid(score)"
   ]
  },
  {
   "cell_type": "code",
   "execution_count": 27,
   "id": "3ecbdb78-dd78-4331-b462-726caeff8354",
   "metadata": {},
   "outputs": [
    {
     "data": {
      "text/plain": [
       "SequenceClassifierOutput(loss=None, logits=tensor([[ 4.4967, -3.6395]], grad_fn=<AddmmBackward0>), hidden_states=None, attentions=None)"
      ]
     },
     "execution_count": 27,
     "metadata": {},
     "output_type": "execute_result"
    }
   ],
   "source": [
    "sentence = \"The weather is bad today\"\n",
    "            \n",
    "inputs = tokenizer(sentence, return_tensors=\"pt\")\n",
    "\n",
    "outputs = model(**inputs)\n",
    "outputs"
   ]
  },
  {
   "cell_type": "code",
   "execution_count": 28,
   "id": "7ec8b631-e6c8-4e17-a7ce-409164db531b",
   "metadata": {},
   "outputs": [
    {
     "data": {
      "text/plain": [
       "-3.6394920349121094"
      ]
     },
     "execution_count": 28,
     "metadata": {},
     "output_type": "execute_result"
    }
   ],
   "source": [
    "logits = outputs.logits\n",
    "score = logits[0][1].item()\n",
    "score"
   ]
  },
  {
   "cell_type": "code",
   "execution_count": 29,
   "id": "0729f177-f25e-4860-9794-075ee1ccf714",
   "metadata": {},
   "outputs": [
    {
     "data": {
      "text/plain": [
       "0.0255934531106546"
      ]
     },
     "execution_count": 29,
     "metadata": {},
     "output_type": "execute_result"
    }
   ],
   "source": [
    "sigmoid(score)"
   ]
  },
  {
   "cell_type": "code",
   "execution_count": 38,
   "id": "4685c94c-8d61-470f-ad97-ea04f532c852",
   "metadata": {},
   "outputs": [
    {
     "data": {
      "text/plain": [
       "SequenceClassifierOutput(loss=None, logits=tensor([[-2.1305,  2.2085]], grad_fn=<AddmmBackward0>), hidden_states=None, attentions=None)"
      ]
     },
     "execution_count": 38,
     "metadata": {},
     "output_type": "execute_result"
    }
   ],
   "source": [
    "sentence = \"The weather today is like yesterday\"\n",
    "            \n",
    "inputs = tokenizer(sentence, return_tensors=\"pt\")\n",
    "\n",
    "outputs = model(**inputs)\n",
    "outputs"
   ]
  },
  {
   "cell_type": "code",
   "execution_count": 39,
   "id": "7b2f2e5e-e045-4ff9-9084-4d0a769438e8",
   "metadata": {},
   "outputs": [
    {
     "data": {
      "text/plain": [
       "2.208482265472412"
      ]
     },
     "execution_count": 39,
     "metadata": {},
     "output_type": "execute_result"
    }
   ],
   "source": [
    "logits = outputs.logits\n",
    "score = logits[0][1].item()\n",
    "score"
   ]
  },
  {
   "cell_type": "code",
   "execution_count": 40,
   "id": "fd362392-91bb-4057-a0a4-d6b6c1af6ad6",
   "metadata": {},
   "outputs": [
    {
     "data": {
      "text/plain": [
       "0.901008639301065"
      ]
     },
     "execution_count": 40,
     "metadata": {},
     "output_type": "execute_result"
    }
   ],
   "source": [
    "sigmoid(score)"
   ]
  },
  {
   "cell_type": "code",
   "execution_count": null,
   "id": "8b4af4d9-1a88-46a5-a32b-bd0e27a2dc2b",
   "metadata": {},
   "outputs": [],
   "source": []
  }
 ],
 "metadata": {
  "kernelspec": {
   "display_name": "Python 3 (ipykernel)",
   "language": "python",
   "name": "python3"
  },
  "language_info": {
   "codemirror_mode": {
    "name": "ipython",
    "version": 3
   },
   "file_extension": ".py",
   "mimetype": "text/x-python",
   "name": "python",
   "nbconvert_exporter": "python",
   "pygments_lexer": "ipython3",
   "version": "3.9.16"
  }
 },
 "nbformat": 4,
 "nbformat_minor": 5
}
